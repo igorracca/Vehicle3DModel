{
 "cells": [
  {
   "cell_type": "code",
   "execution_count": 1,
   "metadata": {},
   "outputs": [],
   "source": [
    "import torch\n",
    "from torch import nn, optim\n",
    "import datetime\n",
    "import os\n",
    "import numpy as np\n",
    "import scipy.io as sio\n",
    "import torch\n",
    "from torch import nn, optim\n",
    "from tqdm import tqdm\n",
    "from tqdm import trange\n",
    "import matplotlib.pyplot as plt\n",
    "import torchvision.models\n",
    "import hiddenlayer as hl"
   ]
  },
  {
   "cell_type": "code",
   "execution_count": 2,
   "metadata": {},
   "outputs": [],
   "source": [
    "# Check GPU Availability\n",
    "\n",
    "haveCuda = torch.cuda.is_available()\n",
    "#print(haveCuda)"
   ]
  },
  {
   "cell_type": "code",
   "execution_count": 3,
   "metadata": {
    "pixiedust": {
     "displayParams": {}
    }
   },
   "outputs": [],
   "source": [
    "# NN definition\n",
    "\n",
    "class CarBadnessGuesser(nn.Module):\n",
    "    def __init__(self):\n",
    "        super(CarBadnessGuesser, self).__init__()\n",
    "\n",
    "        #self.dataset = read_data()\n",
    "        #self.valid_freq = 10\n",
    "\n",
    "        self.model = nn.Sequential(\n",
    "            nn.Conv3d(in_channels=1, out_channels=3, kernel_size=(10, 5, 5), stride=(10, 5, 5)),\n",
    "            nn.BatchNorm3d(3),\n",
    "            nn.Conv3d(in_channels=3, out_channels=2, kernel_size=5),\n",
    "            nn.BatchNorm3d(2),\n",
    "            nn.Conv3d(in_channels=2, out_channels=1, kernel_size=3),\n",
    "            nn.BatchNorm3d(1),\n",
    "            nn.AdaptiveMaxPool3d((1, 1, 10)),\n",
    "        )\n",
    "        \n",
    "        self.linear = nn.Sequential(\n",
    "            nn.Linear(in_features=10, out_features=5),\n",
    "            nn.ReLU(),\n",
    "            nn.Linear(in_features=5, out_features=1),\n",
    "            nn.Sigmoid()\n",
    "        )\n",
    "        if haveCuda:\n",
    "            self.linear.cuda()\n",
    "            self.model.cuda()  \n",
    "    \n",
    "    def forward(self, x):\n",
    "        conv_out = self.model(x.unsqueeze(0).unsqueeze(0))\n",
    "        return self.linear(conv_out.squeeze(-2).squeeze(-2))"
   ]
  },
  {
   "cell_type": "code",
   "execution_count": 4,
   "metadata": {
    "pixiedust": {
     "displayParams": {}
    }
   },
   "outputs": [],
   "source": [
    "# Read data (returns datadict)\n",
    "\n",
    "def read_data(base_path='./Data',split_size=[0.4, 0.4, 0.2]):  \n",
    "    #  the split_size gives how much \n",
    "    #  of the data goes to the train/test.\n",
    "    \"\"\"\n",
    "    Reads all of the .mat files in the given base_path, and returns a dict with the data found there.\n",
    "    :param split_size:\n",
    "    :param base_path: The directory that should be read in.\n",
    "    :return: a dict, containing the EES and difference tensors.\n",
    "    \"\"\"\n",
    "    i = 0\n",
    "    for file in os.listdir(base_path):\n",
    "        i = i + 1\n",
    "    pbar = tqdm(total=i)\n",
    "\n",
    "    data_dict = {}\n",
    "    for file in os.listdir(base_path):\n",
    "        num, data_type = file.split('_')\n",
    "        data_type = data_type.split('.')[0]\n",
    "        num = int(num)\n",
    "        if \"EES\" in data_type:\n",
    "            tensor_in = sio.loadmat(os.path.join(base_path, file))['EES_value']\n",
    "            tensor_in = torch.FloatTensor(tensor_in).squeeze(0)\n",
    "        else:\n",
    "            tensor_in = sio.loadmat(os.path.join(base_path, file))['Kulonbseg']\n",
    "            tensor_in = torch.FloatTensor(tensor_in)\n",
    "            \n",
    "        try:\n",
    "            data_dict[num][data_type] = tensor_in\n",
    "        except KeyError:\n",
    "            data_dict[num] = {data_type: tensor_in}\n",
    "        pbar.update()\n",
    "    pbar.close()\n",
    "\n",
    "    new_data = []\n",
    "    for key in data_dict.keys():\n",
    "        new_data.append(data_dict[key])\n",
    "    if isinstance(split_size, list):\n",
    "        training_samples = int(split_size[0] * len(new_data))\n",
    "        valid_samples = int(split_size[1] * len(new_data))\n",
    "        test_samples = int(split_size[2] * len(new_data))\n",
    "        while sum([training_samples, valid_samples, test_samples]) != len(new_data):\n",
    "            training_samples += 1\n",
    "        new_datadict = {'train': new_data[:training_samples],\n",
    "                        'validation': new_data[training_samples:training_samples + valid_samples],\n",
    "                        'test': new_data[-test_samples:]}\n",
    "    else:\n",
    "        new_datadict = {'train': new_data,\n",
    "                        'validation': new_data,\n",
    "                        'test': new_data}\n",
    "    \n",
    "    print(\"Data loaded\")\n",
    "    return new_datadict"
   ]
  },
  {
   "cell_type": "code",
   "execution_count": 5,
   "metadata": {},
   "outputs": [
    {
     "name": "stderr",
     "output_type": "stream",
     "text": [
      "100%|██████████| 100/100 [00:11<00:00,  8.78it/s]\n"
     ]
    },
    {
     "name": "stdout",
     "output_type": "stream",
     "text": [
      "Data loaded\n"
     ]
    }
   ],
   "source": [
    "# Dataset\n",
    "data = read_data()\n",
    "\n",
    "trainSet = data['train']\n",
    "testSet = data['test']\n",
    "# Dataloaders are responsible for giving random (if shuffle is true) minibatches\n",
    "trainLoader = torch.utils.data.DataLoader(trainSet, batch_size=4, shuffle=True)\n",
    "testLoader = torch.utils.data.DataLoader(testSet, batch_size=4, shuffle=False)\n"
   ]
  },
  {
   "cell_type": "code",
   "execution_count": 6,
   "metadata": {},
   "outputs": [],
   "source": [
    "# Create Loss\n",
    "\n",
    "def createLoss():\n",
    "    return nn.MSELoss()"
   ]
  },
  {
   "cell_type": "code",
   "execution_count": 7,
   "metadata": {},
   "outputs": [],
   "source": [
    "# Create Learning Rate Scheduler\n",
    "\n",
    "# Run for 50 epochs - 1 epoch means the networks sees every training image once\n",
    "numEpoch = 50\n",
    "\n",
    "# Cosine annealing learning rate scheduler - in 50 epochs the lr will become 0.01\n",
    "def createScheduler():\n",
    "    return optim.lr_scheduler.CosineAnnealingLR(optimizer,numEpoch,eta_min=1e-2)"
   ]
  },
  {
   "cell_type": "code",
   "execution_count": 8,
   "metadata": {},
   "outputs": [],
   "source": [
    " # create Optimizer\n",
    "    \n",
    "# Run for 50 epochs - 1 epoch means the networks sees every training image once\n",
    "numEpoch = 50    \n",
    "    \n",
    "def createOptimizer(self):\n",
    "    return optim.Adam(list(self.model.parameters()) + list(self.linear.parameters()), lr=1e-4)"
   ]
  },
  {
   "cell_type": "code",
   "execution_count": 9,
   "metadata": {},
   "outputs": [],
   "source": [
    "# Create network\n",
    "\n",
    "# Instantiate network and convert it to CUDA\n",
    "def createNet():\n",
    "    net = CarBadnessGuesser()\n",
    "    if haveCuda:\n",
    "        net = net.cuda()\n",
    "    return net"
   ]
  },
  {
   "cell_type": "code",
   "execution_count": 10,
   "metadata": {},
   "outputs": [],
   "source": [
    "from IPython.display import HTML, display\n",
    "\n",
    "def progress(value, max=100):\n",
    "    return HTML(\"\"\"\n",
    "        <progress\n",
    "            value='{value}'\n",
    "            max='{max}',\n",
    "            style='width: 100%'\n",
    "        >\n",
    "            {value}\n",
    "        </progress>\n",
    "    \"\"\".format(value=value, max=max))"
   ]
  },
  {
   "cell_type": "code",
   "execution_count": 11,
   "metadata": {},
   "outputs": [],
   "source": [
    "# Training\n",
    "\n",
    "# Function for training a single epoch\n",
    "def train(epoch):\n",
    "    print('training')\n",
    "    # variables for loss\n",
    "    running_loss = 0.0\n",
    "    correct = 0.0\n",
    "    total = 0\n",
    "\n",
    "    # set the network to train (for batchnorm and dropout)\n",
    "    net.train()\n",
    "\n",
    "    # Create progress bar\n",
    "    bar = display(progress(0, len(trainLoader)), display_id=True)\n",
    "    \n",
    "    # data will contain one minibatch of images and correcponding labels\n",
    "    # When the iteration is finished we have seen every training image once\n",
    "    for i, data in enumerate(trainLoader, 0):\n",
    "        for j in range(0, len(data['KUL'])):\n",
    "            # get the inputslen\n",
    "            inputs, labels = data['KUL'][j], data['EES'][j]\n",
    "\n",
    "            # Convert to cuda\n",
    "            if haveCuda:\n",
    "                inputs, labels = inputs.cuda(), labels.cuda()\n",
    "\n",
    "            # Clear any previous gradients\n",
    "            optimizer.zero_grad()\n",
    "            # Forward\n",
    "            outputs = net(inputs)\n",
    "            # Loss\n",
    "            loss = criterion(outputs, labels)\n",
    "            print('training- ', 'y^', outputs.item(), 'y', labels)\n",
    "            # Backpropagation\n",
    "            loss.backward()\n",
    "            # Gradient method\n",
    "            optimizer.step()\n",
    "            \n",
    "            # Do not include these steps in the computational graph\n",
    "            with torch.no_grad():\n",
    "                # Accumulate loss\n",
    "                running_loss += loss.item()\n",
    "                # Get indices of the largest goodness values\n",
    "                _, predicted = torch.max(outputs, 1)\n",
    "                # Count how many of the predictions equal the labels\n",
    "                correct += predicted.eq(labels).sum().item()\n",
    "                # Accumulate number of total images seen\n",
    "                total += labels.size(0)\n",
    "\n",
    "            # Progress bar\n",
    "            bar.update(progress(i+1, len(trainLoader)))    \n",
    "    \n",
    "     # return loss and accuracy\n",
    "    tr_loss = running_loss / i\n",
    "    tr_corr = correct / total * 100\n",
    "    print(\"Train epoch %d loss: %.3f correct: %.2f\" % (epoch + 1, running_loss / i, tr_corr))\n",
    "    return tr_loss,tr_corr      "
   ]
  },
  {
   "cell_type": "code",
   "execution_count": 12,
   "metadata": {},
   "outputs": [],
   "source": [
    "#Validation\n",
    "\n",
    "# Function for validating a single epoch\n",
    "def val(epoch):\n",
    "    \n",
    "    # variables for loss\n",
    "    running_loss = 0.0\n",
    "    correct = 0.0\n",
    "    total = 0\n",
    "    \n",
    "    # set the network to eval  (for batchnorm and dropout)\n",
    "    net.eval()\n",
    "    \n",
    "    # Create progress bar\n",
    "    bar = display(progress(0, len(testLoader)), display_id=True)\n",
    "    \n",
    "    for i, data in enumerate(testLoader, 0):\n",
    "            for j in range(0, len(data['KUL'])):\n",
    "                # get the inputs\n",
    "                inputs, labels = data['KUL'][j], data['EES'][j]\n",
    "\n",
    "                # Convert to cuda\n",
    "                if haveCuda:\n",
    "                    inputs, labels = inputs.cuda(), labels.cuda()\n",
    "\n",
    "                # Do not include these steps in the computational graph\n",
    "                with torch.no_grad():\n",
    "                    # Forward\n",
    "                    outputs = net(inputs)\n",
    "                    # Compute loss\n",
    "                    loss = criterion(outputs, labels)\n",
    "                    print('Validation', outputs, labels, loss)\n",
    "                    # Compute statistics, just like before\n",
    "                    running_loss += loss.item()\n",
    "                    _, predicted = torch.max(outputs, 1)\n",
    "                    correct += predicted.eq(labels).sum().item()\n",
    "                    total += labels.size(0)\n",
    "\n",
    "                bar.update(progress(i+1, len(testLoader)))\n",
    "\n",
    "    # return loss and accuracy\n",
    "    val_loss = running_loss / i\n",
    "    val_corr = correct / total * 100\n",
    "    print(\"Test epoch %d loss: %.3f correct: %.2f\" % (epoch + 1, running_loss / i, val_corr))\n",
    "    return val_loss,val_corr"
   ]
  },
  {
   "cell_type": "code",
   "execution_count": 13,
   "metadata": {},
   "outputs": [
    {
     "name": "stdout",
     "output_type": "stream",
     "text": [
      "training\n"
     ]
    },
    {
     "data": {
      "text/html": [
       "\n",
       "        <progress\n",
       "            value='5'\n",
       "            max='5',\n",
       "            style='width: 100%'\n",
       "        >\n",
       "            5\n",
       "        </progress>\n",
       "    "
      ],
      "text/plain": [
       "<IPython.core.display.HTML object>"
      ]
     },
     "metadata": {},
     "output_type": "display_data"
    },
    {
     "name": "stderr",
     "output_type": "stream",
     "text": [
      "C:\\Users\\igorr\\Anaconda3\\lib\\site-packages\\torch\\nn\\modules\\loss.py:431: UserWarning: Using a target size (torch.Size([1])) that is different to the input size (torch.Size([1, 1, 1])). This will likely lead to incorrect results due to broadcasting. Please ensure they have the same size.\n",
      "  return F.mse_loss(input, target, reduction=self.reduction)\n"
     ]
    },
    {
     "name": "stdout",
     "output_type": "stream",
     "text": [
      "training-  y^ 0.32052743434906006 y tensor([0.5009], device='cuda:0')\n",
      "training-  y^ 0.3202616274356842 y tensor([18.9842], device='cuda:0')\n",
      "training-  y^ 0.3458858132362366 y tensor([1.3184], device='cuda:0')\n",
      "training-  y^ 0.35124391317367554 y tensor([10.6966], device='cuda:0')\n",
      "training-  y^ 0.3607039153575897 y tensor([11.4718], device='cuda:0')\n",
      "training-  y^ 0.3523189425468445 y tensor([40.6911], device='cuda:0')\n",
      "training-  y^ 0.37789657711982727 y tensor([3.6421], device='cuda:0')\n",
      "training-  y^ 0.37425732612609863 y tensor([40.3548], device='cuda:0')\n",
      "training-  y^ 0.33504682779312134 y tensor([54.6192], device='cuda:0')\n",
      "training-  y^ 0.38331058621406555 y tensor([2.9321], device='cuda:0')\n",
      "training-  y^ 0.3884999752044678 y tensor([0.0554], device='cuda:0')\n",
      "training-  y^ 0.39251089096069336 y tensor([0.2980], device='cuda:0')\n",
      "training-  y^ 0.3963482975959778 y tensor([0.0672], device='cuda:0')\n",
      "training-  y^ 0.3766365647315979 y tensor([53.0057], device='cuda:0')\n",
      "training-  y^ 0.4010176658630371 y tensor([16.1647], device='cuda:0')\n",
      "training-  y^ 0.40690192580223083 y tensor([0.5626], device='cuda:0')\n",
      "training-  y^ 0.4098777174949646 y tensor([0.5208], device='cuda:0')\n",
      "training-  y^ 0.4358973801136017 y tensor([11.8645], device='cuda:0')\n",
      "training-  y^ 0.41613903641700745 y tensor([0.1216], device='cuda:0')\n",
      "training-  y^ 0.4187060296535492 y tensor([0.0211], device='cuda:0')\n",
      "Train epoch 1 loss: 2479.706 correct: 0.00\n"
     ]
    },
    {
     "data": {
      "text/html": [
       "\n",
       "        <progress\n",
       "            value='3'\n",
       "            max='3',\n",
       "            style='width: 100%'\n",
       "        >\n",
       "            3\n",
       "        </progress>\n",
       "    "
      ],
      "text/plain": [
       "<IPython.core.display.HTML object>"
      ]
     },
     "metadata": {},
     "output_type": "display_data"
    },
    {
     "name": "stdout",
     "output_type": "stream",
     "text": [
      "Validation tensor([[[0.4245]]], device='cuda:0') tensor([28.6163], device='cuda:0') tensor(794.7739, device='cuda:0')\n",
      "Validation tensor([[[0.4079]]], device='cuda:0') tensor([22.7598], device='cuda:0') tensor(499.6061, device='cuda:0')\n",
      "Validation tensor([[[0.4263]]], device='cuda:0') tensor([20.2541], device='cuda:0') tensor(393.1381, device='cuda:0')\n",
      "Validation tensor([[[0.4392]]], device='cuda:0') tensor([5.3968], device='cuda:0') tensor(24.5777, device='cuda:0')\n",
      "Validation tensor([[[0.4151]]], device='cuda:0') tensor([21.1160], device='cuda:0') tensor(428.5269, device='cuda:0')\n",
      "Validation tensor([[[0.4173]]], device='cuda:0') tensor([51.7093], device='cuda:0') tensor(2630.8767, device='cuda:0')\n",
      "Validation tensor([[[0.4336]]], device='cuda:0') tensor([12.7589], device='cuda:0') tensor(151.9128, device='cuda:0')\n",
      "Validation tensor([[[0.4219]]], device='cuda:0') tensor([21.5135], device='cuda:0') tensor(444.8568, device='cuda:0')\n",
      "Validation tensor([[[0.4220]]], device='cuda:0') tensor([36.8525], device='cuda:0') tensor(1327.1827, device='cuda:0')\n",
      "Validation tensor([[[0.4334]]], device='cuda:0') tensor([17.6826], device='cuda:0') tensor(297.5364, device='cuda:0')\n",
      "Test epoch 1 loss: 3496.494 correct: 0.00\n",
      "training\n"
     ]
    },
    {
     "data": {
      "text/html": [
       "\n",
       "        <progress\n",
       "            value='5'\n",
       "            max='5',\n",
       "            style='width: 100%'\n",
       "        >\n",
       "            5\n",
       "        </progress>\n",
       "    "
      ],
      "text/plain": [
       "<IPython.core.display.HTML object>"
      ]
     },
     "metadata": {},
     "output_type": "display_data"
    },
    {
     "name": "stdout",
     "output_type": "stream",
     "text": [
      "training-  y^ 0.42765793204307556 y tensor([3.6421], device='cuda:0')\n",
      "training-  y^ 0.3817719519138336 y tensor([54.6192], device='cuda:0')\n",
      "training-  y^ 0.42606645822525024 y tensor([0.0672], device='cuda:0')\n",
      "training-  y^ 0.42872822284698486 y tensor([0.5009], device='cuda:0')\n",
      "training-  y^ 0.4307267367839813 y tensor([2.9321], device='cuda:0')\n",
      "training-  y^ 0.43623095750808716 y tensor([10.6966], device='cuda:0')\n",
      "training-  y^ 0.4359543025493622 y tensor([0.1216], device='cuda:0')\n",
      "training-  y^ 0.4190123975276947 y tensor([53.0057], device='cuda:0')\n",
      "training-  y^ 0.43409422039985657 y tensor([16.1647], device='cuda:0')\n",
      "training-  y^ 0.44337257742881775 y tensor([0.5208], device='cuda:0')\n",
      "training-  y^ 0.44308286905288696 y tensor([40.3548], device='cuda:0')\n",
      "training-  y^ 0.4531567692756653 y tensor([11.4718], device='cuda:0')\n",
      "training-  y^ 0.451143741607666 y tensor([0.0211], device='cuda:0')\n",
      "training-  y^ 0.4534979462623596 y tensor([0.2980], device='cuda:0')\n",
      "training-  y^ 0.4732818305492401 y tensor([11.8645], device='cuda:0')\n",
      "training-  y^ 0.47401320934295654 y tensor([40.6911], device='cuda:0')\n",
      "training-  y^ 0.46043089032173157 y tensor([1.3184], device='cuda:0')\n",
      "training-  y^ 0.43167343735694885 y tensor([18.9842], device='cuda:0')\n",
      "training-  y^ 0.46410465240478516 y tensor([0.5626], device='cuda:0')\n",
      "training-  y^ 0.4658525586128235 y tensor([0.0554], device='cuda:0')\n",
      "Train epoch 2 loss: 2470.866 correct: 0.00\n"
     ]
    },
    {
     "data": {
      "text/html": [
       "\n",
       "        <progress\n",
       "            value='3'\n",
       "            max='3',\n",
       "            style='width: 100%'\n",
       "        >\n",
       "            3\n",
       "        </progress>\n",
       "    "
      ],
      "text/plain": [
       "<IPython.core.display.HTML object>"
      ]
     },
     "metadata": {},
     "output_type": "display_data"
    },
    {
     "name": "stdout",
     "output_type": "stream",
     "text": [
      "Validation tensor([[[0.4228]]], device='cuda:0') tensor([28.6163], device='cuda:0') tensor(794.8722, device='cuda:0')\n",
      "Validation tensor([[[0.3942]]], device='cuda:0') tensor([22.7598], device='cuda:0') tensor(500.2183, device='cuda:0')\n",
      "Validation tensor([[[0.4269]]], device='cuda:0') tensor([20.2541], device='cuda:0') tensor(393.1163, device='cuda:0')\n",
      "Validation tensor([[[0.4617]]], device='cuda:0') tensor([5.3968], device='cuda:0') tensor(24.3548, device='cuda:0')\n",
      "Validation tensor([[[0.4033]]], device='cuda:0') tensor([21.1160], device='cuda:0') tensor(429.0173, device='cuda:0')\n",
      "Validation tensor([[[0.4203]]], device='cuda:0') tensor([51.7093], device='cuda:0') tensor(2630.5679, device='cuda:0')\n",
      "Validation tensor([[[0.4451]]], device='cuda:0') tensor([12.7589], device='cuda:0') tensor(151.6307, device='cuda:0')\n",
      "Validation tensor([[[0.4118]]], device='cuda:0') tensor([21.5135], device='cuda:0') tensor(445.2845, device='cuda:0')\n",
      "Validation tensor([[[0.4185]]], device='cuda:0') tensor([36.8525], device='cuda:0') tensor(1327.4315, device='cuda:0')\n",
      "Validation tensor([[[0.4444]]], device='cuda:0') tensor([17.6826], device='cuda:0') tensor(297.1552, device='cuda:0')\n",
      "Test epoch 2 loss: 3496.824 correct: 0.00\n",
      "training\n"
     ]
    },
    {
     "data": {
      "text/html": [
       "\n",
       "        <progress\n",
       "            value='5'\n",
       "            max='5',\n",
       "            style='width: 100%'\n",
       "        >\n",
       "            5\n",
       "        </progress>\n",
       "    "
      ],
      "text/plain": [
       "<IPython.core.display.HTML object>"
      ]
     },
     "metadata": {},
     "output_type": "display_data"
    },
    {
     "name": "stdout",
     "output_type": "stream",
     "text": [
      "training-  y^ 0.4356566071510315 y tensor([18.9842], device='cuda:0')\n",
      "training-  y^ 0.4692269265651703 y tensor([0.5626], device='cuda:0')\n",
      "training-  y^ 0.4810125529766083 y tensor([11.4718], device='cuda:0')\n",
      "training-  y^ 0.4728162884712219 y tensor([0.0211], device='cuda:0')\n",
      "training-  y^ 0.4761509895324707 y tensor([10.6966], device='cuda:0')\n",
      "training-  y^ 0.47615763545036316 y tensor([0.2980], device='cuda:0')\n",
      "training-  y^ 0.4890289008617401 y tensor([11.8645], device='cuda:0')\n",
      "training-  y^ 0.48601865768432617 y tensor([3.6421], device='cuda:0')\n",
      "training-  y^ 0.48086172342300415 y tensor([0.5208], device='cuda:0')\n",
      "training-  y^ 0.48233288526535034 y tensor([0.1216], device='cuda:0')\n",
      "training-  y^ 0.4833745062351227 y tensor([0.5009], device='cuda:0')\n",
      "training-  y^ 0.46754029393196106 y tensor([53.0057], device='cuda:0')\n",
      "training-  y^ 0.48732414841651917 y tensor([0.0672], device='cuda:0')\n",
      "training-  y^ 0.4890226721763611 y tensor([2.9321], device='cuda:0')\n",
      "training-  y^ 0.4765284061431885 y tensor([16.1647], device='cuda:0')\n",
      "training-  y^ 0.4929822087287903 y tensor([0.0554], device='cuda:0')\n",
      "training-  y^ 0.49054545164108276 y tensor([40.3548], device='cuda:0')\n",
      "training-  y^ 0.4552748203277588 y tensor([54.6192], device='cuda:0')\n",
      "training-  y^ 0.5131881237030029 y tensor([40.6911], device='cuda:0')\n",
      "training-  y^ 0.5050177574157715 y tensor([1.3184], device='cuda:0')\n",
      "Train epoch 3 loss: 2464.894 correct: 0.00\n"
     ]
    },
    {
     "data": {
      "text/html": [
       "\n",
       "        <progress\n",
       "            value='3'\n",
       "            max='3',\n",
       "            style='width: 100%'\n",
       "        >\n",
       "            3\n",
       "        </progress>\n",
       "    "
      ],
      "text/plain": [
       "<IPython.core.display.HTML object>"
      ]
     },
     "metadata": {},
     "output_type": "display_data"
    },
    {
     "name": "stdout",
     "output_type": "stream",
     "text": [
      "Validation tensor([[[0.4493]]], device='cuda:0') tensor([28.6163], device='cuda:0') tensor(793.3802, device='cuda:0')\n",
      "Validation tensor([[[0.4029]]], device='cuda:0') tensor([22.7598], device='cuda:0') tensor(499.8290, device='cuda:0')\n",
      "Validation tensor([[[0.4443]]], device='cuda:0') tensor([20.2541], device='cuda:0') tensor(392.4278, device='cuda:0')\n",
      "Validation tensor([[[0.5022]]], device='cuda:0') tensor([5.3968], device='cuda:0') tensor(23.9569, device='cuda:0')\n",
      "Validation tensor([[[0.4311]]], device='cuda:0') tensor([21.1160], device='cuda:0') tensor(427.8665, device='cuda:0')\n",
      "Validation tensor([[[0.4521]]], device='cuda:0') tensor([51.7093], device='cuda:0') tensor(2627.3040, device='cuda:0')\n",
      "Validation tensor([[[0.4743]]], device='cuda:0') tensor([12.7589], device='cuda:0') tensor(150.9105, device='cuda:0')\n",
      "Validation tensor([[[0.4320]]], device='cuda:0') tensor([21.5135], device='cuda:0') tensor(444.4294, device='cuda:0')\n",
      "Validation tensor([[[0.4491]]], device='cuda:0') tensor([36.8525], device='cuda:0') tensor(1325.2079, device='cuda:0')\n",
      "Validation tensor([[[0.4666]]], device='cuda:0') tensor([17.6826], device='cuda:0') tensor(296.3896, device='cuda:0')\n",
      "Test epoch 3 loss: 3490.851 correct: 0.00\n",
      "training\n"
     ]
    },
    {
     "data": {
      "text/html": [
       "\n",
       "        <progress\n",
       "            value='5'\n",
       "            max='5',\n",
       "            style='width: 100%'\n",
       "        >\n",
       "            5\n",
       "        </progress>\n",
       "    "
      ],
      "text/plain": [
       "<IPython.core.display.HTML object>"
      ]
     },
     "metadata": {},
     "output_type": "display_data"
    },
    {
     "name": "stdout",
     "output_type": "stream",
     "text": [
      "training-  y^ 0.516882061958313 y tensor([11.8645], device='cuda:0')\n",
      "training-  y^ 0.5116968750953674 y tensor([0.5626], device='cuda:0')\n",
      "training-  y^ 0.4683243930339813 y tensor([18.9842], device='cuda:0')\n",
      "training-  y^ 0.5003336071968079 y tensor([53.0057], device='cuda:0')\n",
      "training-  y^ 0.5031789541244507 y tensor([10.6966], device='cuda:0')\n",
      "training-  y^ 0.5252487063407898 y tensor([0.5208], device='cuda:0')\n",
      "training-  y^ 0.5289600491523743 y tensor([1.3184], device='cuda:0')\n",
      "training-  y^ 0.5283429026603699 y tensor([11.4718], device='cuda:0')\n",
      "training-  y^ 0.5341466069221497 y tensor([0.0211], device='cuda:0')\n",
      "training-  y^ 0.5425299406051636 y tensor([3.6421], device='cuda:0')\n",
      "training-  y^ 0.5466093420982361 y tensor([40.6911], device='cuda:0')\n",
      "training-  y^ 0.5171022415161133 y tensor([16.1647], device='cuda:0')\n",
      "training-  y^ 0.5003537535667419 y tensor([54.6192], device='cuda:0')\n",
      "training-  y^ 0.5493832230567932 y tensor([0.0672], device='cuda:0')\n",
      "training-  y^ 0.5536134243011475 y tensor([0.5009], device='cuda:0')\n",
      "training-  y^ 0.5576272010803223 y tensor([0.2980], device='cuda:0')\n",
      "training-  y^ 0.559337854385376 y tensor([2.9321], device='cuda:0')\n",
      "training-  y^ 0.5644211173057556 y tensor([0.1216], device='cuda:0')\n",
      "training-  y^ 0.5627841353416443 y tensor([40.3548], device='cuda:0')\n",
      "training-  y^ 0.571983277797699 y tensor([0.0554], device='cuda:0')\n",
      "Train epoch 4 loss: 2459.415 correct: 0.00\n"
     ]
    },
    {
     "data": {
      "text/html": [
       "\n",
       "        <progress\n",
       "            value='3'\n",
       "            max='3',\n",
       "            style='width: 100%'\n",
       "        >\n",
       "            3\n",
       "        </progress>\n",
       "    "
      ],
      "text/plain": [
       "<IPython.core.display.HTML object>"
      ]
     },
     "metadata": {},
     "output_type": "display_data"
    },
    {
     "name": "stdout",
     "output_type": "stream",
     "text": [
      "Validation tensor([[[0.4965]]], device='cuda:0') tensor([28.6163], device='cuda:0') tensor(790.7184, device='cuda:0')\n",
      "Validation tensor([[[0.4448]]], device='cuda:0') tensor([22.7598], device='cuda:0') tensor(497.9566, device='cuda:0')\n",
      "Validation tensor([[[0.4912]]], device='cuda:0') tensor([20.2541], device='cuda:0') tensor(390.5708, device='cuda:0')\n",
      "Validation tensor([[[0.5610]]], device='cuda:0') tensor([5.3968], device='cuda:0') tensor(23.3851, device='cuda:0')\n",
      "Validation tensor([[[0.4901]]], device='cuda:0') tensor([21.1160], device='cuda:0') tensor(425.4289, device='cuda:0')\n",
      "Validation tensor([[[0.5050]]], device='cuda:0') tensor([51.7093], device='cuda:0') tensor(2621.8857, device='cuda:0')\n",
      "Validation tensor([[[0.5228]]], device='cuda:0') tensor([12.7589], device='cuda:0') tensor(149.7226, device='cuda:0')\n",
      "Validation tensor([[[0.4701]]], device='cuda:0') tensor([21.5135], device='cuda:0') tensor(442.8267, device='cuda:0')\n",
      "Validation tensor([[[0.4958]]], device='cuda:0') tensor([36.8525], device='cuda:0') tensor(1321.8105, device='cuda:0')\n",
      "Validation tensor([[[0.5096]]], device='cuda:0') tensor([17.6826], device='cuda:0') tensor(294.9122, device='cuda:0')\n",
      "Test epoch 4 loss: 3479.609 correct: 0.00\n",
      "training\n"
     ]
    },
    {
     "data": {
      "text/html": [
       "\n",
       "        <progress\n",
       "            value='5'\n",
       "            max='5',\n",
       "            style='width: 100%'\n",
       "        >\n",
       "            5\n",
       "        </progress>\n",
       "    "
      ],
      "text/plain": [
       "<IPython.core.display.HTML object>"
      ]
     },
     "metadata": {},
     "output_type": "display_data"
    },
    {
     "name": "stdout",
     "output_type": "stream",
     "text": [
      "training-  y^ 0.5759471654891968 y tensor([0.5009], device='cuda:0')\n",
      "training-  y^ 0.5816372632980347 y tensor([40.3548], device='cuda:0')\n",
      "training-  y^ 0.5833773612976074 y tensor([0.2980], device='cuda:0')\n",
      "training-  y^ 0.5863204598426819 y tensor([1.3184], device='cuda:0')\n",
      "training-  y^ 0.5690276622772217 y tensor([16.1647], device='cuda:0')\n",
      "training-  y^ 0.5921404361724854 y tensor([2.9321], device='cuda:0')\n",
      "training-  y^ 0.5440806746482849 y tensor([18.9842], device='cuda:0')\n",
      "training-  y^ 0.6026304364204407 y tensor([0.0554], device='cuda:0')\n",
      "training-  y^ 0.6070854067802429 y tensor([0.0672], device='cuda:0')\n",
      "training-  y^ 0.567406177520752 y tensor([54.6192], device='cuda:0')\n",
      "training-  y^ 0.6267167925834656 y tensor([3.6421], device='cuda:0')\n",
      "training-  y^ 0.6239451169967651 y tensor([0.5208], device='cuda:0')\n",
      "training-  y^ 0.6300784349441528 y tensor([0.1216], device='cuda:0')\n",
      "training-  y^ 0.610868513584137 y tensor([10.6966], device='cuda:0')\n",
      "training-  y^ 0.6569942235946655 y tensor([11.8645], device='cuda:0')\n",
      "training-  y^ 0.6468448042869568 y tensor([11.4718], device='cuda:0')\n",
      "training-  y^ 0.655756413936615 y tensor([40.6911], device='cuda:0')\n",
      "training-  y^ 0.6629366278648376 y tensor([0.0211], device='cuda:0')\n",
      "training-  y^ 0.6694668531417847 y tensor([0.5626], device='cuda:0')\n",
      "training-  y^ 0.6422687768936157 y tensor([53.0057], device='cuda:0')\n",
      "Train epoch 5 loss: 2448.127 correct: 0.00\n"
     ]
    },
    {
     "data": {
      "text/html": [
       "\n",
       "        <progress\n",
       "            value='3'\n",
       "            max='3',\n",
       "            style='width: 100%'\n",
       "        >\n",
       "            3\n",
       "        </progress>\n",
       "    "
      ],
      "text/plain": [
       "<IPython.core.display.HTML object>"
      ]
     },
     "metadata": {},
     "output_type": "display_data"
    },
    {
     "name": "stdout",
     "output_type": "stream",
     "text": [
      "Validation tensor([[[0.5732]]], device='cuda:0') tensor([28.6163], device='cuda:0') tensor(786.4149, device='cuda:0')\n",
      "Validation tensor([[[0.5340]]], device='cuda:0') tensor([22.7598], device='cuda:0') tensor(493.9828, device='cuda:0')\n",
      "Validation tensor([[[0.5783]]], device='cuda:0') tensor([20.2541], device='cuda:0') tensor(387.1341, device='cuda:0')\n",
      "Validation tensor([[[0.6383]]], device='cuda:0') tensor([5.3968], device='cuda:0') tensor(22.6434, device='cuda:0')\n",
      "Validation tensor([[[0.6036]]], device='cuda:0') tensor([21.1160], device='cuda:0') tensor(420.7599, device='cuda:0')\n",
      "Validation tensor([[[0.6073]]], device='cuda:0') tensor([51.7093], device='cuda:0') tensor(2611.4226, device='cuda:0')\n",
      "Validation tensor([[[0.5981]]], device='cuda:0') tensor([12.7589], device='cuda:0') tensor(147.8841, device='cuda:0')\n",
      "Validation tensor([[[0.5242]]], device='cuda:0') tensor([21.5135], device='cuda:0') tensor(440.5503, device='cuda:0')\n",
      "Validation tensor([[[0.5718]]], device='cuda:0') tensor([36.8525], device='cuda:0') tensor(1316.2848, device='cuda:0')\n",
      "Validation tensor([[[0.6013]]], device='cuda:0') tensor([17.6826], device='cuda:0') tensor(291.7704, device='cuda:0')\n",
      "Test epoch 5 loss: 3459.424 correct: 0.00\n",
      "training\n"
     ]
    },
    {
     "data": {
      "text/html": [
       "\n",
       "        <progress\n",
       "            value='5'\n",
       "            max='5',\n",
       "            style='width: 100%'\n",
       "        >\n",
       "            5\n",
       "        </progress>\n",
       "    "
      ],
      "text/plain": [
       "<IPython.core.display.HTML object>"
      ]
     },
     "metadata": {},
     "output_type": "display_data"
    },
    {
     "name": "stdout",
     "output_type": "stream",
     "text": [
      "training-  y^ 0.6868618130683899 y tensor([40.6911], device='cuda:0')\n",
      "training-  y^ 0.6934677958488464 y tensor([0.0211], device='cuda:0')\n",
      "training-  y^ 0.6822071075439453 y tensor([53.0057], device='cuda:0')\n",
      "training-  y^ 0.7113705277442932 y tensor([0.1216], device='cuda:0')\n",
      "training-  y^ 0.7189439535140991 y tensor([0.5009], device='cuda:0')\n",
      "training-  y^ 0.7090352773666382 y tensor([16.1647], device='cuda:0')\n",
      "training-  y^ 0.7378224730491638 y tensor([40.3548], device='cuda:0')\n",
      "training-  y^ 0.7427782416343689 y tensor([1.3184], device='cuda:0')\n",
      "training-  y^ 0.7229625582695007 y tensor([2.9321], device='cuda:0')\n",
      "training-  y^ 0.7583535313606262 y tensor([0.0672], device='cuda:0')\n",
      "training-  y^ 0.7524025440216064 y tensor([11.8645], device='cuda:0')\n",
      "training-  y^ 0.7651177644729614 y tensor([3.6421], device='cuda:0')\n",
      "training-  y^ 0.7345837950706482 y tensor([10.6966], device='cuda:0')\n",
      "training-  y^ 0.7791389226913452 y tensor([0.0554], device='cuda:0')\n",
      "training-  y^ 0.7826141119003296 y tensor([0.2980], device='cuda:0')\n",
      "training-  y^ 0.7858061790466309 y tensor([0.5208], device='cuda:0')\n",
      "training-  y^ 0.7461392879486084 y tensor([18.9842], device='cuda:0')\n",
      "training-  y^ 0.7958253622055054 y tensor([0.5626], device='cuda:0')\n",
      "training-  y^ 0.7983271479606628 y tensor([11.4718], device='cuda:0')\n",
      "training-  y^ 0.7955266833305359 y tensor([54.6192], device='cuda:0')\n",
      "Train epoch 6 loss: 2432.107 correct: 0.00\n"
     ]
    },
    {
     "data": {
      "text/html": [
       "\n",
       "        <progress\n",
       "            value='3'\n",
       "            max='3',\n",
       "            style='width: 100%'\n",
       "        >\n",
       "            3\n",
       "        </progress>\n",
       "    "
      ],
      "text/plain": [
       "<IPython.core.display.HTML object>"
      ]
     },
     "metadata": {},
     "output_type": "display_data"
    },
    {
     "name": "stdout",
     "output_type": "stream",
     "text": [
      "Validation tensor([[[0.7057]]], device='cuda:0') tensor([28.6163], device='cuda:0') tensor(779.0005, device='cuda:0')\n",
      "Validation tensor([[[0.6980]]], device='cuda:0') tensor([22.7598], device='cuda:0') tensor(486.7220, device='cuda:0')\n",
      "Validation tensor([[[0.7188]]], device='cuda:0') tensor([20.2541], device='cuda:0') tensor(381.6263, device='cuda:0')\n",
      "Validation tensor([[[0.7791]]], device='cuda:0') tensor([5.3968], device='cuda:0') tensor(21.3231, device='cuda:0')\n",
      "Validation tensor([[[0.7600]]], device='cuda:0') tensor([21.1160], device='cuda:0') tensor(414.3647, device='cuda:0')\n",
      "Validation tensor([[[0.7677]]], device='cuda:0') tensor([51.7093], device='cuda:0') tensor(2595.0493, device='cuda:0')\n",
      "Validation tensor([[[0.7282]]], device='cuda:0') tensor([12.7589], device='cuda:0') tensor(144.7381, device='cuda:0')\n",
      "Validation tensor([[[0.6595]]], device='cuda:0') tensor([21.5135], device='cuda:0') tensor(434.8883, device='cuda:0')\n",
      "Validation tensor([[[0.7539]]], device='cuda:0') tensor([36.8525], device='cuda:0') tensor(1303.1058, device='cuda:0')\n",
      "Validation tensor([[[0.7543]]], device='cuda:0') tensor([17.6826], device='cuda:0') tensor(286.5687, device='cuda:0')\n",
      "Test epoch 6 loss: 3423.693 correct: 0.00\n",
      "training\n"
     ]
    },
    {
     "data": {
      "text/html": [
       "\n",
       "        <progress\n",
       "            value='5'\n",
       "            max='5',\n",
       "            style='width: 100%'\n",
       "        >\n",
       "            5\n",
       "        </progress>\n",
       "    "
      ],
      "text/plain": [
       "<IPython.core.display.HTML object>"
      ]
     },
     "metadata": {},
     "output_type": "display_data"
    },
    {
     "name": "stdout",
     "output_type": "stream",
     "text": [
      "training-  y^ 0.8044418096542358 y tensor([11.8645], device='cuda:0')\n",
      "training-  y^ 0.8168027997016907 y tensor([11.4718], device='cuda:0')\n",
      "training-  y^ 0.8257567286491394 y tensor([1.3184], device='cuda:0')\n",
      "training-  y^ 0.8313724398612976 y tensor([0.1216], device='cuda:0')\n",
      "training-  y^ 0.8266055583953857 y tensor([54.6192], device='cuda:0')\n",
      "training-  y^ 0.8114355802536011 y tensor([10.6966], device='cuda:0')\n",
      "training-  y^ 0.8536558747291565 y tensor([53.0057], device='cuda:0')\n",
      "training-  y^ 0.846893846988678 y tensor([3.6421], device='cuda:0')\n",
      "training-  y^ 0.850448489189148 y tensor([16.1647], device='cuda:0')\n",
      "training-  y^ 0.8629488945007324 y tensor([0.5626], device='cuda:0')\n",
      "training-  y^ 0.8330243229866028 y tensor([2.9321], device='cuda:0')\n",
      "training-  y^ 0.8682490587234497 y tensor([0.5208], device='cuda:0')\n",
      "training-  y^ 0.872267484664917 y tensor([0.0211], device='cuda:0')\n",
      "training-  y^ 0.8826083540916443 y tensor([40.6911], device='cuda:0')\n",
      "training-  y^ 0.8808573484420776 y tensor([0.0554], device='cuda:0')\n",
      "training-  y^ 0.8896619081497192 y tensor([40.3548], device='cuda:0')\n",
      "training-  y^ 0.8920474052429199 y tensor([0.5009], device='cuda:0')\n",
      "training-  y^ 0.8967863917350769 y tensor([0.0672], device='cuda:0')\n",
      "training-  y^ 0.8979904055595398 y tensor([0.2980], device='cuda:0')\n",
      "training-  y^ 0.8587095141410828 y tensor([18.9842], device='cuda:0')\n",
      "Train epoch 7 loss: 2417.027 correct: 0.00\n"
     ]
    },
    {
     "data": {
      "text/html": [
       "\n",
       "        <progress\n",
       "            value='3'\n",
       "            max='3',\n",
       "            style='width: 100%'\n",
       "        >\n",
       "            3\n",
       "        </progress>\n",
       "    "
      ],
      "text/plain": [
       "<IPython.core.display.HTML object>"
      ]
     },
     "metadata": {},
     "output_type": "display_data"
    },
    {
     "name": "stdout",
     "output_type": "stream",
     "text": [
      "Validation tensor([[[0.8349]]], device='cuda:0') tensor([28.6163], device='cuda:0') tensor(771.8059, device='cuda:0')\n",
      "Validation tensor([[[0.8133]]], device='cuda:0') tensor([22.7598], device='cuda:0') tensor(481.6497, device='cuda:0')\n",
      "Validation tensor([[[0.8322]]], device='cuda:0') tensor([20.2541], device='cuda:0') tensor(377.2099, device='cuda:0')\n",
      "Validation tensor([[[0.8792]]], device='cuda:0') tensor([5.3968], device='cuda:0') tensor(20.4087, device='cuda:0')\n",
      "Validation tensor([[[0.8658]]], device='cuda:0') tensor([21.1160], device='cuda:0') tensor(410.0721, device='cuda:0')\n",
      "Validation tensor([[[0.8788]]], device='cuda:0') tensor([51.7093], device='cuda:0') tensor(2583.7422, device='cuda:0')\n",
      "Validation tensor([[[0.8396]]], device='cuda:0') tensor([12.7589], device='cuda:0') tensor(142.0687, device='cuda:0')\n",
      "Validation tensor([[[0.7927]]], device='cuda:0') tensor([21.5135], device='cuda:0') tensor(429.3519, device='cuda:0')\n",
      "Validation tensor([[[0.8682]]], device='cuda:0') tensor([36.8525], device='cuda:0') tensor(1294.8693, device='cuda:0')\n",
      "Validation tensor([[[0.8516]]], device='cuda:0') tensor([17.6826], device='cuda:0') tensor(283.2813, device='cuda:0')\n",
      "Test epoch 7 loss: 3397.230 correct: 0.00\n",
      "training\n"
     ]
    },
    {
     "data": {
      "text/html": [
       "\n",
       "        <progress\n",
       "            value='5'\n",
       "            max='5',\n",
       "            style='width: 100%'\n",
       "        >\n",
       "            5\n",
       "        </progress>\n",
       "    "
      ],
      "text/plain": [
       "<IPython.core.display.HTML object>"
      ]
     },
     "metadata": {},
     "output_type": "display_data"
    },
    {
     "name": "stdout",
     "output_type": "stream",
     "text": [
      "training-  y^ 0.8977356553077698 y tensor([11.4718], device='cuda:0')\n",
      "training-  y^ 0.9039757251739502 y tensor([0.5208], device='cuda:0')\n",
      "training-  y^ 0.907166063785553 y tensor([0.2980], device='cuda:0')\n",
      "training-  y^ 0.9061325192451477 y tensor([53.0057], device='cuda:0')\n",
      "training-  y^ 0.8750131130218506 y tensor([18.9842], device='cuda:0')\n",
      "training-  y^ 0.8877413272857666 y tensor([10.6966], device='cuda:0')\n",
      "training-  y^ 0.9155865907669067 y tensor([40.6911], device='cuda:0')\n",
      "training-  y^ 0.9186387062072754 y tensor([3.6421], device='cuda:0')\n",
      "training-  y^ 0.9235395789146423 y tensor([1.3184], device='cuda:0')\n",
      "training-  y^ 0.9259755611419678 y tensor([0.0672], device='cuda:0')\n",
      "training-  y^ 0.9271884560585022 y tensor([0.0554], device='cuda:0')\n",
      "training-  y^ 0.8920975923538208 y tensor([2.9321], device='cuda:0')\n",
      "training-  y^ 0.9282152652740479 y tensor([0.5626], device='cuda:0')\n",
      "training-  y^ 0.9298205971717834 y tensor([0.0211], device='cuda:0')\n",
      "training-  y^ 0.9200524687767029 y tensor([11.8645], device='cuda:0')\n",
      "training-  y^ 0.9183454513549805 y tensor([16.1647], device='cuda:0')\n",
      "training-  y^ 0.9309437870979309 y tensor([0.5009], device='cuda:0')\n",
      "training-  y^ 0.9300479292869568 y tensor([40.3548], device='cuda:0')\n",
      "training-  y^ 0.9241326451301575 y tensor([54.6192], device='cuda:0')\n",
      "training-  y^ 0.9390332102775574 y tensor([0.1216], device='cuda:0')\n",
      "Train epoch 8 loss: 2409.423 correct: 0.00\n"
     ]
    },
    {
     "data": {
      "text/html": [
       "\n",
       "        <progress\n",
       "            value='3'\n",
       "            max='3',\n",
       "            style='width: 100%'\n",
       "        >\n",
       "            3\n",
       "        </progress>\n",
       "    "
      ],
      "text/plain": [
       "<IPython.core.display.HTML object>"
      ]
     },
     "metadata": {},
     "output_type": "display_data"
    },
    {
     "name": "stdout",
     "output_type": "stream",
     "text": [
      "Validation tensor([[[0.8901]]], device='cuda:0') tensor([28.6163], device='cuda:0') tensor(768.7402, device='cuda:0')\n",
      "Validation tensor([[[0.8780]]], device='cuda:0') tensor([22.7598], device='cuda:0') tensor(478.8138, device='cuda:0')\n",
      "Validation tensor([[[0.8816]]], device='cuda:0') tensor([20.2541], device='cuda:0') tensor(375.2914, device='cuda:0')\n",
      "Validation tensor([[[0.9232]]], device='cuda:0') tensor([5.3968], device='cuda:0') tensor(20.0128, device='cuda:0')\n",
      "Validation tensor([[[0.9105]]], device='cuda:0') tensor([21.1160], device='cuda:0') tensor(408.2601, device='cuda:0')\n",
      "Validation tensor([[[0.9241]]], device='cuda:0') tensor([51.7093], device='cuda:0') tensor(2579.1445, device='cuda:0')\n",
      "Validation tensor([[[0.8896]]], device='cuda:0') tensor([12.7589], device='cuda:0') tensor(140.8802, device='cuda:0')\n",
      "Validation tensor([[[0.8664]]], device='cuda:0') tensor([21.5135], device='cuda:0') tensor(426.3039, device='cuda:0')\n",
      "Validation tensor([[[0.9139]]], device='cuda:0') tensor([36.8525], device='cuda:0') tensor(1291.5782, device='cuda:0')\n",
      "Validation tensor([[[0.9054]]], device='cuda:0') tensor([17.6826], device='cuda:0') tensor(281.4733, device='cuda:0')\n",
      "Test epoch 8 loss: 3385.249 correct: 0.00\n",
      "training\n"
     ]
    },
    {
     "data": {
      "text/html": [
       "\n",
       "        <progress\n",
       "            value='5'\n",
       "            max='5',\n",
       "            style='width: 100%'\n",
       "        >\n",
       "            5\n",
       "        </progress>\n",
       "    "
      ],
      "text/plain": [
       "<IPython.core.display.HTML object>"
      ]
     },
     "metadata": {},
     "output_type": "display_data"
    },
    {
     "name": "stdout",
     "output_type": "stream",
     "text": [
      "training-  y^ 0.9395610690116882 y tensor([0.5208], device='cuda:0')\n",
      "training-  y^ 0.9162741303443909 y tensor([10.6966], device='cuda:0')\n",
      "training-  y^ 0.9387632608413696 y tensor([3.6421], device='cuda:0')\n",
      "training-  y^ 0.9419342279434204 y tensor([0.5626], device='cuda:0')\n",
      "training-  y^ 0.9315746426582336 y tensor([53.0057], device='cuda:0')\n",
      "training-  y^ 0.9431464076042175 y tensor([0.0211], device='cuda:0')\n",
      "training-  y^ 0.9162440299987793 y tensor([18.9842], device='cuda:0')\n",
      "training-  y^ 0.9414259791374207 y tensor([11.4718], device='cuda:0')\n",
      "training-  y^ 0.9405853152275085 y tensor([16.1647], device='cuda:0')\n",
      "training-  y^ 0.948005199432373 y tensor([0.0672], device='cuda:0')\n",
      "training-  y^ 0.9409864544868469 y tensor([40.6911], device='cuda:0')\n",
      "training-  y^ 0.944144606590271 y tensor([40.3548], device='cuda:0')\n",
      "training-  y^ 0.9455106258392334 y tensor([54.6192], device='cuda:0')\n",
      "training-  y^ 0.9528598189353943 y tensor([1.3184], device='cuda:0')\n",
      "training-  y^ 0.9541214108467102 y tensor([0.2980], device='cuda:0')\n",
      "training-  y^ 0.9448778033256531 y tensor([11.8645], device='cuda:0')\n",
      "training-  y^ 0.9554717540740967 y tensor([0.1216], device='cuda:0')\n",
      "training-  y^ 0.9319748878479004 y tensor([2.9321], device='cuda:0')\n",
      "training-  y^ 0.9545160531997681 y tensor([0.5009], device='cuda:0')\n",
      "training-  y^ 0.9554570317268372 y tensor([0.0554], device='cuda:0')\n",
      "Train epoch 9 loss: 2406.347 correct: 0.00\n"
     ]
    },
    {
     "data": {
      "text/html": [
       "\n",
       "        <progress\n",
       "            value='3'\n",
       "            max='3',\n",
       "            style='width: 100%'\n",
       "        >\n",
       "            3\n",
       "        </progress>\n",
       "    "
      ],
      "text/plain": [
       "<IPython.core.display.HTML object>"
      ]
     },
     "metadata": {},
     "output_type": "display_data"
    },
    {
     "name": "stdout",
     "output_type": "stream",
     "text": [
      "Validation tensor([[[0.9255]]], device='cuda:0') tensor([28.6163], device='cuda:0') tensor(766.7798, device='cuda:0')\n",
      "Validation tensor([[[0.9162]]], device='cuda:0') tensor([22.7598], device='cuda:0') tensor(477.1429, device='cuda:0')\n",
      "Validation tensor([[[0.9170]]], device='cuda:0') tensor([20.2541], device='cuda:0') tensor(373.9211, device='cuda:0')\n",
      "Validation tensor([[[0.9491]]], device='cuda:0') tensor([5.3968], device='cuda:0') tensor(19.7817, device='cuda:0')\n",
      "Validation tensor([[[0.9378]]], device='cuda:0') tensor([21.1160], device='cuda:0') tensor(407.1598, device='cuda:0')\n",
      "Validation tensor([[[0.9401]]], device='cuda:0') tensor([51.7093], device='cuda:0') tensor(2577.5193, device='cuda:0')\n",
      "Validation tensor([[[0.9216]]], device='cuda:0') tensor([12.7589], device='cuda:0') tensor(140.1220, device='cuda:0')\n",
      "Validation tensor([[[0.9070]]], device='cuda:0') tensor([21.5135], device='cuda:0') tensor(424.6268, device='cuda:0')\n",
      "Validation tensor([[[0.9412]]], device='cuda:0') tensor([36.8525], device='cuda:0') tensor(1289.6215, device='cuda:0')\n",
      "Validation tensor([[[0.9379]]], device='cuda:0') tensor([17.6826], device='cuda:0') tensor(280.3840, device='cuda:0')\n",
      "Test epoch 9 loss: 3378.529 correct: 0.00\n",
      "training\n"
     ]
    },
    {
     "data": {
      "text/html": [
       "\n",
       "        <progress\n",
       "            value='5'\n",
       "            max='5',\n",
       "            style='width: 100%'\n",
       "        >\n",
       "            5\n",
       "        </progress>\n",
       "    "
      ],
      "text/plain": [
       "<IPython.core.display.HTML object>"
      ]
     },
     "metadata": {},
     "output_type": "display_data"
    },
    {
     "name": "stdout",
     "output_type": "stream",
     "text": [
      "training-  y^ 0.9554237127304077 y tensor([0.0554], device='cuda:0')\n",
      "training-  y^ 0.9332717061042786 y tensor([2.9321], device='cuda:0')\n",
      "training-  y^ 0.9521169066429138 y tensor([40.3548], device='cuda:0')\n",
      "training-  y^ 0.9552820920944214 y tensor([0.5626], device='cuda:0')\n",
      "training-  y^ 0.946459174156189 y tensor([53.0057], device='cuda:0')\n",
      "training-  y^ 0.9537423253059387 y tensor([3.6421], device='cuda:0')\n",
      "training-  y^ 0.9349328279495239 y tensor([10.6966], device='cuda:0')\n",
      "training-  y^ 0.9580173492431641 y tensor([0.5208], device='cuda:0')\n",
      "training-  y^ 0.9524271488189697 y tensor([11.8645], device='cuda:0')\n",
      "training-  y^ 0.9606823325157166 y tensor([1.3184], device='cuda:0')\n",
      "training-  y^ 0.9622657895088196 y tensor([0.2980], device='cuda:0')\n",
      "training-  y^ 0.9554799795150757 y tensor([40.6911], device='cuda:0')\n",
      "training-  y^ 0.9563850164413452 y tensor([16.1647], device='cuda:0')\n",
      "training-  y^ 0.9570423364639282 y tensor([54.6192], device='cuda:0')\n",
      "training-  y^ 0.9640356302261353 y tensor([0.0672], device='cuda:0')\n",
      "training-  y^ 0.9472376704216003 y tensor([18.9842], device='cuda:0')\n",
      "training-  y^ 0.9643633365631104 y tensor([0.0211], device='cuda:0')\n",
      "training-  y^ 0.9614085555076599 y tensor([11.4718], device='cuda:0')\n",
      "training-  y^ 0.9641916155815125 y tensor([0.1216], device='cuda:0')\n",
      "training-  y^ 0.9620122313499451 y tensor([0.5009], device='cuda:0')\n",
      "Train epoch 10 loss: 2404.576 correct: 0.00\n"
     ]
    },
    {
     "data": {
      "text/html": [
       "\n",
       "        <progress\n",
       "            value='3'\n",
       "            max='3',\n",
       "            style='width: 100%'\n",
       "        >\n",
       "            3\n",
       "        </progress>\n",
       "    "
      ],
      "text/plain": [
       "<IPython.core.display.HTML object>"
      ]
     },
     "metadata": {},
     "output_type": "display_data"
    },
    {
     "name": "stdout",
     "output_type": "stream",
     "text": [
      "Validation tensor([[[0.9473]]], device='cuda:0') tensor([28.6163], device='cuda:0') tensor(765.5732, device='cuda:0')\n",
      "Validation tensor([[[0.9352]]], device='cuda:0') tensor([22.7598], device='cuda:0') tensor(476.3130, device='cuda:0')\n",
      "Validation tensor([[[0.9393]]], device='cuda:0') tensor([20.2541], device='cuda:0') tensor(373.0591, device='cuda:0')\n",
      "Validation tensor([[[0.9582]]], device='cuda:0') tensor([5.3968], device='cuda:0') tensor(19.7011, device='cuda:0')\n",
      "Validation tensor([[[0.9535]]], device='cuda:0') tensor([21.1160], device='cuda:0') tensor(406.5247, device='cuda:0')\n",
      "Validation tensor([[[0.9550]]], device='cuda:0') tensor([51.7093], device='cuda:0') tensor(2576.0032, device='cuda:0')\n",
      "Validation tensor([[[0.9409]]], device='cuda:0') tensor([12.7589], device='cuda:0') tensor(139.6657, device='cuda:0')\n",
      "Validation tensor([[[0.9255]]], device='cuda:0') tensor([21.5135], device='cuda:0') tensor(423.8653, device='cuda:0')\n",
      "Validation tensor([[[0.9539]]], device='cuda:0') tensor([36.8525], device='cuda:0') tensor(1288.7074, device='cuda:0')\n",
      "Validation tensor([[[0.9494]]], device='cuda:0') tensor([17.6826], device='cuda:0') tensor(279.9998, device='cuda:0')\n",
      "Test epoch 10 loss: 3374.706 correct: 0.00\n",
      "training\n"
     ]
    },
    {
     "data": {
      "text/html": [
       "\n",
       "        <progress\n",
       "            value='5'\n",
       "            max='5',\n",
       "            style='width: 100%'\n",
       "        >\n",
       "            5\n",
       "        </progress>\n",
       "    "
      ],
      "text/plain": [
       "<IPython.core.display.HTML object>"
      ]
     },
     "metadata": {},
     "output_type": "display_data"
    },
    {
     "name": "stdout",
     "output_type": "stream",
     "text": [
      "training-  y^ 0.9641280174255371 y tensor([0.0211], device='cuda:0')\n",
      "training-  y^ 0.9631951451301575 y tensor([1.3184], device='cuda:0')\n",
      "training-  y^ 0.9597011804580688 y tensor([16.1647], device='cuda:0')\n",
      "training-  y^ 0.9538632035255432 y tensor([53.0057], device='cuda:0')\n",
      "training-  y^ 0.964756190776825 y tensor([0.2980], device='cuda:0')\n",
      "training-  y^ 0.9640227556228638 y tensor([0.5009], device='cuda:0')\n",
      "training-  y^ 0.9630776047706604 y tensor([11.8645], device='cuda:0')\n",
      "training-  y^ 0.9647692441940308 y tensor([11.4718], device='cuda:0')\n",
      "training-  y^ 0.9615240693092346 y tensor([40.6911], device='cuda:0')\n",
      "training-  y^ 0.9685106873512268 y tensor([0.1216], device='cuda:0')\n",
      "training-  y^ 0.9640170335769653 y tensor([40.3548], device='cuda:0')\n",
      "training-  y^ 0.9673270583152771 y tensor([3.6421], device='cuda:0')\n",
      "training-  y^ 0.969716489315033 y tensor([0.0672], device='cuda:0')\n",
      "training-  y^ 0.955162763595581 y tensor([2.9321], device='cuda:0')\n",
      "training-  y^ 0.9543363451957703 y tensor([10.6966], device='cuda:0')\n",
      "training-  y^ 0.9704707860946655 y tensor([0.0554], device='cuda:0')\n",
      "training-  y^ 0.953227698802948 y tensor([18.9842], device='cuda:0')\n",
      "training-  y^ 0.9642120003700256 y tensor([54.6192], device='cuda:0')\n",
      "training-  y^ 0.9706973433494568 y tensor([0.5626], device='cuda:0')\n",
      "training-  y^ 0.9706144332885742 y tensor([0.5208], device='cuda:0')\n",
      "Train epoch 11 loss: 2403.565 correct: 0.00\n"
     ]
    },
    {
     "data": {
      "text/html": [
       "\n",
       "        <progress\n",
       "            value='3'\n",
       "            max='3',\n",
       "            style='width: 100%'\n",
       "        >\n",
       "            3\n",
       "        </progress>\n",
       "    "
      ],
      "text/plain": [
       "<IPython.core.display.HTML object>"
      ]
     },
     "metadata": {},
     "output_type": "display_data"
    },
    {
     "name": "stdout",
     "output_type": "stream",
     "text": [
      "Validation tensor([[[0.9560]]], device='cuda:0') tensor([28.6163], device='cuda:0') tensor(765.0903, device='cuda:0')\n",
      "Validation tensor([[[0.9471]]], device='cuda:0') tensor([22.7598], device='cuda:0') tensor(475.7935, device='cuda:0')\n",
      "Validation tensor([[[0.9503]]], device='cuda:0') tensor([20.2541], device='cuda:0') tensor(372.6364, device='cuda:0')\n",
      "Validation tensor([[[0.9668]]], device='cuda:0') tensor([5.3968], device='cuda:0') tensor(19.6247, device='cuda:0')\n",
      "Validation tensor([[[0.9619]]], device='cuda:0') tensor([21.1160], device='cuda:0') tensor(406.1856, device='cuda:0')\n",
      "Validation tensor([[[0.9590]]], device='cuda:0') tensor([51.7093], device='cuda:0') tensor(2575.6003, device='cuda:0')\n",
      "Validation tensor([[[0.9514]]], device='cuda:0') tensor([12.7589], device='cuda:0') tensor(139.4166, device='cuda:0')\n",
      "Validation tensor([[[0.9402]]], device='cuda:0') tensor([21.5135], device='cuda:0') tensor(423.2622, device='cuda:0')\n",
      "Validation tensor([[[0.9626]]], device='cuda:0') tensor([36.8525], device='cuda:0') tensor(1288.0844, device='cuda:0')\n",
      "Validation tensor([[[0.9596]]], device='cuda:0') tensor([17.6826], device='cuda:0') tensor(279.6570, device='cuda:0')\n",
      "Test epoch 11 loss: 3372.676 correct: 0.00\n",
      "training\n"
     ]
    },
    {
     "data": {
      "text/html": [
       "\n",
       "        <progress\n",
       "            value='5'\n",
       "            max='5',\n",
       "            style='width: 100%'\n",
       "        >\n",
       "            5\n",
       "        </progress>\n",
       "    "
      ],
      "text/plain": [
       "<IPython.core.display.HTML object>"
      ]
     },
     "metadata": {},
     "output_type": "display_data"
    },
    {
     "name": "stdout",
     "output_type": "stream",
     "text": [
      "training-  y^ 0.9696782231330872 y tensor([3.6421], device='cuda:0')\n",
      "training-  y^ 0.9577885270118713 y tensor([10.6966], device='cuda:0')\n",
      "training-  y^ 0.9675304293632507 y tensor([40.3548], device='cuda:0')\n",
      "training-  y^ 0.9590356349945068 y tensor([18.9842], device='cuda:0')\n",
      "training-  y^ 0.9723067879676819 y tensor([0.5626], device='cuda:0')\n",
      "training-  y^ 0.9698325395584106 y tensor([11.8645], device='cuda:0')\n",
      "training-  y^ 0.9709911346435547 y tensor([11.4718], device='cuda:0')\n",
      "training-  y^ 0.9735360741615295 y tensor([0.0211], device='cuda:0')\n",
      "training-  y^ 0.9682838320732117 y tensor([16.1647], device='cuda:0')\n",
      "training-  y^ 0.9682161211967468 y tensor([40.6911], device='cuda:0')\n",
      "training-  y^ 0.9740356206893921 y tensor([0.1216], device='cuda:0')\n",
      "training-  y^ 0.9727050065994263 y tensor([0.5009], device='cuda:0')\n",
      "training-  y^ 0.9654955863952637 y tensor([53.0057], device='cuda:0')\n",
      "training-  y^ 0.9739325642585754 y tensor([0.5208], device='cuda:0')\n",
      "training-  y^ 0.9692012071609497 y tensor([54.6192], device='cuda:0')\n",
      "training-  y^ 0.975334107875824 y tensor([0.0672], device='cuda:0')\n",
      "training-  y^ 0.965043306350708 y tensor([2.9321], device='cuda:0')\n",
      "training-  y^ 0.9759090542793274 y tensor([0.0554], device='cuda:0')\n",
      "training-  y^ 0.9754204154014587 y tensor([1.3184], device='cuda:0')\n",
      "training-  y^ 0.9759455323219299 y tensor([0.2980], device='cuda:0')\n",
      "Train epoch 12 loss: 2402.726 correct: 0.00\n"
     ]
    },
    {
     "data": {
      "text/html": [
       "\n",
       "        <progress\n",
       "            value='3'\n",
       "            max='3',\n",
       "            style='width: 100%'\n",
       "        >\n",
       "            3\n",
       "        </progress>\n",
       "    "
      ],
      "text/plain": [
       "<IPython.core.display.HTML object>"
      ]
     },
     "metadata": {},
     "output_type": "display_data"
    },
    {
     "name": "stdout",
     "output_type": "stream",
     "text": [
      "Validation tensor([[[0.9652]]], device='cuda:0') tensor([28.6163], device='cuda:0') tensor(764.5837, device='cuda:0')\n",
      "Validation tensor([[[0.9563]]], device='cuda:0') tensor([22.7598], device='cuda:0') tensor(475.3903, device='cuda:0')\n",
      "Validation tensor([[[0.9595]]], device='cuda:0') tensor([20.2541], device='cuda:0') tensor(372.2804, device='cuda:0')\n",
      "Validation tensor([[[0.9718]]], device='cuda:0') tensor([5.3968], device='cuda:0') tensor(19.5802, device='cuda:0')\n",
      "Validation tensor([[[0.9688]]], device='cuda:0') tensor([21.1160], device='cuda:0') tensor(405.9102, device='cuda:0')\n",
      "Validation tensor([[[0.9657]]], device='cuda:0') tensor([51.7093], device='cuda:0') tensor(2574.9182, device='cuda:0')\n",
      "Validation tensor([[[0.9607]]], device='cuda:0') tensor([12.7589], device='cuda:0') tensor(139.1965, device='cuda:0')\n",
      "Validation tensor([[[0.9514]]], device='cuda:0') tensor([21.5135], device='cuda:0') tensor(422.7993, device='cuda:0')\n",
      "Validation tensor([[[0.9688]]], device='cuda:0') tensor([36.8525], device='cuda:0') tensor(1287.6367, device='cuda:0')\n",
      "Validation tensor([[[0.9672]]], device='cuda:0') tensor([17.6826], device='cuda:0') tensor(279.4035, device='cuda:0')\n",
      "Test epoch 12 loss: 3370.850 correct: 0.00\n",
      "training\n"
     ]
    },
    {
     "data": {
      "text/html": [
       "\n",
       "        <progress\n",
       "            value='5'\n",
       "            max='5',\n",
       "            style='width: 100%'\n",
       "        >\n",
       "            5\n",
       "        </progress>\n",
       "    "
      ],
      "text/plain": [
       "<IPython.core.display.HTML object>"
      ]
     },
     "metadata": {},
     "output_type": "display_data"
    },
    {
     "name": "stdout",
     "output_type": "stream",
     "text": [
      "training-  y^ 0.97112637758255 y tensor([40.6911], device='cuda:0')\n",
      "training-  y^ 0.9736117720603943 y tensor([11.8645], device='cuda:0')\n",
      "training-  y^ 0.9761752486228943 y tensor([1.3184], device='cuda:0')\n",
      "training-  y^ 0.9769532084465027 y tensor([0.0672], device='cuda:0')\n",
      "training-  y^ 0.969200849533081 y tensor([53.0057], device='cuda:0')\n",
      "training-  y^ 0.9770590662956238 y tensor([0.2980], device='cuda:0')\n",
      "training-  y^ 0.9757634401321411 y tensor([3.6421], device='cuda:0')\n",
      "training-  y^ 0.9657964706420898 y tensor([18.9842], device='cuda:0')\n",
      "training-  y^ 0.977922797203064 y tensor([0.0211], device='cuda:0')\n",
      "training-  y^ 0.9780454635620117 y tensor([0.0554], device='cuda:0')\n",
      "training-  y^ 0.978149950504303 y tensor([0.1216], device='cuda:0')\n",
      "training-  y^ 0.9676262140274048 y tensor([10.6966], device='cuda:0')\n",
      "training-  y^ 0.9728845953941345 y tensor([54.6192], device='cuda:0')\n",
      "training-  y^ 0.9778133630752563 y tensor([0.5208], device='cuda:0')\n",
      "training-  y^ 0.9694278836250305 y tensor([2.9321], device='cuda:0')\n",
      "training-  y^ 0.9767698645591736 y tensor([11.4718], device='cuda:0')\n",
      "training-  y^ 0.9770994782447815 y tensor([0.5009], device='cuda:0')\n",
      "training-  y^ 0.9747942090034485 y tensor([40.3548], device='cuda:0')\n",
      "training-  y^ 0.974555492401123 y tensor([16.1647], device='cuda:0')\n",
      "training-  y^ 0.9788933396339417 y tensor([0.5626], device='cuda:0')\n",
      "Train epoch 13 loss: 2402.120 correct: 0.00\n"
     ]
    },
    {
     "data": {
      "text/html": [
       "\n",
       "        <progress\n",
       "            value='3'\n",
       "            max='3',\n",
       "            style='width: 100%'\n",
       "        >\n",
       "            3\n",
       "        </progress>\n",
       "    "
      ],
      "text/plain": [
       "<IPython.core.display.HTML object>"
      ]
     },
     "metadata": {},
     "output_type": "display_data"
    },
    {
     "name": "stdout",
     "output_type": "stream",
     "text": [
      "Validation tensor([[[0.9704]]], device='cuda:0') tensor([28.6163], device='cuda:0') tensor(764.2940, device='cuda:0')\n",
      "Validation tensor([[[0.9623]]], device='cuda:0') tensor([22.7598], device='cuda:0') tensor(475.1302, device='cuda:0')\n",
      "Validation tensor([[[0.9652]]], device='cuda:0') tensor([20.2541], device='cuda:0') tensor(372.0609, device='cuda:0')\n",
      "Validation tensor([[[0.9750]]], device='cuda:0') tensor([5.3968], device='cuda:0') tensor(19.5523, device='cuda:0')\n",
      "Validation tensor([[[0.9725]]], device='cuda:0') tensor([21.1160], device='cuda:0') tensor(405.7596, device='cuda:0')\n",
      "Validation tensor([[[0.9699]]], device='cuda:0') tensor([51.7093], device='cuda:0') tensor(2574.4890, device='cuda:0')\n",
      "Validation tensor([[[0.9667]]], device='cuda:0') tensor([12.7589], device='cuda:0') tensor(139.0558, device='cuda:0')\n",
      "Validation tensor([[[0.9590]]], device='cuda:0') tensor([21.5135], device='cuda:0') tensor(422.4898, device='cuda:0')\n",
      "Validation tensor([[[0.9731]]], device='cuda:0') tensor([36.8525], device='cuda:0') tensor(1287.3312, device='cuda:0')\n",
      "Validation tensor([[[0.9721]]], device='cuda:0') tensor([17.6826], device='cuda:0') tensor(279.2396, device='cuda:0')\n",
      "Test epoch 13 loss: 3369.701 correct: 0.00\n",
      "training\n"
     ]
    },
    {
     "data": {
      "text/html": [
       "\n",
       "        <progress\n",
       "            value='5'\n",
       "            max='5',\n",
       "            style='width: 100%'\n",
       "        >\n",
       "            5\n",
       "        </progress>\n",
       "    "
      ],
      "text/plain": [
       "<IPython.core.display.HTML object>"
      ]
     },
     "metadata": {},
     "output_type": "display_data"
    },
    {
     "name": "stdout",
     "output_type": "stream",
     "text": [
      "training-  y^ 0.9717901349067688 y tensor([53.0057], device='cuda:0')\n",
      "training-  y^ 0.9789188504219055 y tensor([1.3184], device='cuda:0')\n",
      "training-  y^ 0.9715827703475952 y tensor([2.9321], device='cuda:0')\n",
      "training-  y^ 0.9746348261833191 y tensor([40.6911], device='cuda:0')\n",
      "training-  y^ 0.9800055027008057 y tensor([0.1216], device='cuda:0')\n",
      "training-  y^ 0.9762254953384399 y tensor([40.3548], device='cuda:0')\n",
      "training-  y^ 0.9803588390350342 y tensor([0.0554], device='cuda:0')\n",
      "training-  y^ 0.980154812335968 y tensor([0.5626], device='cuda:0')\n",
      "training-  y^ 0.9757149815559387 y tensor([54.6192], device='cuda:0')\n",
      "training-  y^ 0.9780794382095337 y tensor([11.8645], device='cuda:0')\n",
      "training-  y^ 0.9809655547142029 y tensor([0.0211], device='cuda:0')\n",
      "training-  y^ 0.980370044708252 y tensor([0.5208], device='cuda:0')\n",
      "training-  y^ 0.9714310169219971 y tensor([18.9842], device='cuda:0')\n",
      "training-  y^ 0.979400098323822 y tensor([11.4718], device='cuda:0')\n",
      "training-  y^ 0.9798347353935242 y tensor([3.6421], device='cuda:0')\n",
      "training-  y^ 0.9724933505058289 y tensor([10.6966], device='cuda:0')\n",
      "training-  y^ 0.9806679487228394 y tensor([0.5009], device='cuda:0')\n",
      "training-  y^ 0.9778929352760315 y tensor([16.1647], device='cuda:0')\n",
      "training-  y^ 0.9818151593208313 y tensor([0.0672], device='cuda:0')\n",
      "training-  y^ 0.9816654324531555 y tensor([0.2980], device='cuda:0')\n",
      "Train epoch 14 loss: 2401.741 correct: 0.00\n"
     ]
    },
    {
     "data": {
      "text/html": [
       "\n",
       "        <progress\n",
       "            value='3'\n",
       "            max='3',\n",
       "            style='width: 100%'\n",
       "        >\n",
       "            3\n",
       "        </progress>\n",
       "    "
      ],
      "text/plain": [
       "<IPython.core.display.HTML object>"
      ]
     },
     "metadata": {},
     "output_type": "display_data"
    },
    {
     "name": "stdout",
     "output_type": "stream",
     "text": [
      "Validation tensor([[[0.9738]]], device='cuda:0') tensor([28.6163], device='cuda:0') tensor(764.1078, device='cuda:0')\n",
      "Validation tensor([[[0.9676]]], device='cuda:0') tensor([22.7598], device='cuda:0') tensor(474.8982, device='cuda:0')\n",
      "Validation tensor([[[0.9692]]], device='cuda:0') tensor([20.2541], device='cuda:0') tensor(371.9049, device='cuda:0')\n",
      "Validation tensor([[[0.9782]]], device='cuda:0') tensor([5.3968], device='cuda:0') tensor(19.5236, device='cuda:0')\n",
      "Validation tensor([[[0.9761]]], device='cuda:0') tensor([21.1160], device='cuda:0') tensor(405.6160, device='cuda:0')\n",
      "Validation tensor([[[0.9735]]], device='cuda:0') tensor([51.7093], device='cuda:0') tensor(2574.1262, device='cuda:0')\n",
      "Validation tensor([[[0.9714]]], device='cuda:0') tensor([12.7589], device='cuda:0') tensor(138.9441, device='cuda:0')\n",
      "Validation tensor([[[0.9659]]], device='cuda:0') tensor([21.5135], device='cuda:0') tensor(422.2029, device='cuda:0')\n",
      "Validation tensor([[[0.9766]]], device='cuda:0') tensor([36.8525], device='cuda:0') tensor(1287.0808, device='cuda:0')\n",
      "Validation tensor([[[0.9766]]], device='cuda:0') tensor([17.6826], device='cuda:0') tensor(279.0901, device='cuda:0')\n",
      "Test epoch 14 loss: 3368.747 correct: 0.00\n",
      "training\n"
     ]
    },
    {
     "data": {
      "text/html": [
       "\n",
       "        <progress\n",
       "            value='5'\n",
       "            max='5',\n",
       "            style='width: 100%'\n",
       "        >\n",
       "            5\n",
       "        </progress>\n",
       "    "
      ],
      "text/plain": [
       "<IPython.core.display.HTML object>"
      ]
     },
     "metadata": {},
     "output_type": "display_data"
    },
    {
     "name": "stdout",
     "output_type": "stream",
     "text": [
      "training-  y^ 0.9817424416542053 y tensor([0.2980], device='cuda:0')\n",
      "training-  y^ 0.9774888753890991 y tensor([40.6911], device='cuda:0')\n",
      "training-  y^ 0.9816461205482483 y tensor([1.3184], device='cuda:0')\n",
      "training-  y^ 0.9787893891334534 y tensor([40.3548], device='cuda:0')\n",
      "training-  y^ 0.9755259156227112 y tensor([2.9321], device='cuda:0')\n",
      "training-  y^ 0.9825834631919861 y tensor([0.1216], device='cuda:0')\n",
      "training-  y^ 0.9801689982414246 y tensor([11.8645], device='cuda:0')\n",
      "training-  y^ 0.9828680753707886 y tensor([0.0211], device='cuda:0')\n",
      "training-  y^ 0.978165328502655 y tensor([54.6192], device='cuda:0')\n",
      "training-  y^ 0.9750369191169739 y tensor([10.6966], device='cuda:0')\n",
      "training-  y^ 0.9766636490821838 y tensor([53.0057], device='cuda:0')\n",
      "training-  y^ 0.9819977879524231 y tensor([0.5009], device='cuda:0')\n",
      "training-  y^ 0.97953861951828 y tensor([16.1647], device='cuda:0')\n",
      "training-  y^ 0.9831972122192383 y tensor([0.5626], device='cuda:0')\n",
      "training-  y^ 0.9744482636451721 y tensor([18.9842], device='cuda:0')\n",
      "training-  y^ 0.9822593927383423 y tensor([3.6421], device='cuda:0')\n",
      "training-  y^ 0.983826220035553 y tensor([0.0554], device='cuda:0')\n",
      "training-  y^ 0.9838603734970093 y tensor([0.0672], device='cuda:0')\n",
      "training-  y^ 0.9833692908287048 y tensor([0.5208], device='cuda:0')\n",
      "training-  y^ 0.9823746085166931 y tensor([11.4718], device='cuda:0')\n",
      "Train epoch 15 loss: 2401.361 correct: 0.00\n"
     ]
    },
    {
     "data": {
      "text/html": [
       "\n",
       "        <progress\n",
       "            value='3'\n",
       "            max='3',\n",
       "            style='width: 100%'\n",
       "        >\n",
       "            3\n",
       "        </progress>\n",
       "    "
      ],
      "text/plain": [
       "<IPython.core.display.HTML object>"
      ]
     },
     "metadata": {},
     "output_type": "display_data"
    },
    {
     "name": "stdout",
     "output_type": "stream",
     "text": [
      "Validation tensor([[[0.9776]]], device='cuda:0') tensor([28.6163], device='cuda:0') tensor(763.8942, device='cuda:0')\n",
      "Validation tensor([[[0.9720]]], device='cuda:0') tensor([22.7598], device='cuda:0') tensor(474.7068, device='cuda:0')\n",
      "Validation tensor([[[0.9739]]], device='cuda:0') tensor([20.2541], device='cuda:0') tensor(371.7239, device='cuda:0')\n",
      "Validation tensor([[[0.9807]]], device='cuda:0') tensor([5.3968], device='cuda:0') tensor(19.5022, device='cuda:0')\n",
      "Validation tensor([[[0.9789]]], device='cuda:0') tensor([21.1160], device='cuda:0') tensor(405.5011, device='cuda:0')\n",
      "Validation tensor([[[0.9767]]], device='cuda:0') tensor([51.7093], device='cuda:0') tensor(2573.8030, device='cuda:0')\n",
      "Validation tensor([[[0.9754]]], device='cuda:0') tensor([12.7589], device='cuda:0') tensor(138.8506, device='cuda:0')\n",
      "Validation tensor([[[0.9706]]], device='cuda:0') tensor([21.5135], device='cuda:0') tensor(422.0108, device='cuda:0')\n",
      "Validation tensor([[[0.9794]]], device='cuda:0') tensor([36.8525], device='cuda:0') tensor(1286.8815, device='cuda:0')\n",
      "Validation tensor([[[0.9797]]], device='cuda:0') tensor([17.6826], device='cuda:0') tensor(278.9852, device='cuda:0')\n",
      "Test epoch 15 loss: 3367.930 correct: 0.00\n",
      "training\n"
     ]
    },
    {
     "data": {
      "text/html": [
       "\n",
       "        <progress\n",
       "            value='5'\n",
       "            max='5',\n",
       "            style='width: 100%'\n",
       "        >\n",
       "            5\n",
       "        </progress>\n",
       "    "
      ],
      "text/plain": [
       "<IPython.core.display.HTML object>"
      ]
     },
     "metadata": {},
     "output_type": "display_data"
    },
    {
     "name": "stdout",
     "output_type": "stream",
     "text": [
      "training-  y^ 0.9797554016113281 y tensor([54.6192], device='cuda:0')\n",
      "training-  y^ 0.978033185005188 y tensor([53.0057], device='cuda:0')\n",
      "training-  y^ 0.983754575252533 y tensor([0.5208], device='cuda:0')\n",
      "training-  y^ 0.9839953780174255 y tensor([1.3184], device='cuda:0')\n",
      "training-  y^ 0.9846597909927368 y tensor([0.0211], device='cuda:0')\n",
      "training-  y^ 0.984439492225647 y tensor([0.5626], device='cuda:0')\n",
      "training-  y^ 0.9790675640106201 y tensor([2.9321], device='cuda:0')\n",
      "training-  y^ 0.9848894476890564 y tensor([0.0554], device='cuda:0')\n",
      "training-  y^ 0.9780087471008301 y tensor([10.6966], device='cuda:0')\n",
      "training-  y^ 0.9814603328704834 y tensor([16.1647], device='cuda:0')\n",
      "training-  y^ 0.9826757907867432 y tensor([11.8645], device='cuda:0')\n",
      "training-  y^ 0.9816293716430664 y tensor([40.3548], device='cuda:0')\n",
      "training-  y^ 0.9851974844932556 y tensor([0.0672], device='cuda:0')\n",
      "training-  y^ 0.9811397790908813 y tensor([40.6911], device='cuda:0')\n",
      "training-  y^ 0.9851626753807068 y tensor([0.2980], device='cuda:0')\n",
      "training-  y^ 0.9843981862068176 y tensor([0.5009], device='cuda:0')\n",
      "training-  y^ 0.98399817943573 y tensor([11.4718], device='cuda:0')\n",
      "training-  y^ 0.977766752243042 y tensor([18.9842], device='cuda:0')\n",
      "training-  y^ 0.9843795895576477 y tensor([3.6421], device='cuda:0')\n",
      "training-  y^ 0.985765814781189 y tensor([0.1216], device='cuda:0')\n",
      "Train epoch 16 loss: 2401.072 correct: 0.00\n"
     ]
    },
    {
     "data": {
      "text/html": [
       "\n",
       "        <progress\n",
       "            value='3'\n",
       "            max='3',\n",
       "            style='width: 100%'\n",
       "        >\n",
       "            3\n",
       "        </progress>\n",
       "    "
      ],
      "text/plain": [
       "<IPython.core.display.HTML object>"
      ]
     },
     "metadata": {},
     "output_type": "display_data"
    },
    {
     "name": "stdout",
     "output_type": "stream",
     "text": [
      "Validation tensor([[[0.9797]]], device='cuda:0') tensor([28.6163], device='cuda:0') tensor(763.7789, device='cuda:0')\n",
      "Validation tensor([[[0.9749]]], device='cuda:0') tensor([22.7598], device='cuda:0') tensor(474.5808, device='cuda:0')\n",
      "Validation tensor([[[0.9767]]], device='cuda:0') tensor([20.2541], device='cuda:0') tensor(371.6172, device='cuda:0')\n",
      "Validation tensor([[[0.9827]]], device='cuda:0') tensor([5.3968], device='cuda:0') tensor(19.4844, device='cuda:0')\n",
      "Validation tensor([[[0.9811]]], device='cuda:0') tensor([21.1160], device='cuda:0') tensor(405.4138, device='cuda:0')\n",
      "Validation tensor([[[0.9787]]], device='cuda:0') tensor([51.7093], device='cuda:0') tensor(2573.5981, device='cuda:0')\n",
      "Validation tensor([[[0.9784]]], device='cuda:0') tensor([12.7589], device='cuda:0') tensor(138.7800, device='cuda:0')\n",
      "Validation tensor([[[0.9746]]], device='cuda:0') tensor([21.5135], device='cuda:0') tensor(421.8487, device='cuda:0')\n",
      "Validation tensor([[[0.9814]]], device='cuda:0') tensor([36.8525], device='cuda:0') tensor(1286.7329, device='cuda:0')\n",
      "Validation tensor([[[0.9823]]], device='cuda:0') tensor([17.6826], device='cuda:0') tensor(278.9005, device='cuda:0')\n",
      "Test epoch 16 loss: 3367.368 correct: 0.00\n",
      "training\n"
     ]
    },
    {
     "data": {
      "text/html": [
       "\n",
       "        <progress\n",
       "            value='5'\n",
       "            max='5',\n",
       "            style='width: 100%'\n",
       "        >\n",
       "            5\n",
       "        </progress>\n",
       "    "
      ],
      "text/plain": [
       "<IPython.core.display.HTML object>"
      ]
     },
     "metadata": {},
     "output_type": "display_data"
    },
    {
     "name": "stdout",
     "output_type": "stream",
     "text": [
      "training-  y^ 0.9782330989837646 y tensor([18.9842], device='cuda:0')\n",
      "training-  y^ 0.9825941920280457 y tensor([16.1647], device='cuda:0')\n",
      "training-  y^ 0.9792326092720032 y tensor([10.6966], device='cuda:0')\n",
      "training-  y^ 0.9860039353370667 y tensor([0.1216], device='cuda:0')\n",
      "training-  y^ 0.9852685332298279 y tensor([0.5009], device='cuda:0')\n",
      "training-  y^ 0.9810576438903809 y tensor([2.9321], device='cuda:0')\n",
      "training-  y^ 0.9848732948303223 y tensor([3.6421], device='cuda:0')\n",
      "training-  y^ 0.9820760488510132 y tensor([54.6192], device='cuda:0')\n",
      "training-  y^ 0.9840660691261292 y tensor([11.8645], device='cuda:0')\n",
      "training-  y^ 0.9858540892601013 y tensor([1.3184], device='cuda:0')\n",
      "training-  y^ 0.9863485097885132 y tensor([0.0672], device='cuda:0')\n",
      "training-  y^ 0.9864409565925598 y tensor([0.0554], device='cuda:0')\n",
      "training-  y^ 0.9865102171897888 y tensor([0.0211], device='cuda:0')\n",
      "training-  y^ 0.9850269556045532 y tensor([11.4718], device='cuda:0')\n",
      "training-  y^ 0.9862943291664124 y tensor([0.5626], device='cuda:0')\n",
      "training-  y^ 0.9811486601829529 y tensor([53.0057], device='cuda:0')\n",
      "training-  y^ 0.9861027002334595 y tensor([0.5208], device='cuda:0')\n",
      "training-  y^ 0.9836965203285217 y tensor([40.3548], device='cuda:0')\n",
      "training-  y^ 0.9866069555282593 y tensor([0.2980], device='cuda:0')\n",
      "training-  y^ 0.9832163453102112 y tensor([40.6911], device='cuda:0')\n",
      "Train epoch 17 loss: 2400.817 correct: 0.00\n"
     ]
    },
    {
     "data": {
      "text/html": [
       "\n",
       "        <progress\n",
       "            value='3'\n",
       "            max='3',\n",
       "            style='width: 100%'\n",
       "        >\n",
       "            3\n",
       "        </progress>\n",
       "    "
      ],
      "text/plain": [
       "<IPython.core.display.HTML object>"
      ]
     },
     "metadata": {},
     "output_type": "display_data"
    },
    {
     "name": "stdout",
     "output_type": "stream",
     "text": [
      "Validation tensor([[[0.9811]]], device='cuda:0') tensor([28.6163], device='cuda:0') tensor(763.7018, device='cuda:0')\n",
      "Validation tensor([[[0.9765]]], device='cuda:0') tensor([22.7598], device='cuda:0') tensor(474.5101, device='cuda:0')\n",
      "Validation tensor([[[0.9786]]], device='cuda:0') tensor([20.2541], device='cuda:0') tensor(371.5422, device='cuda:0')\n",
      "Validation tensor([[[0.9839]]], device='cuda:0') tensor([5.3968], device='cuda:0') tensor(19.4734, device='cuda:0')\n",
      "Validation tensor([[[0.9827]]], device='cuda:0') tensor([21.1160], device='cuda:0') tensor(405.3503, device='cuda:0')\n",
      "Validation tensor([[[0.9805]]], device='cuda:0') tensor([51.7093], device='cuda:0') tensor(2573.4141, device='cuda:0')\n",
      "Validation tensor([[[0.9803]]], device='cuda:0') tensor([12.7589], device='cuda:0') tensor(138.7355, device='cuda:0')\n",
      "Validation tensor([[[0.9768]]], device='cuda:0') tensor([21.5135], device='cuda:0') tensor(421.7579, device='cuda:0')\n",
      "Validation tensor([[[0.9828]]], device='cuda:0') tensor([36.8525], device='cuda:0') tensor(1286.6305, device='cuda:0')\n",
      "Validation tensor([[[0.9837]]], device='cuda:0') tensor([17.6826], device='cuda:0') tensor(278.8534, device='cuda:0')\n",
      "Test epoch 17 loss: 3366.985 correct: 0.00\n",
      "training\n"
     ]
    },
    {
     "data": {
      "text/html": [
       "\n",
       "        <progress\n",
       "            value='5'\n",
       "            max='5',\n",
       "            style='width: 100%'\n",
       "        >\n",
       "            5\n",
       "        </progress>\n",
       "    "
      ],
      "text/plain": [
       "<IPython.core.display.HTML object>"
      ]
     },
     "metadata": {},
     "output_type": "display_data"
    },
    {
     "name": "stdout",
     "output_type": "stream",
     "text": [
      "training-  y^ 0.9870592355728149 y tensor([0.0211], device='cuda:0')\n",
      "training-  y^ 0.9871053695678711 y tensor([0.1216], device='cuda:0')\n",
      "training-  y^ 0.9867345094680786 y tensor([1.3184], device='cuda:0')\n",
      "training-  y^ 0.9804429411888123 y tensor([18.9842], device='cuda:0')\n",
      "training-  y^ 0.9870986342430115 y tensor([0.2980], device='cuda:0')\n",
      "training-  y^ 0.9871209263801575 y tensor([0.5626], device='cuda:0')\n",
      "training-  y^ 0.9874387383460999 y tensor([0.0554], device='cuda:0')\n",
      "training-  y^ 0.9860485792160034 y tensor([11.4718], device='cuda:0')\n",
      "training-  y^ 0.9863166213035583 y tensor([3.6421], device='cuda:0')\n",
      "training-  y^ 0.984560489654541 y tensor([40.3548], device='cuda:0')\n",
      "training-  y^ 0.9871056079864502 y tensor([0.5208], device='cuda:0')\n",
      "training-  y^ 0.9869266152381897 y tensor([0.5009], device='cuda:0')\n",
      "training-  y^ 0.9833604097366333 y tensor([2.9321], device='cuda:0')\n",
      "training-  y^ 0.9818638563156128 y tensor([10.6966], device='cuda:0')\n",
      "training-  y^ 0.9842654466629028 y tensor([40.6911], device='cuda:0')\n",
      "training-  y^ 0.9838696122169495 y tensor([54.6192], device='cuda:0')\n",
      "training-  y^ 0.982795774936676 y tensor([53.0057], device='cuda:0')\n",
      "training-  y^ 0.9851089119911194 y tensor([16.1647], device='cuda:0')\n",
      "training-  y^ 0.9881237149238586 y tensor([0.0672], device='cuda:0')\n",
      "training-  y^ 0.986228346824646 y tensor([11.8645], device='cuda:0')\n",
      "Train epoch 18 loss: 2400.618 correct: 0.00\n"
     ]
    },
    {
     "data": {
      "text/html": [
       "\n",
       "        <progress\n",
       "            value='3'\n",
       "            max='3',\n",
       "            style='width: 100%'\n",
       "        >\n",
       "            3\n",
       "        </progress>\n",
       "    "
      ],
      "text/plain": [
       "<IPython.core.display.HTML object>"
      ]
     },
     "metadata": {},
     "output_type": "display_data"
    },
    {
     "name": "stdout",
     "output_type": "stream",
     "text": [
      "Validation tensor([[[0.9828]]], device='cuda:0') tensor([28.6163], device='cuda:0') tensor(763.6109, device='cuda:0')\n",
      "Validation tensor([[[0.9781]]], device='cuda:0') tensor([22.7598], device='cuda:0') tensor(474.4431, device='cuda:0')\n",
      "Validation tensor([[[0.9806]]], device='cuda:0') tensor([20.2541], device='cuda:0') tensor(371.4663, device='cuda:0')\n",
      "Validation tensor([[[0.9850]]], device='cuda:0') tensor([5.3968], device='cuda:0') tensor(19.4635, device='cuda:0')\n",
      "Validation tensor([[[0.9840]]], device='cuda:0') tensor([21.1160], device='cuda:0') tensor(405.2952, device='cuda:0')\n",
      "Validation tensor([[[0.9821]]], device='cuda:0') tensor([51.7093], device='cuda:0') tensor(2573.2559, device='cuda:0')\n",
      "Validation tensor([[[0.9823]]], device='cuda:0') tensor([12.7589], device='cuda:0') tensor(138.6886, device='cuda:0')\n",
      "Validation tensor([[[0.9790]]], device='cuda:0') tensor([21.5135], device='cuda:0') tensor(421.6655, device='cuda:0')\n",
      "Validation tensor([[[0.9840]]], device='cuda:0') tensor([36.8525], device='cuda:0') tensor(1286.5509, device='cuda:0')\n",
      "Validation tensor([[[0.9848]]], device='cuda:0') tensor([17.6826], device='cuda:0') tensor(278.8149, device='cuda:0')\n",
      "Test epoch 18 loss: 3366.627 correct: 0.00\n",
      "training\n"
     ]
    },
    {
     "data": {
      "text/html": [
       "\n",
       "        <progress\n",
       "            value='5'\n",
       "            max='5',\n",
       "            style='width: 100%'\n",
       "        >\n",
       "            5\n",
       "        </progress>\n",
       "    "
      ],
      "text/plain": [
       "<IPython.core.display.HTML object>"
      ]
     },
     "metadata": {},
     "output_type": "display_data"
    },
    {
     "name": "stdout",
     "output_type": "stream",
     "text": [
      "training-  y^ 0.9871739149093628 y tensor([3.6421], device='cuda:0')\n",
      "training-  y^ 0.9830938577651978 y tensor([10.6966], device='cuda:0')\n",
      "training-  y^ 0.985611081123352 y tensor([40.3548], device='cuda:0')\n",
      "training-  y^ 0.9885364770889282 y tensor([0.0554], device='cuda:0')\n",
      "training-  y^ 0.9858127236366272 y tensor([16.1647], device='cuda:0')\n",
      "training-  y^ 0.9882318377494812 y tensor([1.3184], device='cuda:0')\n",
      "training-  y^ 0.9824792146682739 y tensor([18.9842], device='cuda:0')\n",
      "training-  y^ 0.9851853847503662 y tensor([54.6192], device='cuda:0')\n",
      "training-  y^ 0.9855212569236755 y tensor([40.6911], device='cuda:0')\n",
      "training-  y^ 0.9842050671577454 y tensor([53.0057], device='cuda:0')\n",
      "training-  y^ 0.9887793064117432 y tensor([0.5626], device='cuda:0')\n",
      "training-  y^ 0.9890629649162292 y tensor([0.0672], device='cuda:0')\n",
      "training-  y^ 0.9855214953422546 y tensor([2.9321], device='cuda:0')\n",
      "training-  y^ 0.9890422224998474 y tensor([0.2980], device='cuda:0')\n",
      "training-  y^ 0.9873759746551514 y tensor([11.8645], device='cuda:0')\n",
      "training-  y^ 0.9894002079963684 y tensor([0.0211], device='cuda:0')\n",
      "training-  y^ 0.9894118905067444 y tensor([0.1216], device='cuda:0')\n",
      "training-  y^ 0.988223671913147 y tensor([11.4718], device='cuda:0')\n",
      "training-  y^ 0.9890474677085876 y tensor([0.5208], device='cuda:0')\n",
      "training-  y^ 0.9890661239624023 y tensor([0.5009], device='cuda:0')\n",
      "Train epoch 19 loss: 2400.454 correct: 0.00\n"
     ]
    },
    {
     "data": {
      "text/html": [
       "\n",
       "        <progress\n",
       "            value='3'\n",
       "            max='3',\n",
       "            style='width: 100%'\n",
       "        >\n",
       "            3\n",
       "        </progress>\n",
       "    "
      ],
      "text/plain": [
       "<IPython.core.display.HTML object>"
      ]
     },
     "metadata": {},
     "output_type": "display_data"
    },
    {
     "name": "stdout",
     "output_type": "stream",
     "text": [
      "Validation tensor([[[0.9849]]], device='cuda:0') tensor([28.6163], device='cuda:0') tensor(763.4937, device='cuda:0')\n",
      "Validation tensor([[[0.9808]]], device='cuda:0') tensor([22.7598], device='cuda:0') tensor(474.3218, device='cuda:0')\n",
      "Validation tensor([[[0.9831]]], device='cuda:0') tensor([20.2541], device='cuda:0') tensor(371.3714, device='cuda:0')\n",
      "Validation tensor([[[0.9871]]], device='cuda:0') tensor([5.3968], device='cuda:0') tensor(19.4455, device='cuda:0')\n",
      "Validation tensor([[[0.9862]]], device='cuda:0') tensor([21.1160], device='cuda:0') tensor(405.2079, device='cuda:0')\n",
      "Validation tensor([[[0.9844]]], device='cuda:0') tensor([51.7093], device='cuda:0') tensor(2573.0159, device='cuda:0')\n",
      "Validation tensor([[[0.9847]]], device='cuda:0') tensor([12.7589], device='cuda:0') tensor(138.6306, device='cuda:0')\n",
      "Validation tensor([[[0.9823]]], device='cuda:0') tensor([21.5135], device='cuda:0') tensor(421.5298, device='cuda:0')\n",
      "Validation tensor([[[0.9863]]], device='cuda:0') tensor([36.8525], device='cuda:0') tensor(1286.3845, device='cuda:0')\n",
      "Validation tensor([[[0.9871]]], device='cuda:0') tensor([17.6826], device='cuda:0') tensor(278.7385, device='cuda:0')\n",
      "Test epoch 19 loss: 3366.070 correct: 0.00\n",
      "training\n"
     ]
    },
    {
     "data": {
      "text/html": [
       "\n",
       "        <progress\n",
       "            value='5'\n",
       "            max='5',\n",
       "            style='width: 100%'\n",
       "        >\n",
       "            5\n",
       "        </progress>\n",
       "    "
      ],
      "text/plain": [
       "<IPython.core.display.HTML object>"
      ]
     },
     "metadata": {},
     "output_type": "display_data"
    },
    {
     "name": "stdout",
     "output_type": "stream",
     "text": [
      "training-  y^ 0.9894075989723206 y tensor([0.2980], device='cuda:0')\n",
      "training-  y^ 0.9892505407333374 y tensor([1.3184], device='cuda:0')\n",
      "training-  y^ 0.9896450042724609 y tensor([0.0672], device='cuda:0')\n",
      "training-  y^ 0.9894813299179077 y tensor([0.5626], device='cuda:0')\n",
      "training-  y^ 0.9884954690933228 y tensor([11.4718], device='cuda:0')\n",
      "training-  y^ 0.9892848134040833 y tensor([0.5208], device='cuda:0')\n",
      "training-  y^ 0.9872846007347107 y tensor([40.3548], device='cuda:0')\n",
      "training-  y^ 0.9862776398658752 y tensor([54.6192], device='cuda:0')\n",
      "training-  y^ 0.9898468852043152 y tensor([0.1216], device='cuda:0')\n",
      "training-  y^ 0.9888862371444702 y tensor([3.6421], device='cuda:0')\n",
      "training-  y^ 0.9865228533744812 y tensor([2.9321], device='cuda:0')\n",
      "training-  y^ 0.9868772029876709 y tensor([40.6911], device='cuda:0')\n",
      "training-  y^ 0.9900646805763245 y tensor([0.0211], device='cuda:0')\n",
      "training-  y^ 0.9876101016998291 y tensor([16.1647], device='cuda:0')\n",
      "training-  y^ 0.9895792603492737 y tensor([0.5009], device='cuda:0')\n",
      "training-  y^ 0.9901934266090393 y tensor([0.0554], device='cuda:0')\n",
      "training-  y^ 0.9849280714988708 y tensor([18.9842], device='cuda:0')\n",
      "training-  y^ 0.9884161949157715 y tensor([11.8645], device='cuda:0')\n",
      "training-  y^ 0.9857261180877686 y tensor([10.6966], device='cuda:0')\n",
      "training-  y^ 0.9861627221107483 y tensor([53.0057], device='cuda:0')\n",
      "Train epoch 20 loss: 2400.257 correct: 0.00\n"
     ]
    },
    {
     "data": {
      "text/html": [
       "\n",
       "        <progress\n",
       "            value='3'\n",
       "            max='3',\n",
       "            style='width: 100%'\n",
       "        >\n",
       "            3\n",
       "        </progress>\n",
       "    "
      ],
      "text/plain": [
       "<IPython.core.display.HTML object>"
      ]
     },
     "metadata": {},
     "output_type": "display_data"
    },
    {
     "name": "stdout",
     "output_type": "stream",
     "text": [
      "Validation tensor([[[0.9858]]], device='cuda:0') tensor([28.6163], device='cuda:0') tensor(763.4401, device='cuda:0')\n",
      "Validation tensor([[[0.9818]]], device='cuda:0') tensor([22.7598], device='cuda:0') tensor(474.2791, device='cuda:0')\n",
      "Validation tensor([[[0.9841]]], device='cuda:0') tensor([20.2541], device='cuda:0') tensor(371.3312, device='cuda:0')\n",
      "Validation tensor([[[0.9876]]], device='cuda:0') tensor([5.3968], device='cuda:0') tensor(19.4413, device='cuda:0')\n",
      "Validation tensor([[[0.9869]]], device='cuda:0') tensor([21.1160], device='cuda:0') tensor(405.1813, device='cuda:0')\n",
      "Validation tensor([[[0.9852]]], device='cuda:0') tensor([51.7093], device='cuda:0') tensor(2572.9419, device='cuda:0')\n",
      "Validation tensor([[[0.9856]]], device='cuda:0') tensor([12.7589], device='cuda:0') tensor(138.6107, device='cuda:0')\n",
      "Validation tensor([[[0.9832]]], device='cuda:0') tensor([21.5135], device='cuda:0') tensor(421.4928, device='cuda:0')\n",
      "Validation tensor([[[0.9868]]], device='cuda:0') tensor([36.8525], device='cuda:0') tensor(1286.3484, device='cuda:0')\n",
      "Validation tensor([[[0.9876]]], device='cuda:0') tensor([17.6826], device='cuda:0') tensor(278.7223, device='cuda:0')\n",
      "Test epoch 20 loss: 3365.895 correct: 0.00\n",
      "training\n"
     ]
    },
    {
     "data": {
      "text/html": [
       "\n",
       "        <progress\n",
       "            value='5'\n",
       "            max='5',\n",
       "            style='width: 100%'\n",
       "        >\n",
       "            5\n",
       "        </progress>\n",
       "    "
      ],
      "text/plain": [
       "<IPython.core.display.HTML object>"
      ]
     },
     "metadata": {},
     "output_type": "display_data"
    },
    {
     "name": "stdout",
     "output_type": "stream",
     "text": [
      "training-  y^ 0.9894486665725708 y tensor([3.6421], device='cuda:0')\n",
      "training-  y^ 0.9863361120223999 y tensor([53.0057], device='cuda:0')\n",
      "training-  y^ 0.9905478358268738 y tensor([0.0672], device='cuda:0')\n",
      "training-  y^ 0.9881672263145447 y tensor([16.1647], device='cuda:0')\n",
      "training-  y^ 0.9861590266227722 y tensor([10.6966], device='cuda:0')\n",
      "training-  y^ 0.9907615780830383 y tensor([0.1216], device='cuda:0')\n",
      "training-  y^ 0.9890023469924927 y tensor([11.8645], device='cuda:0')\n",
      "training-  y^ 0.9907031059265137 y tensor([0.2980], device='cuda:0')\n",
      "training-  y^ 0.9901590943336487 y tensor([0.5009], device='cuda:0')\n",
      "training-  y^ 0.9906358122825623 y tensor([0.5626], device='cuda:0')\n",
      "training-  y^ 0.9877920746803284 y tensor([40.6911], device='cuda:0')\n",
      "training-  y^ 0.9876376390457153 y tensor([54.6192], device='cuda:0')\n",
      "training-  y^ 0.9900047183036804 y tensor([11.4718], device='cuda:0')\n",
      "training-  y^ 0.9911556243896484 y tensor([0.0554], device='cuda:0')\n",
      "training-  y^ 0.9907951951026917 y tensor([0.5208], device='cuda:0')\n",
      "training-  y^ 0.9878681898117065 y tensor([2.9321], device='cuda:0')\n",
      "training-  y^ 0.9909238219261169 y tensor([1.3184], device='cuda:0')\n",
      "training-  y^ 0.9888337254524231 y tensor([40.3548], device='cuda:0')\n",
      "training-  y^ 0.9862678050994873 y tensor([18.9842], device='cuda:0')\n",
      "training-  y^ 0.9913990497589111 y tensor([0.0211], device='cuda:0')\n",
      "Train epoch 21 loss: 2400.139 correct: 0.00\n"
     ]
    },
    {
     "data": {
      "text/html": [
       "\n",
       "        <progress\n",
       "            value='3'\n",
       "            max='3',\n",
       "            style='width: 100%'\n",
       "        >\n",
       "            3\n",
       "        </progress>\n",
       "    "
      ],
      "text/plain": [
       "<IPython.core.display.HTML object>"
      ]
     },
     "metadata": {},
     "output_type": "display_data"
    },
    {
     "name": "stdout",
     "output_type": "stream",
     "text": [
      "Validation tensor([[[0.9876]]], device='cuda:0') tensor([28.6163], device='cuda:0') tensor(763.3444, device='cuda:0')\n",
      "Validation tensor([[[0.9842]]], device='cuda:0') tensor([22.7598], device='cuda:0') tensor(474.1750, device='cuda:0')\n",
      "Validation tensor([[[0.9863]]], device='cuda:0') tensor([20.2541], device='cuda:0') tensor(371.2479, device='cuda:0')\n",
      "Validation tensor([[[0.9889]]], device='cuda:0') tensor([5.3968], device='cuda:0') tensor(19.4296, device='cuda:0')\n",
      "Validation tensor([[[0.9883]]], device='cuda:0') tensor([21.1160], device='cuda:0') tensor(405.1230, device='cuda:0')\n",
      "Validation tensor([[[0.9867]]], device='cuda:0') tensor([51.7093], device='cuda:0') tensor(2572.7825, device='cuda:0')\n",
      "Validation tensor([[[0.9875]]], device='cuda:0') tensor([12.7589], device='cuda:0') tensor(138.5649, device='cuda:0')\n",
      "Validation tensor([[[0.9855]]], device='cuda:0') tensor([21.5135], device='cuda:0') tensor(421.3978, device='cuda:0')\n",
      "Validation tensor([[[0.9882]]], device='cuda:0') tensor([36.8525], device='cuda:0') tensor(1286.2494, device='cuda:0')\n",
      "Validation tensor([[[0.9890]]], device='cuda:0') tensor([17.6826], device='cuda:0') tensor(278.6756, device='cuda:0')\n",
      "Test epoch 21 loss: 3365.495 correct: 0.00\n",
      "training\n"
     ]
    },
    {
     "data": {
      "text/html": [
       "\n",
       "        <progress\n",
       "            value='5'\n",
       "            max='5',\n",
       "            style='width: 100%'\n",
       "        >\n",
       "            5\n",
       "        </progress>\n",
       "    "
      ],
      "text/plain": [
       "<IPython.core.display.HTML object>"
      ]
     },
     "metadata": {},
     "output_type": "display_data"
    },
    {
     "name": "stdout",
     "output_type": "stream",
     "text": [
      "training-  y^ 0.9871158003807068 y tensor([10.6966], device='cuda:0')\n",
      "training-  y^ 0.9911068081855774 y tensor([1.3184], device='cuda:0')\n",
      "training-  y^ 0.9884922504425049 y tensor([40.6911], device='cuda:0')\n",
      "training-  y^ 0.9875929951667786 y tensor([53.0057], device='cuda:0')\n",
      "training-  y^ 0.991394579410553 y tensor([0.2980], device='cuda:0')\n",
      "training-  y^ 0.9907230734825134 y tensor([3.6421], device='cuda:0')\n",
      "training-  y^ 0.9916203022003174 y tensor([0.0672], device='cuda:0')\n",
      "training-  y^ 0.9885966181755066 y tensor([2.9321], device='cuda:0')\n",
      "training-  y^ 0.9894435405731201 y tensor([40.3548], device='cuda:0')\n",
      "training-  y^ 0.9917504191398621 y tensor([0.0554], device='cuda:0')\n",
      "training-  y^ 0.9912681579589844 y tensor([0.5009], device='cuda:0')\n",
      "training-  y^ 0.99151611328125 y tensor([0.5626], device='cuda:0')\n",
      "training-  y^ 0.9894880056381226 y tensor([16.1647], device='cuda:0')\n",
      "training-  y^ 0.9908010363578796 y tensor([11.4718], device='cuda:0')\n",
      "training-  y^ 0.9872995018959045 y tensor([18.9842], device='cuda:0')\n",
      "training-  y^ 0.990204930305481 y tensor([11.8645], device='cuda:0')\n",
      "training-  y^ 0.9919577836990356 y tensor([0.0211], device='cuda:0')\n",
      "training-  y^ 0.9915816187858582 y tensor([0.5208], device='cuda:0')\n",
      "training-  y^ 0.9888160228729248 y tensor([54.6192], device='cuda:0')\n",
      "training-  y^ 0.992006242275238 y tensor([0.1216], device='cuda:0')\n",
      "Train epoch 22 loss: 2400.014 correct: 0.00\n"
     ]
    },
    {
     "data": {
      "text/html": [
       "\n",
       "        <progress\n",
       "            value='3'\n",
       "            max='3',\n",
       "            style='width: 100%'\n",
       "        >\n",
       "            3\n",
       "        </progress>\n",
       "    "
      ],
      "text/plain": [
       "<IPython.core.display.HTML object>"
      ]
     },
     "metadata": {},
     "output_type": "display_data"
    },
    {
     "name": "stdout",
     "output_type": "stream",
     "text": [
      "Validation tensor([[[0.9884]]], device='cuda:0') tensor([28.6163], device='cuda:0') tensor(763.2982, device='cuda:0')\n",
      "Validation tensor([[[0.9846]]], device='cuda:0') tensor([22.7598], device='cuda:0') tensor(474.1562, device='cuda:0')\n",
      "Validation tensor([[[0.9869]]], device='cuda:0') tensor([20.2541], device='cuda:0') tensor(371.2244, device='cuda:0')\n",
      "Validation tensor([[[0.9898]]], device='cuda:0') tensor([5.3968], device='cuda:0') tensor(19.4219, device='cuda:0')\n",
      "Validation tensor([[[0.9893]]], device='cuda:0') tensor([21.1160], device='cuda:0') tensor(405.0853, device='cuda:0')\n",
      "Validation tensor([[[0.9878]]], device='cuda:0') tensor([51.7093], device='cuda:0') tensor(2572.6702, device='cuda:0')\n",
      "Validation tensor([[[0.9885]]], device='cuda:0') tensor([12.7589], device='cuda:0') tensor(138.5431, device='cuda:0')\n",
      "Validation tensor([[[0.9867]]], device='cuda:0') tensor([21.5135], device='cuda:0') tensor(421.3487, device='cuda:0')\n",
      "Validation tensor([[[0.9891]]], device='cuda:0') tensor([36.8525], device='cuda:0') tensor(1286.1815, device='cuda:0')\n",
      "Validation tensor([[[0.9900]]], device='cuda:0') tensor([17.6826], device='cuda:0') tensor(278.6437, device='cuda:0')\n",
      "Test epoch 22 loss: 3365.287 correct: 0.00\n",
      "training\n"
     ]
    },
    {
     "data": {
      "text/html": [
       "\n",
       "        <progress\n",
       "            value='5'\n",
       "            max='5',\n",
       "            style='width: 100%'\n",
       "        >\n",
       "            5\n",
       "        </progress>\n",
       "    "
      ],
      "text/plain": [
       "<IPython.core.display.HTML object>"
      ]
     },
     "metadata": {},
     "output_type": "display_data"
    },
    {
     "name": "stdout",
     "output_type": "stream",
     "text": [
      "training-  y^ 0.9903671741485596 y tensor([11.8645], device='cuda:0')\n",
      "training-  y^ 0.9892560243606567 y tensor([2.9321], device='cuda:0')\n",
      "training-  y^ 0.9921272993087769 y tensor([0.0211], device='cuda:0')\n",
      "training-  y^ 0.9899320602416992 y tensor([16.1647], device='cuda:0')\n",
      "training-  y^ 0.9921368360519409 y tensor([0.1216], device='cuda:0')\n",
      "training-  y^ 0.9883328080177307 y tensor([10.6966], device='cuda:0')\n",
      "training-  y^ 0.9880037307739258 y tensor([18.9842], device='cuda:0')\n",
      "training-  y^ 0.9896277189254761 y tensor([40.6911], device='cuda:0')\n",
      "training-  y^ 0.9914296269416809 y tensor([3.6421], device='cuda:0')\n",
      "training-  y^ 0.9922709465026855 y tensor([0.0672], device='cuda:0')\n",
      "training-  y^ 0.989346444606781 y tensor([54.6192], device='cuda:0')\n",
      "training-  y^ 0.9919223785400391 y tensor([0.5009], device='cuda:0')\n",
      "training-  y^ 0.9888985753059387 y tensor([53.0057], device='cuda:0')\n",
      "training-  y^ 0.992203950881958 y tensor([0.5626], device='cuda:0')\n",
      "training-  y^ 0.9925164580345154 y tensor([0.0554], device='cuda:0')\n",
      "training-  y^ 0.9921890497207642 y tensor([0.5208], device='cuda:0')\n",
      "training-  y^ 0.991643488407135 y tensor([11.4718], device='cuda:0')\n",
      "training-  y^ 0.9923281073570251 y tensor([1.3184], device='cuda:0')\n",
      "training-  y^ 0.9906028509140015 y tensor([40.3548], device='cuda:0')\n",
      "training-  y^ 0.9925510883331299 y tensor([0.2980], device='cuda:0')\n",
      "Train epoch 23 loss: 2399.900 correct: 0.00\n"
     ]
    },
    {
     "data": {
      "text/html": [
       "\n",
       "        <progress\n",
       "            value='3'\n",
       "            max='3',\n",
       "            style='width: 100%'\n",
       "        >\n",
       "            3\n",
       "        </progress>\n",
       "    "
      ],
      "text/plain": [
       "<IPython.core.display.HTML object>"
      ]
     },
     "metadata": {},
     "output_type": "display_data"
    },
    {
     "name": "stdout",
     "output_type": "stream",
     "text": [
      "Validation tensor([[[0.9896]]], device='cuda:0') tensor([28.6163], device='cuda:0') tensor(763.2304, device='cuda:0')\n",
      "Validation tensor([[[0.9864]]], device='cuda:0') tensor([22.7598], device='cuda:0') tensor(474.0785, device='cuda:0')\n",
      "Validation tensor([[[0.9885]]], device='cuda:0') tensor([20.2541], device='cuda:0') tensor(371.1636, device='cuda:0')\n",
      "Validation tensor([[[0.9907]]], device='cuda:0') tensor([5.3968], device='cuda:0') tensor(19.4138, device='cuda:0')\n",
      "Validation tensor([[[0.9903]]], device='cuda:0') tensor([21.1160], device='cuda:0') tensor(405.0423, device='cuda:0')\n",
      "Validation tensor([[[0.9889]]], device='cuda:0') tensor([51.7093], device='cuda:0') tensor(2572.5596, device='cuda:0')\n",
      "Validation tensor([[[0.9897]]], device='cuda:0') tensor([12.7589], device='cuda:0') tensor(138.5150, device='cuda:0')\n",
      "Validation tensor([[[0.9881]]], device='cuda:0') tensor([21.5135], device='cuda:0') tensor(421.2928, device='cuda:0')\n",
      "Validation tensor([[[0.9901]]], device='cuda:0') tensor([36.8525], device='cuda:0') tensor(1286.1125, device='cuda:0')\n",
      "Validation tensor([[[0.9908]]], device='cuda:0') tensor([17.6826], device='cuda:0') tensor(278.6147, device='cuda:0')\n",
      "Test epoch 23 loss: 3365.012 correct: 0.00\n",
      "training\n"
     ]
    },
    {
     "data": {
      "text/html": [
       "\n",
       "        <progress\n",
       "            value='5'\n",
       "            max='5',\n",
       "            style='width: 100%'\n",
       "        >\n",
       "            5\n",
       "        </progress>\n",
       "    "
      ],
      "text/plain": [
       "<IPython.core.display.HTML object>"
      ]
     },
     "metadata": {},
     "output_type": "display_data"
    },
    {
     "name": "stdout",
     "output_type": "stream",
     "text": [
      "training-  y^ 0.992743730545044 y tensor([0.0554], device='cuda:0')\n",
      "training-  y^ 0.9907169938087463 y tensor([40.3548], device='cuda:0')\n",
      "training-  y^ 0.9925081133842468 y tensor([1.3184], device='cuda:0')\n",
      "training-  y^ 0.9901755452156067 y tensor([40.6911], device='cuda:0')\n",
      "training-  y^ 0.9923055768013 y tensor([0.5009], device='cuda:0')\n",
      "training-  y^ 0.9929265379905701 y tensor([0.0211], device='cuda:0')\n",
      "training-  y^ 0.9929243326187134 y tensor([0.1216], device='cuda:0')\n",
      "training-  y^ 0.9926602244377136 y tensor([0.5626], device='cuda:0')\n",
      "training-  y^ 0.9926347136497498 y tensor([0.5208], device='cuda:0')\n",
      "training-  y^ 0.9920843839645386 y tensor([11.4718], device='cuda:0')\n",
      "training-  y^ 0.9914408922195435 y tensor([11.8645], device='cuda:0')\n",
      "training-  y^ 0.9893960356712341 y tensor([10.6966], device='cuda:0')\n",
      "training-  y^ 0.992302656173706 y tensor([3.6421], device='cuda:0')\n",
      "training-  y^ 0.9930678606033325 y tensor([0.0672], device='cuda:0')\n",
      "training-  y^ 0.9910781979560852 y tensor([16.1647], device='cuda:0')\n",
      "training-  y^ 0.9902201890945435 y tensor([54.6192], device='cuda:0')\n",
      "training-  y^ 0.9930018782615662 y tensor([0.2980], device='cuda:0')\n",
      "training-  y^ 0.9891228079795837 y tensor([18.9842], device='cuda:0')\n",
      "training-  y^ 0.9905511140823364 y tensor([2.9321], device='cuda:0')\n",
      "training-  y^ 0.9898676872253418 y tensor([53.0057], device='cuda:0')\n",
      "Train epoch 24 loss: 2399.805 correct: 0.00\n"
     ]
    },
    {
     "data": {
      "text/html": [
       "\n",
       "        <progress\n",
       "            value='3'\n",
       "            max='3',\n",
       "            style='width: 100%'\n",
       "        >\n",
       "            3\n",
       "        </progress>\n",
       "    "
      ],
      "text/plain": [
       "<IPython.core.display.HTML object>"
      ]
     },
     "metadata": {},
     "output_type": "display_data"
    },
    {
     "name": "stdout",
     "output_type": "stream",
     "text": [
      "Validation tensor([[[0.9899]]], device='cuda:0') tensor([28.6163], device='cuda:0') tensor(763.2162, device='cuda:0')\n",
      "Validation tensor([[[0.9871]]], device='cuda:0') tensor([22.7598], device='cuda:0') tensor(474.0514, device='cuda:0')\n",
      "Validation tensor([[[0.9889]]], device='cuda:0') tensor([20.2541], device='cuda:0') tensor(371.1449, device='cuda:0')\n",
      "Validation tensor([[[0.9909]]], device='cuda:0') tensor([5.3968], device='cuda:0') tensor(19.4123, device='cuda:0')\n",
      "Validation tensor([[[0.9905]]], device='cuda:0') tensor([21.1160], device='cuda:0') tensor(405.0333, device='cuda:0')\n",
      "Validation tensor([[[0.9893]]], device='cuda:0') tensor([51.7093], device='cuda:0') tensor(2572.5266, device='cuda:0')\n",
      "Validation tensor([[[0.9901]]], device='cuda:0') tensor([12.7589], device='cuda:0') tensor(138.5051, device='cuda:0')\n",
      "Validation tensor([[[0.9886]]], device='cuda:0') tensor([21.5135], device='cuda:0') tensor(421.2722, device='cuda:0')\n",
      "Validation tensor([[[0.9903]]], device='cuda:0') tensor([36.8525], device='cuda:0') tensor(1286.0953, device='cuda:0')\n",
      "Validation tensor([[[0.9910]]], device='cuda:0') tensor([17.6826], device='cuda:0') tensor(278.6088, device='cuda:0')\n",
      "Test epoch 24 loss: 3364.933 correct: 0.00\n",
      "training\n"
     ]
    },
    {
     "data": {
      "text/html": [
       "\n",
       "        <progress\n",
       "            value='5'\n",
       "            max='5',\n",
       "            style='width: 100%'\n",
       "        >\n",
       "            5\n",
       "        </progress>\n",
       "    "
      ],
      "text/plain": [
       "<IPython.core.display.HTML object>"
      ]
     },
     "metadata": {},
     "output_type": "display_data"
    },
    {
     "name": "stdout",
     "output_type": "stream",
     "text": [
      "training-  y^ 0.9930875897407532 y tensor([0.2980], device='cuda:0')\n",
      "training-  y^ 0.9925079941749573 y tensor([3.6421], device='cuda:0')\n",
      "training-  y^ 0.9907218217849731 y tensor([2.9321], device='cuda:0')\n",
      "training-  y^ 0.9900121092796326 y tensor([53.0057], device='cuda:0')\n",
      "training-  y^ 0.9914400577545166 y tensor([16.1647], device='cuda:0')\n",
      "training-  y^ 0.9905803799629211 y tensor([54.6192], device='cuda:0')\n",
      "training-  y^ 0.9895584583282471 y tensor([18.9842], device='cuda:0')\n",
      "training-  y^ 0.9934141039848328 y tensor([0.1216], device='cuda:0')\n",
      "training-  y^ 0.991912841796875 y tensor([11.8645], device='cuda:0')\n",
      "training-  y^ 0.9934883117675781 y tensor([0.0554], device='cuda:0')\n",
      "training-  y^ 0.9930816292762756 y tensor([0.5009], device='cuda:0')\n",
      "training-  y^ 0.9935135245323181 y tensor([0.0672], device='cuda:0')\n",
      "training-  y^ 0.9932234287261963 y tensor([0.5208], device='cuda:0')\n",
      "training-  y^ 0.9933474659919739 y tensor([0.5626], device='cuda:0')\n",
      "training-  y^ 0.9918437600135803 y tensor([40.3548], device='cuda:0')\n",
      "training-  y^ 0.9936275482177734 y tensor([0.0211], device='cuda:0')\n",
      "training-  y^ 0.9903330206871033 y tensor([10.6966], device='cuda:0')\n",
      "training-  y^ 0.9933706521987915 y tensor([1.3184], device='cuda:0')\n",
      "training-  y^ 0.9914058446884155 y tensor([40.6911], device='cuda:0')\n",
      "training-  y^ 0.9928325414657593 y tensor([11.4718], device='cuda:0')\n",
      "Train epoch 25 loss: 2399.728 correct: 0.00\n"
     ]
    },
    {
     "data": {
      "text/html": [
       "\n",
       "        <progress\n",
       "            value='3'\n",
       "            max='3',\n",
       "            style='width: 100%'\n",
       "        >\n",
       "            3\n",
       "        </progress>\n",
       "    "
      ],
      "text/plain": [
       "<IPython.core.display.HTML object>"
      ]
     },
     "metadata": {},
     "output_type": "display_data"
    },
    {
     "name": "stdout",
     "output_type": "stream",
     "text": [
      "Validation tensor([[[0.9907]]], device='cuda:0') tensor([28.6163], device='cuda:0') tensor(763.1698, device='cuda:0')\n",
      "Validation tensor([[[0.9876]]], device='cuda:0') tensor([22.7598], device='cuda:0') tensor(474.0255, device='cuda:0')\n",
      "Validation tensor([[[0.9897]]], device='cuda:0') tensor([20.2541], device='cuda:0') tensor(371.1161, device='cuda:0')\n",
      "Validation tensor([[[0.9917]]], device='cuda:0') tensor([5.3968], device='cuda:0') tensor(19.4046, device='cuda:0')\n",
      "Validation tensor([[[0.9914]]], device='cuda:0') tensor([21.1160], device='cuda:0') tensor(404.9991, device='cuda:0')\n",
      "Validation tensor([[[0.9902]]], device='cuda:0') tensor([51.7093], device='cuda:0') tensor(2572.4280, device='cuda:0')\n",
      "Validation tensor([[[0.9909]]], device='cuda:0') tensor([12.7589], device='cuda:0') tensor(138.4855, device='cuda:0')\n",
      "Validation tensor([[[0.9898]]], device='cuda:0') tensor([21.5135], device='cuda:0') tensor(421.2248, device='cuda:0')\n",
      "Validation tensor([[[0.9913]]], device='cuda:0') tensor([36.8525], device='cuda:0') tensor(1286.0237, device='cuda:0')\n",
      "Validation tensor([[[0.9919]]], device='cuda:0') tensor([17.6826], device='cuda:0') tensor(278.5781, device='cuda:0')\n",
      "Test epoch 25 loss: 3364.728 correct: 0.00\n",
      "training\n"
     ]
    },
    {
     "data": {
      "text/html": [
       "\n",
       "        <progress\n",
       "            value='5'\n",
       "            max='5',\n",
       "            style='width: 100%'\n",
       "        >\n",
       "            5\n",
       "        </progress>\n",
       "    "
      ],
      "text/plain": [
       "<IPython.core.display.HTML object>"
      ]
     },
     "metadata": {},
     "output_type": "display_data"
    },
    {
     "name": "stdout",
     "output_type": "stream",
     "text": [
      "training-  y^ 0.9928586483001709 y tensor([11.4718], device='cuda:0')\n",
      "training-  y^ 0.9906856417655945 y tensor([53.0057], device='cuda:0')\n",
      "training-  y^ 0.9923093318939209 y tensor([11.8645], device='cuda:0')\n",
      "training-  y^ 0.99213045835495 y tensor([40.3548], device='cuda:0')\n",
      "training-  y^ 0.9920306205749512 y tensor([16.1647], device='cuda:0')\n",
      "training-  y^ 0.9935503005981445 y tensor([0.5009], device='cuda:0')\n",
      "training-  y^ 0.9912009239196777 y tensor([54.6192], device='cuda:0')\n",
      "training-  y^ 0.9904987215995789 y tensor([18.9842], device='cuda:0')\n",
      "training-  y^ 0.991769552230835 y tensor([40.6911], device='cuda:0')\n",
      "training-  y^ 0.9937923550605774 y tensor([0.5626], device='cuda:0')\n",
      "training-  y^ 0.9940944314002991 y tensor([0.0211], device='cuda:0')\n",
      "training-  y^ 0.9940954446792603 y tensor([0.1216], device='cuda:0')\n",
      "training-  y^ 0.9941363334655762 y tensor([0.0554], device='cuda:0')\n",
      "training-  y^ 0.9940215945243835 y tensor([0.2980], device='cuda:0')\n",
      "training-  y^ 0.9935130476951599 y tensor([3.6421], device='cuda:0')\n",
      "training-  y^ 0.9920405745506287 y tensor([2.9321], device='cuda:0')\n",
      "training-  y^ 0.994191586971283 y tensor([0.0672], device='cuda:0')\n",
      "training-  y^ 0.9911673665046692 y tensor([10.6966], device='cuda:0')\n",
      "training-  y^ 0.9939822554588318 y tensor([1.3184], device='cuda:0')\n",
      "training-  y^ 0.9939515590667725 y tensor([0.5208], device='cuda:0')\n",
      "Train epoch 26 loss: 2399.661 correct: 0.00\n"
     ]
    },
    {
     "data": {
      "text/html": [
       "\n",
       "        <progress\n",
       "            value='3'\n",
       "            max='3',\n",
       "            style='width: 100%'\n",
       "        >\n",
       "            3\n",
       "        </progress>\n",
       "    "
      ],
      "text/plain": [
       "<IPython.core.display.HTML object>"
      ]
     },
     "metadata": {},
     "output_type": "display_data"
    },
    {
     "name": "stdout",
     "output_type": "stream",
     "text": [
      "Validation tensor([[[0.9918]]], device='cuda:0') tensor([28.6163], device='cuda:0') tensor(763.1094, device='cuda:0')\n",
      "Validation tensor([[[0.9890]]], device='cuda:0') tensor([22.7598], device='cuda:0') tensor(473.9666, device='cuda:0')\n",
      "Validation tensor([[[0.9910]]], device='cuda:0') tensor([20.2541], device='cuda:0') tensor(371.0664, device='cuda:0')\n",
      "Validation tensor([[[0.9926]]], device='cuda:0') tensor([5.3968], device='cuda:0') tensor(19.3966, device='cuda:0')\n",
      "Validation tensor([[[0.9924]]], device='cuda:0') tensor([21.1160], device='cuda:0') tensor(404.9582, device='cuda:0')\n",
      "Validation tensor([[[0.9914]]], device='cuda:0') tensor([51.7093], device='cuda:0') tensor(2572.3096, device='cuda:0')\n",
      "Validation tensor([[[0.9920]]], device='cuda:0') tensor([12.7589], device='cuda:0') tensor(138.4592, device='cuda:0')\n",
      "Validation tensor([[[0.9909]]], device='cuda:0') tensor([21.5135], device='cuda:0') tensor(421.1760, device='cuda:0')\n",
      "Validation tensor([[[0.9923]]], device='cuda:0') tensor([36.8525], device='cuda:0') tensor(1285.9561, device='cuda:0')\n",
      "Validation tensor([[[0.9928]]], device='cuda:0') tensor([17.6826], device='cuda:0') tensor(278.5487, device='cuda:0')\n",
      "Test epoch 26 loss: 3364.473 correct: 0.00\n",
      "training\n"
     ]
    },
    {
     "data": {
      "text/html": [
       "\n",
       "        <progress\n",
       "            value='5'\n",
       "            max='5',\n",
       "            style='width: 100%'\n",
       "        >\n",
       "            5\n",
       "        </progress>\n",
       "    "
      ],
      "text/plain": [
       "<IPython.core.display.HTML object>"
      ]
     },
     "metadata": {},
     "output_type": "display_data"
    },
    {
     "name": "stdout",
     "output_type": "stream",
     "text": [
      "training-  y^ 0.9940087795257568 y tensor([1.3184], device='cuda:0')\n",
      "training-  y^ 0.9926935434341431 y tensor([40.3548], device='cuda:0')\n",
      "training-  y^ 0.9942796230316162 y tensor([0.1216], device='cuda:0')\n",
      "training-  y^ 0.991447925567627 y tensor([53.0057], device='cuda:0')\n",
      "training-  y^ 0.9942018389701843 y tensor([0.2980], device='cuda:0')\n",
      "training-  y^ 0.9926744103431702 y tensor([16.1647], device='cuda:0')\n",
      "training-  y^ 0.9940832257270813 y tensor([0.5208], device='cuda:0')\n",
      "training-  y^ 0.9929948449134827 y tensor([11.8645], device='cuda:0')\n",
      "training-  y^ 0.9940499067306519 y tensor([0.5009], device='cuda:0')\n",
      "training-  y^ 0.9944555163383484 y tensor([0.0211], device='cuda:0')\n",
      "training-  y^ 0.991950511932373 y tensor([54.6192], device='cuda:0')\n",
      "training-  y^ 0.9938417673110962 y tensor([3.6421], device='cuda:0')\n",
      "training-  y^ 0.9944990873336792 y tensor([0.0554], device='cuda:0')\n",
      "training-  y^ 0.9923685193061829 y tensor([40.6911], device='cuda:0')\n",
      "training-  y^ 0.9945160746574402 y tensor([0.0672], device='cuda:0')\n",
      "training-  y^ 0.9924828410148621 y tensor([2.9321], device='cuda:0')\n",
      "training-  y^ 0.9943238496780396 y tensor([0.5626], device='cuda:0')\n",
      "training-  y^ 0.9914131164550781 y tensor([18.9842], device='cuda:0')\n",
      "training-  y^ 0.9938403367996216 y tensor([11.4718], device='cuda:0')\n",
      "training-  y^ 0.991703987121582 y tensor([10.6966], device='cuda:0')\n",
      "Train epoch 27 loss: 2399.574 correct: 0.00\n"
     ]
    },
    {
     "data": {
      "text/html": [
       "\n",
       "        <progress\n",
       "            value='3'\n",
       "            max='3',\n",
       "            style='width: 100%'\n",
       "        >\n",
       "            3\n",
       "        </progress>\n",
       "    "
      ],
      "text/plain": [
       "<IPython.core.display.HTML object>"
      ]
     },
     "metadata": {},
     "output_type": "display_data"
    },
    {
     "name": "stdout",
     "output_type": "stream",
     "text": [
      "Validation tensor([[[0.9921]]], device='cuda:0') tensor([28.6163], device='cuda:0') tensor(763.0961, device='cuda:0')\n",
      "Validation tensor([[[0.9895]]], device='cuda:0') tensor([22.7598], device='cuda:0') tensor(473.9434, device='cuda:0')\n",
      "Validation tensor([[[0.9914]]], device='cuda:0') tensor([20.2541], device='cuda:0') tensor(371.0503, device='cuda:0')\n",
      "Validation tensor([[[0.9928]]], device='cuda:0') tensor([5.3968], device='cuda:0') tensor(19.3952, device='cuda:0')\n",
      "Validation tensor([[[0.9926]]], device='cuda:0') tensor([21.1160], device='cuda:0') tensor(404.9495, device='cuda:0')\n",
      "Validation tensor([[[0.9916]]], device='cuda:0') tensor([51.7093], device='cuda:0') tensor(2572.2849, device='cuda:0')\n",
      "Validation tensor([[[0.9923]]], device='cuda:0') tensor([12.7589], device='cuda:0') tensor(138.4517, device='cuda:0')\n",
      "Validation tensor([[[0.9912]]], device='cuda:0') tensor([21.5135], device='cuda:0') tensor(421.1651, device='cuda:0')\n",
      "Validation tensor([[[0.9925]]], device='cuda:0') tensor([36.8525], device='cuda:0') tensor(1285.9413, device='cuda:0')\n",
      "Validation tensor([[[0.9930]]], device='cuda:0') tensor([17.6826], device='cuda:0') tensor(278.5442, device='cuda:0')\n",
      "Test epoch 27 loss: 3364.411 correct: 0.00\n",
      "training\n"
     ]
    },
    {
     "data": {
      "text/html": [
       "\n",
       "        <progress\n",
       "            value='5'\n",
       "            max='5',\n",
       "            style='width: 100%'\n",
       "        >\n",
       "            5\n",
       "        </progress>\n",
       "    "
      ],
      "text/plain": [
       "<IPython.core.display.HTML object>"
      ]
     },
     "metadata": {},
     "output_type": "display_data"
    },
    {
     "name": "stdout",
     "output_type": "stream",
     "text": [
      "training-  y^ 0.9925451874732971 y tensor([40.6911], device='cuda:0')\n",
      "training-  y^ 0.9932849407196045 y tensor([11.8645], device='cuda:0')\n",
      "training-  y^ 0.9944300055503845 y tensor([0.5626], device='cuda:0')\n",
      "training-  y^ 0.9946916699409485 y tensor([0.0554], device='cuda:0')\n",
      "training-  y^ 0.9943485856056213 y tensor([0.5009], device='cuda:0')\n",
      "training-  y^ 0.993121325969696 y tensor([16.1647], device='cuda:0')\n",
      "training-  y^ 0.9918881058692932 y tensor([10.6966], device='cuda:0')\n",
      "training-  y^ 0.9941362142562866 y tensor([3.6421], device='cuda:0')\n",
      "training-  y^ 0.9917551279067993 y tensor([18.9842], device='cuda:0')\n",
      "training-  y^ 0.9944915771484375 y tensor([0.5208], device='cuda:0')\n",
      "training-  y^ 0.9946594834327698 y tensor([0.2980], device='cuda:0')\n",
      "training-  y^ 0.9948063492774963 y tensor([0.0211], device='cuda:0')\n",
      "training-  y^ 0.9947829842567444 y tensor([0.0672], device='cuda:0')\n",
      "training-  y^ 0.9945693612098694 y tensor([1.3184], device='cuda:0')\n",
      "training-  y^ 0.9928960204124451 y tensor([2.9321], device='cuda:0')\n",
      "training-  y^ 0.9933828115463257 y tensor([40.3548], device='cuda:0')\n",
      "training-  y^ 0.9941014647483826 y tensor([11.4718], device='cuda:0')\n",
      "training-  y^ 0.9948311448097229 y tensor([0.1216], device='cuda:0')\n",
      "training-  y^ 0.9924386143684387 y tensor([54.6192], device='cuda:0')\n",
      "training-  y^ 0.9921948909759521 y tensor([53.0057], device='cuda:0')\n",
      "Train epoch 28 loss: 2399.514 correct: 0.00\n"
     ]
    },
    {
     "data": {
      "text/html": [
       "\n",
       "        <progress\n",
       "            value='3'\n",
       "            max='3',\n",
       "            style='width: 100%'\n",
       "        >\n",
       "            3\n",
       "        </progress>\n",
       "    "
      ],
      "text/plain": [
       "<IPython.core.display.HTML object>"
      ]
     },
     "metadata": {},
     "output_type": "display_data"
    },
    {
     "name": "stdout",
     "output_type": "stream",
     "text": [
      "Validation tensor([[[0.9924]]], device='cuda:0') tensor([28.6163], device='cuda:0') tensor(763.0798, device='cuda:0')\n",
      "Validation tensor([[[0.9897]]], device='cuda:0') tensor([22.7598], device='cuda:0') tensor(473.9363, device='cuda:0')\n",
      "Validation tensor([[[0.9917]]], device='cuda:0') tensor([20.2541], device='cuda:0') tensor(371.0402, device='cuda:0')\n",
      "Validation tensor([[[0.9931]]], device='cuda:0') tensor([5.3968], device='cuda:0') tensor(19.3927, device='cuda:0')\n",
      "Validation tensor([[[0.9929]]], device='cuda:0') tensor([21.1160], device='cuda:0') tensor(404.9382, device='cuda:0')\n",
      "Validation tensor([[[0.9920]]], device='cuda:0') tensor([51.7093], device='cuda:0') tensor(2572.2515, device='cuda:0')\n",
      "Validation tensor([[[0.9926]]], device='cuda:0') tensor([12.7589], device='cuda:0') tensor(138.4448, device='cuda:0')\n",
      "Validation tensor([[[0.9916]]], device='cuda:0') tensor([21.5135], device='cuda:0') tensor(421.1494, device='cuda:0')\n",
      "Validation tensor([[[0.9927]]], device='cuda:0') tensor([36.8525], device='cuda:0') tensor(1285.9210, device='cuda:0')\n",
      "Validation tensor([[[0.9932]]], device='cuda:0') tensor([17.6826], device='cuda:0') tensor(278.5343, device='cuda:0')\n",
      "Test epoch 28 loss: 3364.344 correct: 0.00\n",
      "training\n"
     ]
    },
    {
     "data": {
      "text/html": [
       "\n",
       "        <progress\n",
       "            value='5'\n",
       "            max='5',\n",
       "            style='width: 100%'\n",
       "        >\n",
       "            5\n",
       "        </progress>\n",
       "    "
      ],
      "text/plain": [
       "<IPython.core.display.HTML object>"
      ]
     },
     "metadata": {},
     "output_type": "display_data"
    },
    {
     "name": "stdout",
     "output_type": "stream",
     "text": [
      "training-  y^ 0.994771420955658 y tensor([0.2980], device='cuda:0')\n",
      "training-  y^ 0.9930423498153687 y tensor([2.9321], device='cuda:0')\n",
      "training-  y^ 0.9930018782615662 y tensor([40.6911], device='cuda:0')\n",
      "training-  y^ 0.9947190284729004 y tensor([1.3184], device='cuda:0')\n",
      "training-  y^ 0.9935808181762695 y tensor([40.3548], device='cuda:0')\n",
      "training-  y^ 0.9924039244651794 y tensor([53.0057], device='cuda:0')\n",
      "training-  y^ 0.9927009344100952 y tensor([54.6192], device='cuda:0')\n",
      "training-  y^ 0.9944856762886047 y tensor([3.6421], device='cuda:0')\n",
      "training-  y^ 0.9947720170021057 y tensor([0.5009], device='cuda:0')\n",
      "training-  y^ 0.9944124817848206 y tensor([11.4718], device='cuda:0')\n",
      "training-  y^ 0.99489426612854 y tensor([0.5208], device='cuda:0')\n",
      "training-  y^ 0.9949638843536377 y tensor([0.5626], device='cuda:0')\n",
      "training-  y^ 0.9937299489974976 y tensor([16.1647], device='cuda:0')\n",
      "training-  y^ 0.9952201247215271 y tensor([0.0554], device='cuda:0')\n",
      "training-  y^ 0.9939447045326233 y tensor([11.8645], device='cuda:0')\n",
      "training-  y^ 0.9952632188796997 y tensor([0.0211], device='cuda:0')\n",
      "training-  y^ 0.992416501045227 y tensor([18.9842], device='cuda:0')\n",
      "training-  y^ 0.9952693581581116 y tensor([0.0672], device='cuda:0')\n",
      "training-  y^ 0.9926825165748596 y tensor([10.6966], device='cuda:0')\n",
      "training-  y^ 0.995302677154541 y tensor([0.1216], device='cuda:0')\n",
      "Train epoch 29 loss: 2399.469 correct: 0.00\n"
     ]
    },
    {
     "data": {
      "text/html": [
       "\n",
       "        <progress\n",
       "            value='3'\n",
       "            max='3',\n",
       "            style='width: 100%'\n",
       "        >\n",
       "            3\n",
       "        </progress>\n",
       "    "
      ],
      "text/plain": [
       "<IPython.core.display.HTML object>"
      ]
     },
     "metadata": {},
     "output_type": "display_data"
    },
    {
     "name": "stdout",
     "output_type": "stream",
     "text": [
      "Validation tensor([[[0.9932]]], device='cuda:0') tensor([28.6163], device='cuda:0') tensor(763.0347, device='cuda:0')\n",
      "Validation tensor([[[0.9911]]], device='cuda:0') tensor([22.7598], device='cuda:0') tensor(473.8761, device='cuda:0')\n",
      "Validation tensor([[[0.9926]]], device='cuda:0') tensor([20.2541], device='cuda:0') tensor(371.0042, device='cuda:0')\n",
      "Validation tensor([[[0.9937]]], device='cuda:0') tensor([5.3968], device='cuda:0') tensor(19.3869, device='cuda:0')\n",
      "Validation tensor([[[0.9937]]], device='cuda:0') tensor([21.1160], device='cuda:0') tensor(404.9074, device='cuda:0')\n",
      "Validation tensor([[[0.9928]]], device='cuda:0') tensor([51.7093], device='cuda:0') tensor(2572.1626, device='cuda:0')\n",
      "Validation tensor([[[0.9935]]], device='cuda:0') tensor([12.7589], device='cuda:0') tensor(138.4248, device='cuda:0')\n",
      "Validation tensor([[[0.9925]]], device='cuda:0') tensor([21.5135], device='cuda:0') tensor(421.1124, device='cuda:0')\n",
      "Validation tensor([[[0.9935]]], device='cuda:0') tensor([36.8525], device='cuda:0') tensor(1285.8639, device='cuda:0')\n",
      "Validation tensor([[[0.9939]]], device='cuda:0') tensor([17.6826], device='cuda:0') tensor(278.5125, device='cuda:0')\n",
      "Test epoch 29 loss: 3364.143 correct: 0.00\n",
      "training\n"
     ]
    },
    {
     "data": {
      "text/html": [
       "\n",
       "        <progress\n",
       "            value='5'\n",
       "            max='5',\n",
       "            style='width: 100%'\n",
       "        >\n",
       "            5\n",
       "        </progress>\n",
       "    "
      ],
      "text/plain": [
       "<IPython.core.display.HTML object>"
      ]
     },
     "metadata": {},
     "output_type": "display_data"
    },
    {
     "name": "stdout",
     "output_type": "stream",
     "text": [
      "training-  y^ 0.9949666857719421 y tensor([0.5009], device='cuda:0')\n",
      "training-  y^ 0.9935357570648193 y tensor([2.9321], device='cuda:0')\n",
      "training-  y^ 0.9940829873085022 y tensor([11.8645], device='cuda:0')\n",
      "training-  y^ 0.9953694939613342 y tensor([0.0211], device='cuda:0')\n",
      "training-  y^ 0.9925761222839355 y tensor([18.9842], device='cuda:0')\n",
      "training-  y^ 0.9951667785644531 y tensor([0.5626], device='cuda:0')\n",
      "training-  y^ 0.9953799247741699 y tensor([0.1216], device='cuda:0')\n",
      "training-  y^ 0.9931991696357727 y tensor([54.6192], device='cuda:0')\n",
      "training-  y^ 0.9954158067703247 y tensor([0.0554], device='cuda:0')\n",
      "training-  y^ 0.9941095113754272 y tensor([40.3548], device='cuda:0')\n",
      "training-  y^ 0.9947605729103088 y tensor([11.4718], device='cuda:0')\n",
      "training-  y^ 0.9940615296363831 y tensor([16.1647], device='cuda:0')\n",
      "training-  y^ 0.9930102229118347 y tensor([53.0057], device='cuda:0')\n",
      "training-  y^ 0.9953749775886536 y tensor([0.2980], device='cuda:0')\n",
      "training-  y^ 0.9929960370063782 y tensor([10.6966], device='cuda:0')\n",
      "training-  y^ 0.9949787259101868 y tensor([3.6421], device='cuda:0')\n",
      "training-  y^ 0.9955151677131653 y tensor([0.0672], device='cuda:0')\n",
      "training-  y^ 0.9953300952911377 y tensor([1.3184], device='cuda:0')\n",
      "training-  y^ 0.995309054851532 y tensor([0.5208], device='cuda:0')\n",
      "training-  y^ 0.9937414526939392 y tensor([40.6911], device='cuda:0')\n",
      "Train epoch 30 loss: 2399.407 correct: 0.00\n"
     ]
    },
    {
     "data": {
      "text/html": [
       "\n",
       "        <progress\n",
       "            value='3'\n",
       "            max='3',\n",
       "            style='width: 100%'\n",
       "        >\n",
       "            3\n",
       "        </progress>\n",
       "    "
      ],
      "text/plain": [
       "<IPython.core.display.HTML object>"
      ]
     },
     "metadata": {},
     "output_type": "display_data"
    },
    {
     "name": "stdout",
     "output_type": "stream",
     "text": [
      "Validation tensor([[[0.9935]]], device='cuda:0') tensor([28.6163], device='cuda:0') tensor(763.0198, device='cuda:0')\n",
      "Validation tensor([[[0.9915]]], device='cuda:0') tensor([22.7598], device='cuda:0') tensor(473.8580, device='cuda:0')\n",
      "Validation tensor([[[0.9929]]], device='cuda:0') tensor([20.2541], device='cuda:0') tensor(370.9931, device='cuda:0')\n",
      "Validation tensor([[[0.9940]]], device='cuda:0') tensor([5.3968], device='cuda:0') tensor(19.3847, device='cuda:0')\n",
      "Validation tensor([[[0.9940]]], device='cuda:0') tensor([21.1160], device='cuda:0') tensor(404.8962, device='cuda:0')\n",
      "Validation tensor([[[0.9931]]], device='cuda:0') tensor([51.7093], device='cuda:0') tensor(2572.1355, device='cuda:0')\n",
      "Validation tensor([[[0.9937]]], device='cuda:0') tensor([12.7589], device='cuda:0') tensor(138.4186, device='cuda:0')\n",
      "Validation tensor([[[0.9928]]], device='cuda:0') tensor([21.5135], device='cuda:0') tensor(421.0988, device='cuda:0')\n",
      "Validation tensor([[[0.9938]]], device='cuda:0') tensor([36.8525], device='cuda:0') tensor(1285.8450, device='cuda:0')\n",
      "Validation tensor([[[0.9941]]], device='cuda:0') tensor([17.6826], device='cuda:0') tensor(278.5044, device='cuda:0')\n",
      "Test epoch 30 loss: 3364.077 correct: 0.00\n",
      "training\n"
     ]
    },
    {
     "data": {
      "text/html": [
       "\n",
       "        <progress\n",
       "            value='5'\n",
       "            max='5',\n",
       "            style='width: 100%'\n",
       "        >\n",
       "            5\n",
       "        </progress>\n",
       "    "
      ],
      "text/plain": [
       "<IPython.core.display.HTML object>"
      ]
     },
     "metadata": {},
     "output_type": "display_data"
    },
    {
     "name": "stdout",
     "output_type": "stream",
     "text": [
      "training-  y^ 0.9943769574165344 y tensor([11.8645], device='cuda:0')\n",
      "training-  y^ 0.9953985810279846 y tensor([0.5626], device='cuda:0')\n",
      "training-  y^ 0.9950764775276184 y tensor([3.6421], device='cuda:0')\n",
      "training-  y^ 0.9955095052719116 y tensor([0.2980], device='cuda:0')\n",
      "training-  y^ 0.9956389665603638 y tensor([0.0211], device='cuda:0')\n",
      "training-  y^ 0.9938574433326721 y tensor([40.6911], device='cuda:0')\n",
      "training-  y^ 0.993996262550354 y tensor([2.9321], device='cuda:0')\n",
      "training-  y^ 0.9954473376274109 y tensor([1.3184], device='cuda:0')\n",
      "training-  y^ 0.9932658672332764 y tensor([10.6966], device='cuda:0')\n",
      "training-  y^ 0.9956604838371277 y tensor([0.0672], device='cuda:0')\n",
      "training-  y^ 0.9944552779197693 y tensor([40.3548], device='cuda:0')\n",
      "training-  y^ 0.9950528740882874 y tensor([11.4718], device='cuda:0')\n",
      "training-  y^ 0.9957007765769958 y tensor([0.1216], device='cuda:0')\n",
      "training-  y^ 0.9932137727737427 y tensor([18.9842], device='cuda:0')\n",
      "training-  y^ 0.9934253692626953 y tensor([53.0057], device='cuda:0')\n",
      "training-  y^ 0.9957568049430847 y tensor([0.0554], device='cuda:0')\n",
      "training-  y^ 0.9955357313156128 y tensor([0.5208], device='cuda:0')\n",
      "training-  y^ 0.9936475157737732 y tensor([54.6192], device='cuda:0')\n",
      "training-  y^ 0.9955457448959351 y tensor([0.5009], device='cuda:0')\n",
      "training-  y^ 0.9945196509361267 y tensor([16.1647], device='cuda:0')\n",
      "Train epoch 31 loss: 2399.361 correct: 0.00\n"
     ]
    },
    {
     "data": {
      "text/html": [
       "\n",
       "        <progress\n",
       "            value='3'\n",
       "            max='3',\n",
       "            style='width: 100%'\n",
       "        >\n",
       "            3\n",
       "        </progress>\n",
       "    "
      ],
      "text/plain": [
       "<IPython.core.display.HTML object>"
      ]
     },
     "metadata": {},
     "output_type": "display_data"
    },
    {
     "name": "stdout",
     "output_type": "stream",
     "text": [
      "Validation tensor([[[0.9938]]], device='cuda:0') tensor([28.6163], device='cuda:0') tensor(763.0009, device='cuda:0')\n",
      "Validation tensor([[[0.9918]]], device='cuda:0') tensor([22.7598], device='cuda:0') tensor(473.8461, device='cuda:0')\n",
      "Validation tensor([[[0.9932]]], device='cuda:0') tensor([20.2541], device='cuda:0') tensor(370.9791, device='cuda:0')\n",
      "Validation tensor([[[0.9943]]], device='cuda:0') tensor([5.3968], device='cuda:0') tensor(19.3820, device='cuda:0')\n",
      "Validation tensor([[[0.9943]]], device='cuda:0') tensor([21.1160], device='cuda:0') tensor(404.8834, device='cuda:0')\n",
      "Validation tensor([[[0.9935]]], device='cuda:0') tensor([51.7093], device='cuda:0') tensor(2572.0994, device='cuda:0')\n",
      "Validation tensor([[[0.9941]]], device='cuda:0') tensor([12.7589], device='cuda:0') tensor(138.4104, device='cuda:0')\n",
      "Validation tensor([[[0.9932]]], device='cuda:0') tensor([21.5135], device='cuda:0') tensor(421.0822, device='cuda:0')\n",
      "Validation tensor([[[0.9941]]], device='cuda:0') tensor([36.8525], device='cuda:0') tensor(1285.8236, device='cuda:0')\n",
      "Validation tensor([[[0.9945]]], device='cuda:0') tensor([17.6826], device='cuda:0') tensor(278.4936, device='cuda:0')\n",
      "Test epoch 31 loss: 3364.000 correct: 0.00\n",
      "training\n"
     ]
    },
    {
     "data": {
      "text/html": [
       "\n",
       "        <progress\n",
       "            value='5'\n",
       "            max='5',\n",
       "            style='width: 100%'\n",
       "        >\n",
       "            5\n",
       "        </progress>\n",
       "    "
      ],
      "text/plain": [
       "<IPython.core.display.HTML object>"
      ]
     },
     "metadata": {},
     "output_type": "display_data"
    },
    {
     "name": "stdout",
     "output_type": "stream",
     "text": [
      "training-  y^ 0.9958418011665344 y tensor([0.0554], device='cuda:0')\n",
      "training-  y^ 0.9958439469337463 y tensor([0.1216], device='cuda:0')\n",
      "training-  y^ 0.995364785194397 y tensor([3.6421], device='cuda:0')\n",
      "training-  y^ 0.993800938129425 y tensor([54.6192], device='cuda:0')\n",
      "training-  y^ 0.9941792488098145 y tensor([40.6911], device='cuda:0')\n",
      "training-  y^ 0.9936508536338806 y tensor([53.0057], device='cuda:0')\n",
      "training-  y^ 0.9947460889816284 y tensor([40.3548], device='cuda:0')\n",
      "training-  y^ 0.9953294992446899 y tensor([11.4718], device='cuda:0')\n",
      "training-  y^ 0.9957758784294128 y tensor([1.3184], device='cuda:0')\n",
      "training-  y^ 0.9937165379524231 y tensor([10.6966], device='cuda:0')\n",
      "training-  y^ 0.9947786331176758 y tensor([16.1647], device='cuda:0')\n",
      "training-  y^ 0.9936190247535706 y tensor([18.9842], device='cuda:0')\n",
      "training-  y^ 0.9957550764083862 y tensor([0.5009], device='cuda:0')\n",
      "training-  y^ 0.996046245098114 y tensor([0.0672], device='cuda:0')\n",
      "training-  y^ 0.9949310421943665 y tensor([11.8645], device='cuda:0')\n",
      "training-  y^ 0.9959904551506042 y tensor([0.2980], device='cuda:0')\n",
      "training-  y^ 0.9958802461624146 y tensor([0.5208], device='cuda:0')\n",
      "training-  y^ 0.9959367513656616 y tensor([0.5626], device='cuda:0')\n",
      "training-  y^ 0.9961280226707458 y tensor([0.0211], device='cuda:0')\n",
      "training-  y^ 0.9946362376213074 y tensor([2.9321], device='cuda:0')\n",
      "Train epoch 32 loss: 2399.327 correct: 0.00\n"
     ]
    },
    {
     "data": {
      "text/html": [
       "\n",
       "        <progress\n",
       "            value='3'\n",
       "            max='3',\n",
       "            style='width: 100%'\n",
       "        >\n",
       "            3\n",
       "        </progress>\n",
       "    "
      ],
      "text/plain": [
       "<IPython.core.display.HTML object>"
      ]
     },
     "metadata": {},
     "output_type": "display_data"
    },
    {
     "name": "stdout",
     "output_type": "stream",
     "text": [
      "Validation tensor([[[0.9944]]], device='cuda:0') tensor([28.6163], device='cuda:0') tensor(762.9692, device='cuda:0')\n",
      "Validation tensor([[[0.9926]]], device='cuda:0') tensor([22.7598], device='cuda:0') tensor(473.8083, device='cuda:0')\n",
      "Validation tensor([[[0.9939]]], device='cuda:0') tensor([20.2541], device='cuda:0') tensor(370.9553, device='cuda:0')\n",
      "Validation tensor([[[0.9948]]], device='cuda:0') tensor([5.3968], device='cuda:0') tensor(19.3776, device='cuda:0')\n",
      "Validation tensor([[[0.9948]]], device='cuda:0') tensor([21.1160], device='cuda:0') tensor(404.8616, device='cuda:0')\n",
      "Validation tensor([[[0.9941]]], device='cuda:0') tensor([51.7093], device='cuda:0') tensor(2572.0342, device='cuda:0')\n",
      "Validation tensor([[[0.9946]]], device='cuda:0') tensor([12.7589], device='cuda:0') tensor(138.3979, device='cuda:0')\n",
      "Validation tensor([[[0.9939]]], device='cuda:0') tensor([21.5135], device='cuda:0') tensor(421.0550, device='cuda:0')\n",
      "Validation tensor([[[0.9947]]], device='cuda:0') tensor([36.8525], device='cuda:0') tensor(1285.7804, device='cuda:0')\n",
      "Validation tensor([[[0.9950]]], device='cuda:0') tensor([17.6826], device='cuda:0') tensor(278.4774, device='cuda:0')\n",
      "Test epoch 32 loss: 3363.858 correct: 0.00\n",
      "training\n"
     ]
    },
    {
     "data": {
      "text/html": [
       "\n",
       "        <progress\n",
       "            value='5'\n",
       "            max='5',\n",
       "            style='width: 100%'\n",
       "        >\n",
       "            5\n",
       "        </progress>\n",
       "    "
      ],
      "text/plain": [
       "<IPython.core.display.HTML object>"
      ]
     },
     "metadata": {},
     "output_type": "display_data"
    },
    {
     "name": "stdout",
     "output_type": "stream",
     "text": [
      "training-  y^ 0.9946476817131042 y tensor([2.9321], device='cuda:0')\n",
      "training-  y^ 0.9956658482551575 y tensor([3.6421], device='cuda:0')\n",
      "training-  y^ 0.993827760219574 y tensor([18.9842], device='cuda:0')\n",
      "training-  y^ 0.9949637651443481 y tensor([16.1647], device='cuda:0')\n",
      "training-  y^ 0.9959706664085388 y tensor([1.3184], device='cuda:0')\n",
      "training-  y^ 0.9950533509254456 y tensor([11.8645], device='cuda:0')\n",
      "training-  y^ 0.9959214925765991 y tensor([0.5009], device='cuda:0')\n",
      "training-  y^ 0.9940063953399658 y tensor([10.6966], device='cuda:0')\n",
      "training-  y^ 0.9942692518234253 y tensor([54.6192], device='cuda:0')\n",
      "training-  y^ 0.9961093068122864 y tensor([0.2980], device='cuda:0')\n",
      "training-  y^ 0.9960457682609558 y tensor([0.5626], device='cuda:0')\n",
      "training-  y^ 0.995637834072113 y tensor([11.4718], device='cuda:0')\n",
      "training-  y^ 0.9946436882019043 y tensor([40.6911], device='cuda:0')\n",
      "training-  y^ 0.9962342381477356 y tensor([0.1216], device='cuda:0')\n",
      "training-  y^ 0.9962552785873413 y tensor([0.0554], device='cuda:0')\n",
      "training-  y^ 0.9951653480529785 y tensor([40.3548], device='cuda:0')\n",
      "training-  y^ 0.9960615038871765 y tensor([0.5208], device='cuda:0')\n",
      "training-  y^ 0.9962739944458008 y tensor([0.0672], device='cuda:0')\n",
      "training-  y^ 0.9963079690933228 y tensor([0.0211], device='cuda:0')\n",
      "training-  y^ 0.9942306280136108 y tensor([53.0057], device='cuda:0')\n",
      "Train epoch 33 loss: 2399.275 correct: 0.00\n"
     ]
    },
    {
     "data": {
      "text/html": [
       "\n",
       "        <progress\n",
       "            value='3'\n",
       "            max='3',\n",
       "            style='width: 100%'\n",
       "        >\n",
       "            3\n",
       "        </progress>\n",
       "    "
      ],
      "text/plain": [
       "<IPython.core.display.HTML object>"
      ]
     },
     "metadata": {},
     "output_type": "display_data"
    },
    {
     "name": "stdout",
     "output_type": "stream",
     "text": [
      "Validation tensor([[[0.9946]]], device='cuda:0') tensor([28.6163], device='cuda:0') tensor(762.9583, device='cuda:0')\n",
      "Validation tensor([[[0.9929]]], device='cuda:0') tensor([22.7598], device='cuda:0') tensor(473.7976, device='cuda:0')\n",
      "Validation tensor([[[0.9941]]], device='cuda:0') tensor([20.2541], device='cuda:0') tensor(370.9470, device='cuda:0')\n",
      "Validation tensor([[[0.9950]]], device='cuda:0') tensor([5.3968], device='cuda:0') tensor(19.3759, device='cuda:0')\n",
      "Validation tensor([[[0.9950]]], device='cuda:0') tensor([21.1160], device='cuda:0') tensor(404.8538, device='cuda:0')\n",
      "Validation tensor([[[0.9943]]], device='cuda:0') tensor([51.7093], device='cuda:0') tensor(2572.0159, device='cuda:0')\n",
      "Validation tensor([[[0.9948]]], device='cuda:0') tensor([12.7589], device='cuda:0') tensor(138.3934, device='cuda:0')\n",
      "Validation tensor([[[0.9941]]], device='cuda:0') tensor([21.5135], device='cuda:0') tensor(421.0458, device='cuda:0')\n",
      "Validation tensor([[[0.9949]]], device='cuda:0') tensor([36.8525], device='cuda:0') tensor(1285.7681, device='cuda:0')\n",
      "Validation tensor([[[0.9951]]], device='cuda:0') tensor([17.6826], device='cuda:0') tensor(278.4716, device='cuda:0')\n",
      "Test epoch 33 loss: 3363.814 correct: 0.00\n",
      "training\n"
     ]
    },
    {
     "data": {
      "text/html": [
       "\n",
       "        <progress\n",
       "            value='5'\n",
       "            max='5',\n",
       "            style='width: 100%'\n",
       "        >\n",
       "            5\n",
       "        </progress>\n",
       "    "
      ],
      "text/plain": [
       "<IPython.core.display.HTML object>"
      ]
     },
     "metadata": {},
     "output_type": "display_data"
    },
    {
     "name": "stdout",
     "output_type": "stream",
     "text": [
      "training-  y^ 0.9960766434669495 y tensor([0.5009], device='cuda:0')\n",
      "training-  y^ 0.9962373971939087 y tensor([0.2980], device='cuda:0')\n",
      "training-  y^ 0.9951969981193542 y tensor([16.1647], device='cuda:0')\n",
      "training-  y^ 0.9961671233177185 y tensor([1.3184], device='cuda:0')\n",
      "training-  y^ 0.9961508512496948 y tensor([0.5208], device='cuda:0')\n",
      "training-  y^ 0.994461178779602 y tensor([54.6192], device='cuda:0')\n",
      "training-  y^ 0.9959281086921692 y tensor([3.6421], device='cuda:0')\n",
      "training-  y^ 0.9963915944099426 y tensor([0.0554], device='cuda:0')\n",
      "training-  y^ 0.9963895678520203 y tensor([0.1216], device='cuda:0')\n",
      "training-  y^ 0.9962419271469116 y tensor([0.5626], device='cuda:0')\n",
      "training-  y^ 0.9964236617088318 y tensor([0.0211], device='cuda:0')\n",
      "training-  y^ 0.9958676099777222 y tensor([11.4718], device='cuda:0')\n",
      "training-  y^ 0.9950374960899353 y tensor([2.9321], device='cuda:0')\n",
      "training-  y^ 0.99642014503479 y tensor([0.0672], device='cuda:0')\n",
      "training-  y^ 0.9953888654708862 y tensor([11.8645], device='cuda:0')\n",
      "training-  y^ 0.9949087500572205 y tensor([40.6911], device='cuda:0')\n",
      "training-  y^ 0.9954003691673279 y tensor([40.3548], device='cuda:0')\n",
      "training-  y^ 0.9944512248039246 y tensor([53.0057], device='cuda:0')\n",
      "training-  y^ 0.9943490624427795 y tensor([18.9842], device='cuda:0')\n",
      "training-  y^ 0.9944544434547424 y tensor([10.6966], device='cuda:0')\n",
      "Train epoch 34 loss: 2399.242 correct: 0.00\n"
     ]
    },
    {
     "data": {
      "text/html": [
       "\n",
       "        <progress\n",
       "            value='3'\n",
       "            max='3',\n",
       "            style='width: 100%'\n",
       "        >\n",
       "            3\n",
       "        </progress>\n",
       "    "
      ],
      "text/plain": [
       "<IPython.core.display.HTML object>"
      ]
     },
     "metadata": {},
     "output_type": "display_data"
    },
    {
     "name": "stdout",
     "output_type": "stream",
     "text": [
      "Validation tensor([[[0.9946]]], device='cuda:0') tensor([28.6163], device='cuda:0') tensor(762.9586, device='cuda:0')\n",
      "Validation tensor([[[0.9929]]], device='cuda:0') tensor([22.7598], device='cuda:0') tensor(473.7969, device='cuda:0')\n",
      "Validation tensor([[[0.9941]]], device='cuda:0') tensor([20.2541], device='cuda:0') tensor(370.9475, device='cuda:0')\n",
      "Validation tensor([[[0.9950]]], device='cuda:0') tensor([5.3968], device='cuda:0') tensor(19.3761, device='cuda:0')\n",
      "Validation tensor([[[0.9950]]], device='cuda:0') tensor([21.1160], device='cuda:0') tensor(404.8538, device='cuda:0')\n",
      "Validation tensor([[[0.9943]]], device='cuda:0') tensor([51.7093], device='cuda:0') tensor(2572.0154, device='cuda:0')\n",
      "Validation tensor([[[0.9948]]], device='cuda:0') tensor([12.7589], device='cuda:0') tensor(138.3935, device='cuda:0')\n",
      "Validation tensor([[[0.9942]]], device='cuda:0') tensor([21.5135], device='cuda:0') tensor(421.0447, device='cuda:0')\n",
      "Validation tensor([[[0.9949]]], device='cuda:0') tensor([36.8525], device='cuda:0') tensor(1285.7684, device='cuda:0')\n",
      "Validation tensor([[[0.9951]]], device='cuda:0') tensor([17.6826], device='cuda:0') tensor(278.4718, device='cuda:0')\n",
      "Test epoch 34 loss: 3363.813 correct: 0.00\n",
      "training\n"
     ]
    },
    {
     "data": {
      "text/html": [
       "\n",
       "        <progress\n",
       "            value='5'\n",
       "            max='5',\n",
       "            style='width: 100%'\n",
       "        >\n",
       "            5\n",
       "        </progress>\n",
       "    "
      ],
      "text/plain": [
       "<IPython.core.display.HTML object>"
      ]
     },
     "metadata": {},
     "output_type": "display_data"
    },
    {
     "name": "stdout",
     "output_type": "stream",
     "text": [
      "training-  y^ 0.9944756627082825 y tensor([10.6966], device='cuda:0')\n",
      "training-  y^ 0.9946700930595398 y tensor([54.6192], device='cuda:0')\n",
      "training-  y^ 0.9963517189025879 y tensor([1.3184], device='cuda:0')\n",
      "training-  y^ 0.9954630732536316 y tensor([16.1647], device='cuda:0')\n",
      "training-  y^ 0.9965649247169495 y tensor([0.0211], device='cuda:0')\n",
      "training-  y^ 0.9965544939041138 y tensor([0.0672], device='cuda:0')\n",
      "training-  y^ 0.9955653548240662 y tensor([11.8645], device='cuda:0')\n",
      "training-  y^ 0.9952794313430786 y tensor([2.9321], device='cuda:0')\n",
      "training-  y^ 0.9965877532958984 y tensor([0.1216], device='cuda:0')\n",
      "training-  y^ 0.9951640367507935 y tensor([40.6911], device='cuda:0')\n",
      "training-  y^ 0.9964165687561035 y tensor([0.5208], device='cuda:0')\n",
      "training-  y^ 0.9964292645454407 y tensor([0.5009], device='cuda:0')\n",
      "training-  y^ 0.9956186413764954 y tensor([40.3548], device='cuda:0')\n",
      "training-  y^ 0.9947109222412109 y tensor([53.0057], device='cuda:0')\n",
      "training-  y^ 0.9946714043617249 y tensor([18.9842], device='cuda:0')\n",
      "training-  y^ 0.9965243935585022 y tensor([0.5626], device='cuda:0')\n",
      "training-  y^ 0.9961685538291931 y tensor([11.4718], device='cuda:0')\n",
      "training-  y^ 0.9962847232818604 y tensor([3.6421], device='cuda:0')\n",
      "training-  y^ 0.9966287016868591 y tensor([0.2980], device='cuda:0')\n",
      "training-  y^ 0.9967278242111206 y tensor([0.0554], device='cuda:0')\n",
      "Train epoch 35 loss: 2399.213 correct: 0.00\n"
     ]
    },
    {
     "data": {
      "text/html": [
       "\n",
       "        <progress\n",
       "            value='3'\n",
       "            max='3',\n",
       "            style='width: 100%'\n",
       "        >\n",
       "            3\n",
       "        </progress>\n",
       "    "
      ],
      "text/plain": [
       "<IPython.core.display.HTML object>"
      ]
     },
     "metadata": {},
     "output_type": "display_data"
    },
    {
     "name": "stdout",
     "output_type": "stream",
     "text": [
      "Validation tensor([[[0.9952]]], device='cuda:0') tensor([28.6163], device='cuda:0') tensor(762.9236, device='cuda:0')\n",
      "Validation tensor([[[0.9936]]], device='cuda:0') tensor([22.7598], device='cuda:0') tensor(473.7647, device='cuda:0')\n",
      "Validation tensor([[[0.9948]]], device='cuda:0') tensor([20.2541], device='cuda:0') tensor(370.9208, device='cuda:0')\n",
      "Validation tensor([[[0.9955]]], device='cuda:0') tensor([5.3968], device='cuda:0') tensor(19.3710, device='cuda:0')\n",
      "Validation tensor([[[0.9956]]], device='cuda:0') tensor([21.1160], device='cuda:0') tensor(404.8299, device='cuda:0')\n",
      "Validation tensor([[[0.9950]]], device='cuda:0') tensor([51.7093], device='cuda:0') tensor(2571.9485, device='cuda:0')\n",
      "Validation tensor([[[0.9954]]], device='cuda:0') tensor([12.7589], device='cuda:0') tensor(138.3788, device='cuda:0')\n",
      "Validation tensor([[[0.9948]]], device='cuda:0') tensor([21.5135], device='cuda:0') tensor(421.0160, device='cuda:0')\n",
      "Validation tensor([[[0.9955]]], device='cuda:0') tensor([36.8525], device='cuda:0') tensor(1285.7266, device='cuda:0')\n",
      "Validation tensor([[[0.9957]]], device='cuda:0') tensor([17.6826], device='cuda:0') tensor(278.4526, device='cuda:0')\n",
      "Test epoch 35 loss: 3363.666 correct: 0.00\n",
      "training\n"
     ]
    },
    {
     "data": {
      "text/html": [
       "\n",
       "        <progress\n",
       "            value='5'\n",
       "            max='5',\n",
       "            style='width: 100%'\n",
       "        >\n",
       "            5\n",
       "        </progress>\n",
       "    "
      ],
      "text/plain": [
       "<IPython.core.display.HTML object>"
      ]
     },
     "metadata": {},
     "output_type": "display_data"
    },
    {
     "name": "stdout",
     "output_type": "stream",
     "text": [
      "training-  y^ 0.9967376589775085 y tensor([0.0554], device='cuda:0')\n",
      "training-  y^ 0.9948388934135437 y tensor([10.6966], device='cuda:0')\n",
      "training-  y^ 0.9962432384490967 y tensor([11.4718], device='cuda:0')\n",
      "training-  y^ 0.9963500499725342 y tensor([3.6421], device='cuda:0')\n",
      "training-  y^ 0.9953591227531433 y tensor([40.6911], device='cuda:0')\n",
      "training-  y^ 0.9967678785324097 y tensor([0.0672], device='cuda:0')\n",
      "training-  y^ 0.996597945690155 y tensor([0.5208], device='cuda:0')\n",
      "training-  y^ 0.9955360889434814 y tensor([2.9321], device='cuda:0')\n",
      "training-  y^ 0.9948853850364685 y tensor([18.9842], device='cuda:0')\n",
      "training-  y^ 0.9958425164222717 y tensor([40.3548], device='cuda:0')\n",
      "training-  y^ 0.9968265295028687 y tensor([0.0211], device='cuda:0')\n",
      "training-  y^ 0.9966310858726501 y tensor([0.5009], device='cuda:0')\n",
      "training-  y^ 0.9951052665710449 y tensor([54.6192], device='cuda:0')\n",
      "training-  y^ 0.9966788291931152 y tensor([1.3184], device='cuda:0')\n",
      "training-  y^ 0.995888888835907 y tensor([11.8645], device='cuda:0')\n",
      "training-  y^ 0.996692419052124 y tensor([0.5626], device='cuda:0')\n",
      "training-  y^ 0.9967844486236572 y tensor([0.2980], device='cuda:0')\n",
      "training-  y^ 0.9950096607208252 y tensor([53.0057], device='cuda:0')\n",
      "training-  y^ 0.9958701729774475 y tensor([16.1647], device='cuda:0')\n",
      "training-  y^ 0.9968858361244202 y tensor([0.1216], device='cuda:0')\n",
      "Train epoch 36 loss: 2399.176 correct: 0.00\n"
     ]
    },
    {
     "data": {
      "text/html": [
       "\n",
       "        <progress\n",
       "            value='3'\n",
       "            max='3',\n",
       "            style='width: 100%'\n",
       "        >\n",
       "            3\n",
       "        </progress>\n",
       "    "
      ],
      "text/plain": [
       "<IPython.core.display.HTML object>"
      ]
     },
     "metadata": {},
     "output_type": "display_data"
    },
    {
     "name": "stdout",
     "output_type": "stream",
     "text": [
      "Validation tensor([[[0.9954]]], device='cuda:0') tensor([28.6163], device='cuda:0') tensor(762.9128, device='cuda:0')\n",
      "Validation tensor([[[0.9938]]], device='cuda:0') tensor([22.7598], device='cuda:0') tensor(473.7557, device='cuda:0')\n",
      "Validation tensor([[[0.9950]]], device='cuda:0') tensor([20.2541], device='cuda:0') tensor(370.9122, device='cuda:0')\n",
      "Validation tensor([[[0.9957]]], device='cuda:0') tensor([5.3968], device='cuda:0') tensor(19.3694, device='cuda:0')\n",
      "Validation tensor([[[0.9958]]], device='cuda:0') tensor([21.1160], device='cuda:0') tensor(404.8225, device='cuda:0')\n",
      "Validation tensor([[[0.9952]]], device='cuda:0') tensor([51.7093], device='cuda:0') tensor(2571.9270, device='cuda:0')\n",
      "Validation tensor([[[0.9956]]], device='cuda:0') tensor([12.7589], device='cuda:0') tensor(138.3741, device='cuda:0')\n",
      "Validation tensor([[[0.9951]]], device='cuda:0') tensor([21.5135], device='cuda:0') tensor(421.0069, device='cuda:0')\n",
      "Validation tensor([[[0.9956]]], device='cuda:0') tensor([36.8525], device='cuda:0') tensor(1285.7142, device='cuda:0')\n",
      "Validation tensor([[[0.9959]]], device='cuda:0') tensor([17.6826], device='cuda:0') tensor(278.4469, device='cuda:0')\n",
      "Test epoch 36 loss: 3363.621 correct: 0.00\n",
      "training\n"
     ]
    },
    {
     "data": {
      "text/html": [
       "\n",
       "        <progress\n",
       "            value='5'\n",
       "            max='5',\n",
       "            style='width: 100%'\n",
       "        >\n",
       "            5\n",
       "        </progress>\n",
       "    "
      ],
      "text/plain": [
       "<IPython.core.display.HTML object>"
      ]
     },
     "metadata": {},
     "output_type": "display_data"
    },
    {
     "name": "stdout",
     "output_type": "stream",
     "text": [
      "training-  y^ 0.9950690269470215 y tensor([53.0057], device='cuda:0')\n",
      "training-  y^ 0.9969179630279541 y tensor([0.0554], device='cuda:0')\n",
      "training-  y^ 0.9959322810173035 y tensor([16.1647], device='cuda:0')\n",
      "training-  y^ 0.9951004385948181 y tensor([18.9842], device='cuda:0')\n",
      "training-  y^ 0.9969377517700195 y tensor([0.0672], device='cuda:0')\n",
      "training-  y^ 0.9960240125656128 y tensor([40.3548], device='cuda:0')\n",
      "training-  y^ 0.9953027963638306 y tensor([54.6192], device='cuda:0')\n",
      "training-  y^ 0.9968331456184387 y tensor([0.5626], device='cuda:0')\n",
      "training-  y^ 0.9970048069953918 y tensor([0.0211], device='cuda:0')\n",
      "training-  y^ 0.995834469795227 y tensor([2.9321], device='cuda:0')\n",
      "training-  y^ 0.9956949949264526 y tensor([40.6911], device='cuda:0')\n",
      "training-  y^ 0.9968491196632385 y tensor([0.5208], device='cuda:0')\n",
      "training-  y^ 0.9952504634857178 y tensor([10.6966], device='cuda:0')\n",
      "training-  y^ 0.9965523481369019 y tensor([11.4718], device='cuda:0')\n",
      "training-  y^ 0.9969775676727295 y tensor([0.2980], device='cuda:0')\n",
      "training-  y^ 0.9961309432983398 y tensor([11.8645], device='cuda:0')\n",
      "training-  y^ 0.9968865513801575 y tensor([0.5009], device='cuda:0')\n",
      "training-  y^ 0.9970729351043701 y tensor([0.1216], device='cuda:0')\n",
      "training-  y^ 0.9969326257705688 y tensor([1.3184], device='cuda:0')\n",
      "training-  y^ 0.9967181086540222 y tensor([3.6421], device='cuda:0')\n",
      "Train epoch 37 loss: 2399.152 correct: 0.00\n"
     ]
    },
    {
     "data": {
      "text/html": [
       "\n",
       "        <progress\n",
       "            value='3'\n",
       "            max='3',\n",
       "            style='width: 100%'\n",
       "        >\n",
       "            3\n",
       "        </progress>\n",
       "    "
      ],
      "text/plain": [
       "<IPython.core.display.HTML object>"
      ]
     },
     "metadata": {},
     "output_type": "display_data"
    },
    {
     "name": "stdout",
     "output_type": "stream",
     "text": [
      "Validation tensor([[[0.9957]]], device='cuda:0') tensor([28.6163], device='cuda:0') tensor(762.8932, device='cuda:0')\n",
      "Validation tensor([[[0.9943]]], device='cuda:0') tensor([22.7598], device='cuda:0') tensor(473.7353, device='cuda:0')\n",
      "Validation tensor([[[0.9953]]], device='cuda:0') tensor([20.2541], device='cuda:0') tensor(370.8979, device='cuda:0')\n",
      "Validation tensor([[[0.9960]]], device='cuda:0') tensor([5.3968], device='cuda:0') tensor(19.3666, device='cuda:0')\n",
      "Validation tensor([[[0.9961]]], device='cuda:0') tensor([21.1160], device='cuda:0') tensor(404.8091, device='cuda:0')\n",
      "Validation tensor([[[0.9956]]], device='cuda:0') tensor([51.7093], device='cuda:0') tensor(2571.8875, device='cuda:0')\n",
      "Validation tensor([[[0.9960]]], device='cuda:0') tensor([12.7589], device='cuda:0') tensor(138.3663, device='cuda:0')\n",
      "Validation tensor([[[0.9955]]], device='cuda:0') tensor([21.5135], device='cuda:0') tensor(420.9896, device='cuda:0')\n",
      "Validation tensor([[[0.9960]]], device='cuda:0') tensor([36.8525], device='cuda:0') tensor(1285.6860, device='cuda:0')\n",
      "Validation tensor([[[0.9962]]], device='cuda:0') tensor([17.6826], device='cuda:0') tensor(278.4360, device='cuda:0')\n",
      "Test epoch 37 loss: 3363.534 correct: 0.00\n",
      "training\n"
     ]
    },
    {
     "data": {
      "text/html": [
       "\n",
       "        <progress\n",
       "            value='5'\n",
       "            max='5',\n",
       "            style='width: 100%'\n",
       "        >\n",
       "            5\n",
       "        </progress>\n",
       "    "
      ],
      "text/plain": [
       "<IPython.core.display.HTML object>"
      ]
     },
     "metadata": {},
     "output_type": "display_data"
    },
    {
     "name": "stdout",
     "output_type": "stream",
     "text": [
      "training-  y^ 0.9961590766906738 y tensor([16.1647], device='cuda:0')\n",
      "training-  y^ 0.9958208799362183 y tensor([40.6911], device='cuda:0')\n",
      "training-  y^ 0.9959814548492432 y tensor([2.9321], device='cuda:0')\n",
      "training-  y^ 0.9971089959144592 y tensor([0.0672], device='cuda:0')\n",
      "training-  y^ 0.9969815611839294 y tensor([0.5626], device='cuda:0')\n",
      "training-  y^ 0.9970526695251465 y tensor([0.2980], device='cuda:0')\n",
      "training-  y^ 0.9971430897712708 y tensor([0.0211], device='cuda:0')\n",
      "training-  y^ 0.9969853758811951 y tensor([1.3184], device='cuda:0')\n",
      "training-  y^ 0.9954114556312561 y tensor([10.6966], device='cuda:0')\n",
      "training-  y^ 0.9954110980033875 y tensor([18.9842], device='cuda:0')\n",
      "training-  y^ 0.9955633878707886 y tensor([54.6192], device='cuda:0')\n",
      "training-  y^ 0.9962493777275085 y tensor([11.8645], device='cuda:0')\n",
      "training-  y^ 0.9966874718666077 y tensor([11.4718], device='cuda:0')\n",
      "training-  y^ 0.997169554233551 y tensor([0.0554], device='cuda:0')\n",
      "training-  y^ 0.9970012307167053 y tensor([0.5208], device='cuda:0')\n",
      "training-  y^ 0.9962988495826721 y tensor([40.3548], device='cuda:0')\n",
      "training-  y^ 0.997177243232727 y tensor([0.1216], device='cuda:0')\n",
      "training-  y^ 0.9955073595046997 y tensor([53.0057], device='cuda:0')\n",
      "training-  y^ 0.9968384504318237 y tensor([3.6421], device='cuda:0')\n",
      "training-  y^ 0.99704509973526 y tensor([0.5009], device='cuda:0')\n",
      "Train epoch 38 loss: 2399.119 correct: 0.00\n"
     ]
    },
    {
     "data": {
      "text/html": [
       "\n",
       "        <progress\n",
       "            value='3'\n",
       "            max='3',\n",
       "            style='width: 100%'\n",
       "        >\n",
       "            3\n",
       "        </progress>\n",
       "    "
      ],
      "text/plain": [
       "<IPython.core.display.HTML object>"
      ]
     },
     "metadata": {},
     "output_type": "display_data"
    },
    {
     "name": "stdout",
     "output_type": "stream",
     "text": [
      "Validation tensor([[[0.9959]]], device='cuda:0') tensor([28.6163], device='cuda:0') tensor(762.8870, device='cuda:0')\n",
      "Validation tensor([[[0.9944]]], device='cuda:0') tensor([22.7598], device='cuda:0') tensor(473.7299, device='cuda:0')\n",
      "Validation tensor([[[0.9955]]], device='cuda:0') tensor([20.2541], device='cuda:0') tensor(370.8930, device='cuda:0')\n",
      "Validation tensor([[[0.9961]]], device='cuda:0') tensor([5.3968], device='cuda:0') tensor(19.3657, device='cuda:0')\n",
      "Validation tensor([[[0.9962]]], device='cuda:0') tensor([21.1160], device='cuda:0') tensor(404.8047, device='cuda:0')\n",
      "Validation tensor([[[0.9957]]], device='cuda:0') tensor([51.7093], device='cuda:0') tensor(2571.8762, device='cuda:0')\n",
      "Validation tensor([[[0.9961]]], device='cuda:0') tensor([12.7589], device='cuda:0') tensor(138.3637, device='cuda:0')\n",
      "Validation tensor([[[0.9956]]], device='cuda:0') tensor([21.5135], device='cuda:0') tensor(420.9845, device='cuda:0')\n",
      "Validation tensor([[[0.9961]]], device='cuda:0') tensor([36.8525], device='cuda:0') tensor(1285.6794, device='cuda:0')\n",
      "Validation tensor([[[0.9963]]], device='cuda:0') tensor([17.6826], device='cuda:0') tensor(278.4329, device='cuda:0')\n",
      "Test epoch 38 loss: 3363.509 correct: 0.00\n",
      "training\n"
     ]
    },
    {
     "data": {
      "text/html": [
       "\n",
       "        <progress\n",
       "            value='5'\n",
       "            max='5',\n",
       "            style='width: 100%'\n",
       "        >\n",
       "            5\n",
       "        </progress>\n",
       "    "
      ],
      "text/plain": [
       "<IPython.core.display.HTML object>"
      ]
     },
     "metadata": {},
     "output_type": "display_data"
    },
    {
     "name": "stdout",
     "output_type": "stream",
     "text": [
      "training-  y^ 0.9968569278717041 y tensor([3.6421], device='cuda:0')\n",
      "training-  y^ 0.9970768690109253 y tensor([1.3184], device='cuda:0')\n",
      "training-  y^ 0.9960049986839294 y tensor([40.6911], device='cuda:0')\n",
      "training-  y^ 0.9971652626991272 y tensor([0.2980], device='cuda:0')\n",
      "training-  y^ 0.9972496628761292 y tensor([0.0554], device='cuda:0')\n",
      "training-  y^ 0.9963608384132385 y tensor([16.1647], device='cuda:0')\n",
      "training-  y^ 0.9972510933876038 y tensor([0.0672], device='cuda:0')\n",
      "training-  y^ 0.9956191182136536 y tensor([53.0057], device='cuda:0')\n",
      "training-  y^ 0.9956388473510742 y tensor([18.9842], device='cuda:0')\n",
      "training-  y^ 0.9971215128898621 y tensor([0.5208], device='cuda:0')\n",
      "training-  y^ 0.996441662311554 y tensor([40.3548], device='cuda:0')\n",
      "training-  y^ 0.996250331401825 y tensor([2.9321], device='cuda:0')\n",
      "training-  y^ 0.9971563816070557 y tensor([0.5009], device='cuda:0')\n",
      "training-  y^ 0.9956870675086975 y tensor([10.6966], device='cuda:0')\n",
      "training-  y^ 0.9968808889389038 y tensor([11.4718], device='cuda:0')\n",
      "training-  y^ 0.997329831123352 y tensor([0.1216], device='cuda:0')\n",
      "training-  y^ 0.9973522424697876 y tensor([0.0211], device='cuda:0')\n",
      "training-  y^ 0.9964908957481384 y tensor([11.8645], device='cuda:0')\n",
      "training-  y^ 0.9958468079566956 y tensor([54.6192], device='cuda:0')\n",
      "training-  y^ 0.9972206354141235 y tensor([0.5626], device='cuda:0')\n",
      "Train epoch 39 loss: 2399.095 correct: 0.00\n"
     ]
    },
    {
     "data": {
      "text/html": [
       "\n",
       "        <progress\n",
       "            value='3'\n",
       "            max='3',\n",
       "            style='width: 100%'\n",
       "        >\n",
       "            3\n",
       "        </progress>\n",
       "    "
      ],
      "text/plain": [
       "<IPython.core.display.HTML object>"
      ]
     },
     "metadata": {},
     "output_type": "display_data"
    },
    {
     "name": "stdout",
     "output_type": "stream",
     "text": [
      "Validation tensor([[[0.9961]]], device='cuda:0') tensor([28.6163], device='cuda:0') tensor(762.8750, device='cuda:0')\n",
      "Validation tensor([[[0.9947]]], device='cuda:0') tensor([22.7598], device='cuda:0') tensor(473.7179, device='cuda:0')\n",
      "Validation tensor([[[0.9957]]], device='cuda:0') tensor([20.2541], device='cuda:0') tensor(370.8842, device='cuda:0')\n",
      "Validation tensor([[[0.9963]]], device='cuda:0') tensor([5.3968], device='cuda:0') tensor(19.3640, device='cuda:0')\n",
      "Validation tensor([[[0.9964]]], device='cuda:0') tensor([21.1160], device='cuda:0') tensor(404.7972, device='cuda:0')\n",
      "Validation tensor([[[0.9959]]], device='cuda:0') tensor([51.7093], device='cuda:0') tensor(2571.8542, device='cuda:0')\n",
      "Validation tensor([[[0.9963]]], device='cuda:0') tensor([12.7589], device='cuda:0') tensor(138.3588, device='cuda:0')\n",
      "Validation tensor([[[0.9959]]], device='cuda:0') tensor([21.5135], device='cuda:0') tensor(420.9745, device='cuda:0')\n",
      "Validation tensor([[[0.9963]]], device='cuda:0') tensor([36.8525], device='cuda:0') tensor(1285.6658, device='cuda:0')\n",
      "Validation tensor([[[0.9965]]], device='cuda:0') tensor([17.6826], device='cuda:0') tensor(278.4262, device='cuda:0')\n",
      "Test epoch 39 loss: 3363.459 correct: 0.00\n",
      "training\n"
     ]
    },
    {
     "data": {
      "text/html": [
       "\n",
       "        <progress\n",
       "            value='5'\n",
       "            max='5',\n",
       "            style='width: 100%'\n",
       "        >\n",
       "            5\n",
       "        </progress>\n",
       "    "
      ],
      "text/plain": [
       "<IPython.core.display.HTML object>"
      ]
     },
     "metadata": {},
     "output_type": "display_data"
    },
    {
     "name": "stdout",
     "output_type": "stream",
     "text": [
      "training-  y^ 0.99649578332901 y tensor([16.1647], device='cuda:0')\n",
      "training-  y^ 0.9972363114356995 y tensor([1.3184], device='cuda:0')\n",
      "training-  y^ 0.9972279667854309 y tensor([0.5009], device='cuda:0')\n",
      "training-  y^ 0.9965596795082092 y tensor([40.3548], device='cuda:0')\n",
      "training-  y^ 0.9973255395889282 y tensor([0.2980], device='cuda:0')\n",
      "training-  y^ 0.9970620274543762 y tensor([3.6421], device='cuda:0')\n",
      "training-  y^ 0.9972509741783142 y tensor([0.5208], device='cuda:0')\n",
      "training-  y^ 0.9974073767662048 y tensor([0.1216], device='cuda:0')\n",
      "training-  y^ 0.9965758919715881 y tensor([11.8645], device='cuda:0')\n",
      "training-  y^ 0.9962454438209534 y tensor([40.6911], device='cuda:0')\n",
      "training-  y^ 0.9958510398864746 y tensor([53.0057], device='cuda:0')\n",
      "training-  y^ 0.9958810806274414 y tensor([18.9842], device='cuda:0')\n",
      "training-  y^ 0.9973088502883911 y tensor([0.5626], device='cuda:0')\n",
      "training-  y^ 0.9958868622779846 y tensor([10.6966], device='cuda:0')\n",
      "training-  y^ 0.9974595904350281 y tensor([0.0554], device='cuda:0')\n",
      "training-  y^ 0.9974708557128906 y tensor([0.0211], device='cuda:0')\n",
      "training-  y^ 0.9960299134254456 y tensor([54.6192], device='cuda:0')\n",
      "training-  y^ 0.997047483921051 y tensor([11.4718], device='cuda:0')\n",
      "training-  y^ 0.9974713325500488 y tensor([0.0672], device='cuda:0')\n",
      "training-  y^ 0.9965163469314575 y tensor([2.9321], device='cuda:0')\n",
      "Train epoch 40 loss: 2399.071 correct: 0.00\n"
     ]
    },
    {
     "data": {
      "text/html": [
       "\n",
       "        <progress\n",
       "            value='3'\n",
       "            max='3',\n",
       "            style='width: 100%'\n",
       "        >\n",
       "            3\n",
       "        </progress>\n",
       "    "
      ],
      "text/plain": [
       "<IPython.core.display.HTML object>"
      ]
     },
     "metadata": {},
     "output_type": "display_data"
    },
    {
     "name": "stdout",
     "output_type": "stream",
     "text": [
      "Validation tensor([[[0.9962]]], device='cuda:0') tensor([28.6163], device='cuda:0') tensor(762.8656, device='cuda:0')\n",
      "Validation tensor([[[0.9949]]], device='cuda:0') tensor([22.7598], device='cuda:0') tensor(473.7093, device='cuda:0')\n",
      "Validation tensor([[[0.9959]]], device='cuda:0') tensor([20.2541], device='cuda:0') tensor(370.8769, device='cuda:0')\n",
      "Validation tensor([[[0.9965]]], device='cuda:0') tensor([5.3968], device='cuda:0') tensor(19.3626, device='cuda:0')\n",
      "Validation tensor([[[0.9966]]], device='cuda:0') tensor([21.1160], device='cuda:0') tensor(404.7907, device='cuda:0')\n",
      "Validation tensor([[[0.9961]]], device='cuda:0') tensor([51.7093], device='cuda:0') tensor(2571.8347, device='cuda:0')\n",
      "Validation tensor([[[0.9965]]], device='cuda:0') tensor([12.7589], device='cuda:0') tensor(138.3549, device='cuda:0')\n",
      "Validation tensor([[[0.9961]]], device='cuda:0') tensor([21.5135], device='cuda:0') tensor(420.9665, device='cuda:0')\n",
      "Validation tensor([[[0.9965]]], device='cuda:0') tensor([36.8525], device='cuda:0') tensor(1285.6545, device='cuda:0')\n",
      "Validation tensor([[[0.9966]]], device='cuda:0') tensor([17.6826], device='cuda:0') tensor(278.4211, device='cuda:0')\n",
      "Test epoch 40 loss: 3363.418 correct: 0.00\n",
      "training\n"
     ]
    },
    {
     "data": {
      "text/html": [
       "\n",
       "        <progress\n",
       "            value='5'\n",
       "            max='5',\n",
       "            style='width: 100%'\n",
       "        >\n",
       "            5\n",
       "        </progress>\n",
       "    "
      ],
      "text/plain": [
       "<IPython.core.display.HTML object>"
      ]
     },
     "metadata": {},
     "output_type": "display_data"
    },
    {
     "name": "stdout",
     "output_type": "stream",
     "text": [
      "training-  y^ 0.9965259432792664 y tensor([2.9321], device='cuda:0')\n",
      "training-  y^ 0.9974971413612366 y tensor([0.0554], device='cuda:0')\n",
      "training-  y^ 0.9974901676177979 y tensor([0.0672], device='cuda:0')\n",
      "training-  y^ 0.9970826506614685 y tensor([11.4718], device='cuda:0')\n",
      "training-  y^ 0.997369647026062 y tensor([1.3184], device='cuda:0')\n",
      "training-  y^ 0.9959956407546997 y tensor([10.6966], device='cuda:0')\n",
      "training-  y^ 0.996127188205719 y tensor([54.6192], device='cuda:0')\n",
      "training-  y^ 0.9975112676620483 y tensor([0.1216], device='cuda:0')\n",
      "training-  y^ 0.9960034489631653 y tensor([53.0057], device='cuda:0')\n",
      "training-  y^ 0.9967427849769592 y tensor([40.3548], device='cuda:0')\n",
      "training-  y^ 0.9974174499511719 y tensor([0.5626], device='cuda:0')\n",
      "training-  y^ 0.9964382648468018 y tensor([40.6911], device='cuda:0')\n",
      "training-  y^ 0.9967579245567322 y tensor([11.8645], device='cuda:0')\n",
      "training-  y^ 0.997583270072937 y tensor([0.0211], device='cuda:0')\n",
      "training-  y^ 0.9972639083862305 y tensor([3.6421], device='cuda:0')\n",
      "training-  y^ 0.9975263476371765 y tensor([0.2980], device='cuda:0')\n",
      "training-  y^ 0.9974525570869446 y tensor([0.5208], device='cuda:0')\n",
      "training-  y^ 0.9961763620376587 y tensor([18.9842], device='cuda:0')\n",
      "training-  y^ 0.9974817633628845 y tensor([0.5009], device='cuda:0')\n",
      "training-  y^ 0.9968218803405762 y tensor([16.1647], device='cuda:0')\n",
      "Train epoch 41 loss: 2399.050 correct: 0.00\n"
     ]
    },
    {
     "data": {
      "text/html": [
       "\n",
       "        <progress\n",
       "            value='3'\n",
       "            max='3',\n",
       "            style='width: 100%'\n",
       "        >\n",
       "            3\n",
       "        </progress>\n",
       "    "
      ],
      "text/plain": [
       "<IPython.core.display.HTML object>"
      ]
     },
     "metadata": {},
     "output_type": "display_data"
    },
    {
     "name": "stdout",
     "output_type": "stream",
     "text": [
      "Validation tensor([[[0.9964]]], device='cuda:0') tensor([28.6163], device='cuda:0') tensor(762.8543, device='cuda:0')\n",
      "Validation tensor([[[0.9952]]], device='cuda:0') tensor([22.7598], device='cuda:0') tensor(473.6979, device='cuda:0')\n",
      "Validation tensor([[[0.9961]]], device='cuda:0') tensor([20.2541], device='cuda:0') tensor(370.8683, device='cuda:0')\n",
      "Validation tensor([[[0.9967]]], device='cuda:0') tensor([5.3968], device='cuda:0') tensor(19.3610, device='cuda:0')\n",
      "Validation tensor([[[0.9967]]], device='cuda:0') tensor([21.1160], device='cuda:0') tensor(404.7840, device='cuda:0')\n",
      "Validation tensor([[[0.9963]]], device='cuda:0') tensor([51.7093], device='cuda:0') tensor(2571.8142, device='cuda:0')\n",
      "Validation tensor([[[0.9966]]], device='cuda:0') tensor([12.7589], device='cuda:0') tensor(138.3505, device='cuda:0')\n",
      "Validation tensor([[[0.9963]]], device='cuda:0') tensor([21.5135], device='cuda:0') tensor(420.9577, device='cuda:0')\n",
      "Validation tensor([[[0.9966]]], device='cuda:0') tensor([36.8525], device='cuda:0') tensor(1285.6417, device='cuda:0')\n",
      "Validation tensor([[[0.9968]]], device='cuda:0') tensor([17.6826], device='cuda:0') tensor(278.4154, device='cuda:0')\n",
      "Test epoch 41 loss: 3363.373 correct: 0.00\n",
      "training\n"
     ]
    },
    {
     "data": {
      "text/html": [
       "\n",
       "        <progress\n",
       "            value='5'\n",
       "            max='5',\n",
       "            style='width: 100%'\n",
       "        >\n",
       "            5\n",
       "        </progress>\n",
       "    "
      ],
      "text/plain": [
       "<IPython.core.display.HTML object>"
      ]
     },
     "metadata": {},
     "output_type": "display_data"
    },
    {
     "name": "stdout",
     "output_type": "stream",
     "text": [
      "training-  y^ 0.996829092502594 y tensor([16.1647], device='cuda:0')\n",
      "training-  y^ 0.9976346492767334 y tensor([0.0554], device='cuda:0')\n",
      "training-  y^ 0.9961739182472229 y tensor([10.6966], device='cuda:0')\n",
      "training-  y^ 0.9961568713188171 y tensor([53.0057], device='cuda:0')\n",
      "training-  y^ 0.9975212216377258 y tensor([1.3184], device='cuda:0')\n",
      "training-  y^ 0.997344434261322 y tensor([3.6421], device='cuda:0')\n",
      "training-  y^ 0.9965704679489136 y tensor([40.6911], device='cuda:0')\n",
      "training-  y^ 0.9969133138656616 y tensor([40.3548], device='cuda:0')\n",
      "training-  y^ 0.9975456595420837 y tensor([0.5009], device='cuda:0')\n",
      "training-  y^ 0.9975597858428955 y tensor([0.5626], device='cuda:0')\n",
      "training-  y^ 0.9976879358291626 y tensor([0.1216], device='cuda:0')\n",
      "training-  y^ 0.997557520866394 y tensor([0.5208], device='cuda:0')\n",
      "training-  y^ 0.9976987242698669 y tensor([0.0672], device='cuda:0')\n",
      "training-  y^ 0.9969339370727539 y tensor([11.8645], device='cuda:0')\n",
      "training-  y^ 0.9963749051094055 y tensor([54.6192], device='cuda:0')\n",
      "training-  y^ 0.9973258972167969 y tensor([11.4718], device='cuda:0')\n",
      "training-  y^ 0.9977357387542725 y tensor([0.0211], device='cuda:0')\n",
      "training-  y^ 0.9976703524589539 y tensor([0.2980], device='cuda:0')\n",
      "training-  y^ 0.9968315958976746 y tensor([2.9321], device='cuda:0')\n",
      "training-  y^ 0.9963471293449402 y tensor([18.9842], device='cuda:0')\n",
      "Train epoch 42 loss: 2399.029 correct: 0.00\n"
     ]
    },
    {
     "data": {
      "text/html": [
       "\n",
       "        <progress\n",
       "            value='3'\n",
       "            max='3',\n",
       "            style='width: 100%'\n",
       "        >\n",
       "            3\n",
       "        </progress>\n",
       "    "
      ],
      "text/plain": [
       "<IPython.core.display.HTML object>"
      ]
     },
     "metadata": {},
     "output_type": "display_data"
    },
    {
     "name": "stdout",
     "output_type": "stream",
     "text": [
      "Validation tensor([[[0.9966]]], device='cuda:0') tensor([28.6163], device='cuda:0') tensor(762.8447, device='cuda:0')\n",
      "Validation tensor([[[0.9955]]], device='cuda:0') tensor([22.7598], device='cuda:0') tensor(473.6855, device='cuda:0')\n",
      "Validation tensor([[[0.9963]]], device='cuda:0') tensor([20.2541], device='cuda:0') tensor(370.8613, device='cuda:0')\n",
      "Validation tensor([[[0.9968]]], device='cuda:0') tensor([5.3968], device='cuda:0') tensor(19.3597, device='cuda:0')\n",
      "Validation tensor([[[0.9969]]], device='cuda:0') tensor([21.1160], device='cuda:0') tensor(404.7776, device='cuda:0')\n",
      "Validation tensor([[[0.9965]]], device='cuda:0') tensor([51.7093], device='cuda:0') tensor(2571.7949, device='cuda:0')\n",
      "Validation tensor([[[0.9968]]], device='cuda:0') tensor([12.7589], device='cuda:0') tensor(138.3466, device='cuda:0')\n",
      "Validation tensor([[[0.9965]]], device='cuda:0') tensor([21.5135], device='cuda:0') tensor(420.9496, device='cuda:0')\n",
      "Validation tensor([[[0.9968]]], device='cuda:0') tensor([36.8525], device='cuda:0') tensor(1285.6292, device='cuda:0')\n",
      "Validation tensor([[[0.9970]]], device='cuda:0') tensor([17.6826], device='cuda:0') tensor(278.4103, device='cuda:0')\n",
      "Test epoch 42 loss: 3363.330 correct: 0.00\n",
      "training\n"
     ]
    },
    {
     "data": {
      "text/html": [
       "\n",
       "        <progress\n",
       "            value='5'\n",
       "            max='5',\n",
       "            style='width: 100%'\n",
       "        >\n",
       "            5\n",
       "        </progress>\n",
       "    "
      ],
      "text/plain": [
       "<IPython.core.display.HTML object>"
      ]
     },
     "metadata": {},
     "output_type": "display_data"
    },
    {
     "name": "stdout",
     "output_type": "stream",
     "text": [
      "training-  y^ 0.9969798922538757 y tensor([11.8645], device='cuda:0')\n",
      "training-  y^ 0.9963369369506836 y tensor([53.0057], device='cuda:0')\n",
      "training-  y^ 0.9963465332984924 y tensor([10.6966], device='cuda:0')\n",
      "training-  y^ 0.997011661529541 y tensor([16.1647], device='cuda:0')\n",
      "training-  y^ 0.9964646100997925 y tensor([54.6192], device='cuda:0')\n",
      "training-  y^ 0.9976535439491272 y tensor([0.5626], device='cuda:0')\n",
      "training-  y^ 0.9977821707725525 y tensor([0.1216], device='cuda:0')\n",
      "training-  y^ 0.9974963068962097 y tensor([3.6421], device='cuda:0')\n",
      "training-  y^ 0.9978076815605164 y tensor([0.0211], device='cuda:0')\n",
      "training-  y^ 0.9969224333763123 y tensor([2.9321], device='cuda:0')\n",
      "training-  y^ 0.9970793724060059 y tensor([40.3548], device='cuda:0')\n",
      "training-  y^ 0.9977540373802185 y tensor([0.2980], device='cuda:0')\n",
      "training-  y^ 0.9978238344192505 y tensor([0.0554], device='cuda:0')\n",
      "training-  y^ 0.9976892471313477 y tensor([0.5208], device='cuda:0')\n",
      "training-  y^ 0.9976910352706909 y tensor([0.5009], device='cuda:0')\n",
      "training-  y^ 0.9974505305290222 y tensor([11.4718], device='cuda:0')\n",
      "training-  y^ 0.9978305697441101 y tensor([0.0672], device='cuda:0')\n",
      "training-  y^ 0.9977204203605652 y tensor([1.3184], device='cuda:0')\n",
      "training-  y^ 0.9967966675758362 y tensor([40.6911], device='cuda:0')\n",
      "training-  y^ 0.9965299963951111 y tensor([18.9842], device='cuda:0')\n",
      "Train epoch 43 loss: 2399.010 correct: 0.00\n"
     ]
    },
    {
     "data": {
      "text/html": [
       "\n",
       "        <progress\n",
       "            value='3'\n",
       "            max='3',\n",
       "            style='width: 100%'\n",
       "        >\n",
       "            3\n",
       "        </progress>\n",
       "    "
      ],
      "text/plain": [
       "<IPython.core.display.HTML object>"
      ]
     },
     "metadata": {},
     "output_type": "display_data"
    },
    {
     "name": "stdout",
     "output_type": "stream",
     "text": [
      "Validation tensor([[[0.9968]]], device='cuda:0') tensor([28.6163], device='cuda:0') tensor(762.8354, device='cuda:0')\n",
      "Validation tensor([[[0.9957]]], device='cuda:0') tensor([22.7598], device='cuda:0') tensor(473.6736, device='cuda:0')\n",
      "Validation tensor([[[0.9965]]], device='cuda:0') tensor([20.2541], device='cuda:0') tensor(370.8540, device='cuda:0')\n",
      "Validation tensor([[[0.9970]]], device='cuda:0') tensor([5.3968], device='cuda:0') tensor(19.3584, device='cuda:0')\n",
      "Validation tensor([[[0.9970]]], device='cuda:0') tensor([21.1160], device='cuda:0') tensor(404.7717, device='cuda:0')\n",
      "Validation tensor([[[0.9966]]], device='cuda:0') tensor([51.7093], device='cuda:0') tensor(2571.7771, device='cuda:0')\n",
      "Validation tensor([[[0.9970]]], device='cuda:0') tensor([12.7589], device='cuda:0') tensor(138.3429, device='cuda:0')\n",
      "Validation tensor([[[0.9966]]], device='cuda:0') tensor([21.5135], device='cuda:0') tensor(420.9424, device='cuda:0')\n",
      "Validation tensor([[[0.9970]]], device='cuda:0') tensor([36.8525], device='cuda:0') tensor(1285.6182, device='cuda:0')\n",
      "Validation tensor([[[0.9971]]], device='cuda:0') tensor([17.6826], device='cuda:0') tensor(278.4057, device='cuda:0')\n",
      "Test epoch 43 loss: 3363.290 correct: 0.00\n",
      "training\n"
     ]
    },
    {
     "data": {
      "text/html": [
       "\n",
       "        <progress\n",
       "            value='5'\n",
       "            max='5',\n",
       "            style='width: 100%'\n",
       "        >\n",
       "            5\n",
       "        </progress>\n",
       "    "
      ],
      "text/plain": [
       "<IPython.core.display.HTML object>"
      ]
     },
     "metadata": {},
     "output_type": "display_data"
    },
    {
     "name": "stdout",
     "output_type": "stream",
     "text": [
      "training-  y^ 0.9965977072715759 y tensor([54.6192], device='cuda:0')\n",
      "training-  y^ 0.9977263808250427 y tensor([0.5009], device='cuda:0')\n",
      "training-  y^ 0.997136116027832 y tensor([16.1647], device='cuda:0')\n",
      "training-  y^ 0.9975776076316833 y tensor([3.6421], device='cuda:0')\n",
      "training-  y^ 0.9970253109931946 y tensor([2.9321], device='cuda:0')\n",
      "training-  y^ 0.9978834986686707 y tensor([0.0211], device='cuda:0')\n",
      "training-  y^ 0.9978737831115723 y tensor([0.1216], device='cuda:0')\n",
      "training-  y^ 0.9971463084220886 y tensor([11.8645], device='cuda:0')\n",
      "training-  y^ 0.9971869587898254 y tensor([40.3548], device='cuda:0')\n",
      "training-  y^ 0.9977735877037048 y tensor([1.3184], device='cuda:0')\n",
      "training-  y^ 0.9977753758430481 y tensor([0.5626], device='cuda:0')\n",
      "training-  y^ 0.9978951215744019 y tensor([0.0672], device='cuda:0')\n",
      "training-  y^ 0.9979087114334106 y tensor([0.0554], device='cuda:0')\n",
      "training-  y^ 0.9965798258781433 y tensor([10.6966], device='cuda:0')\n",
      "training-  y^ 0.9977812170982361 y tensor([0.5208], device='cuda:0')\n",
      "training-  y^ 0.9975448250770569 y tensor([11.4718], device='cuda:0')\n",
      "training-  y^ 0.9969162940979004 y tensor([40.6911], device='cuda:0')\n",
      "training-  y^ 0.9978653788566589 y tensor([0.2980], device='cuda:0')\n",
      "training-  y^ 0.9965808987617493 y tensor([53.0057], device='cuda:0')\n",
      "training-  y^ 0.9966737031936646 y tensor([18.9842], device='cuda:0')\n",
      "Train epoch 44 loss: 2398.990 correct: 0.00\n"
     ]
    },
    {
     "data": {
      "text/html": [
       "\n",
       "        <progress\n",
       "            value='3'\n",
       "            max='3',\n",
       "            style='width: 100%'\n",
       "        >\n",
       "            3\n",
       "        </progress>\n",
       "    "
      ],
      "text/plain": [
       "<IPython.core.display.HTML object>"
      ]
     },
     "metadata": {},
     "output_type": "display_data"
    },
    {
     "name": "stdout",
     "output_type": "stream",
     "text": [
      "Validation tensor([[[0.9968]]], device='cuda:0') tensor([28.6163], device='cuda:0') tensor(762.8344, device='cuda:0')\n",
      "Validation tensor([[[0.9957]]], device='cuda:0') tensor([22.7598], device='cuda:0') tensor(473.6757, device='cuda:0')\n",
      "Validation tensor([[[0.9965]]], device='cuda:0') tensor([20.2541], device='cuda:0') tensor(370.8533, device='cuda:0')\n",
      "Validation tensor([[[0.9970]]], device='cuda:0') tensor([5.3968], device='cuda:0') tensor(19.3582, device='cuda:0')\n",
      "Validation tensor([[[0.9971]]], device='cuda:0') tensor([21.1160], device='cuda:0') tensor(404.7709, device='cuda:0')\n",
      "Validation tensor([[[0.9967]]], device='cuda:0') tensor([51.7093], device='cuda:0') tensor(2571.7749, device='cuda:0')\n",
      "Validation tensor([[[0.9970]]], device='cuda:0') tensor([12.7589], device='cuda:0') tensor(138.3425, device='cuda:0')\n",
      "Validation tensor([[[0.9967]]], device='cuda:0') tensor([21.5135], device='cuda:0') tensor(420.9409, device='cuda:0')\n",
      "Validation tensor([[[0.9970]]], device='cuda:0') tensor([36.8525], device='cuda:0') tensor(1285.6166, device='cuda:0')\n",
      "Validation tensor([[[0.9971]]], device='cuda:0') tensor([17.6826], device='cuda:0') tensor(278.4048, device='cuda:0')\n",
      "Test epoch 44 loss: 3363.286 correct: 0.00\n",
      "training\n"
     ]
    },
    {
     "data": {
      "text/html": [
       "\n",
       "        <progress\n",
       "            value='5'\n",
       "            max='5',\n",
       "            style='width: 100%'\n",
       "        >\n",
       "            5\n",
       "        </progress>\n",
       "    "
      ],
      "text/plain": [
       "<IPython.core.display.HTML object>"
      ]
     },
     "metadata": {},
     "output_type": "display_data"
    },
    {
     "name": "stdout",
     "output_type": "stream",
     "text": [
      "training-  y^ 0.9971147775650024 y tensor([2.9321], device='cuda:0')\n",
      "training-  y^ 0.9966894388198853 y tensor([18.9842], device='cuda:0')\n",
      "training-  y^ 0.9978911280632019 y tensor([0.2980], device='cuda:0')\n",
      "training-  y^ 0.9972363710403442 y tensor([11.8645], device='cuda:0')\n",
      "training-  y^ 0.9979515671730042 y tensor([0.0672], device='cuda:0')\n",
      "training-  y^ 0.9966434240341187 y tensor([53.0057], device='cuda:0')\n",
      "training-  y^ 0.9976892471313477 y tensor([3.6421], device='cuda:0')\n",
      "training-  y^ 0.9976072311401367 y tensor([11.4718], device='cuda:0')\n",
      "training-  y^ 0.9972792267799377 y tensor([16.1647], device='cuda:0')\n",
      "training-  y^ 0.9978746175765991 y tensor([0.5009], device='cuda:0')\n",
      "training-  y^ 0.9978700876235962 y tensor([1.3184], device='cuda:0')\n",
      "training-  y^ 0.9979933500289917 y tensor([0.0554], device='cuda:0')\n",
      "training-  y^ 0.9967116117477417 y tensor([10.6966], device='cuda:0')\n",
      "training-  y^ 0.9980035424232483 y tensor([0.0211], device='cuda:0')\n",
      "training-  y^ 0.9979944229125977 y tensor([0.1216], device='cuda:0')\n",
      "training-  y^ 0.997043788433075 y tensor([40.6911], device='cuda:0')\n",
      "training-  y^ 0.9973324537277222 y tensor([40.3548], device='cuda:0')\n",
      "training-  y^ 0.997900128364563 y tensor([0.5626], device='cuda:0')\n",
      "training-  y^ 0.9968234300613403 y tensor([54.6192], device='cuda:0')\n",
      "training-  y^ 0.9978982210159302 y tensor([0.5208], device='cuda:0')\n",
      "Train epoch 45 loss: 2398.975 correct: 0.00\n"
     ]
    },
    {
     "data": {
      "text/html": [
       "\n",
       "        <progress\n",
       "            value='3'\n",
       "            max='3',\n",
       "            style='width: 100%'\n",
       "        >\n",
       "            3\n",
       "        </progress>\n",
       "    "
      ],
      "text/plain": [
       "<IPython.core.display.HTML object>"
      ]
     },
     "metadata": {},
     "output_type": "display_data"
    },
    {
     "name": "stdout",
     "output_type": "stream",
     "text": [
      "Validation tensor([[[0.9970]]], device='cuda:0') tensor([28.6163], device='cuda:0') tensor(762.8229, device='cuda:0')\n",
      "Validation tensor([[[0.9959]]], device='cuda:0') tensor([22.7598], device='cuda:0') tensor(473.6650, device='cuda:0')\n",
      "Validation tensor([[[0.9967]]], device='cuda:0') tensor([20.2541], device='cuda:0') tensor(370.8448, device='cuda:0')\n",
      "Validation tensor([[[0.9972]]], device='cuda:0') tensor([5.3968], device='cuda:0') tensor(19.3565, device='cuda:0')\n",
      "Validation tensor([[[0.9973]]], device='cuda:0') tensor([21.1160], device='cuda:0') tensor(404.7632, device='cuda:0')\n",
      "Validation tensor([[[0.9969]]], device='cuda:0') tensor([51.7093], device='cuda:0') tensor(2571.7527, device='cuda:0')\n",
      "Validation tensor([[[0.9972]]], device='cuda:0') tensor([12.7589], device='cuda:0') tensor(138.3377, device='cuda:0')\n",
      "Validation tensor([[[0.9969]]], device='cuda:0') tensor([21.5135], device='cuda:0') tensor(420.9314, device='cuda:0')\n",
      "Validation tensor([[[0.9972]]], device='cuda:0') tensor([36.8525], device='cuda:0') tensor(1285.6021, device='cuda:0')\n",
      "Validation tensor([[[0.9973]]], device='cuda:0') tensor([17.6826], device='cuda:0') tensor(278.3983, device='cuda:0')\n",
      "Test epoch 45 loss: 3363.237 correct: 0.00\n",
      "training\n"
     ]
    },
    {
     "data": {
      "text/html": [
       "\n",
       "        <progress\n",
       "            value='5'\n",
       "            max='5',\n",
       "            style='width: 100%'\n",
       "        >\n",
       "            5\n",
       "        </progress>\n",
       "    "
      ],
      "text/plain": [
       "<IPython.core.display.HTML object>"
      ]
     },
     "metadata": {},
     "output_type": "display_data"
    },
    {
     "name": "stdout",
     "output_type": "stream",
     "text": [
      "training-  y^ 0.9973612427711487 y tensor([40.3548], device='cuda:0')\n",
      "training-  y^ 0.9979228377342224 y tensor([1.3184], device='cuda:0')\n",
      "training-  y^ 0.9973486661911011 y tensor([11.8645], device='cuda:0')\n",
      "training-  y^ 0.9976986050605774 y tensor([11.4718], device='cuda:0')\n",
      "training-  y^ 0.9980571866035461 y tensor([0.0554], device='cuda:0')\n",
      "training-  y^ 0.9979454874992371 y tensor([0.5626], device='cuda:0')\n",
      "training-  y^ 0.9980714917182922 y tensor([0.0211], device='cuda:0')\n",
      "training-  y^ 0.9974011182785034 y tensor([16.1647], device='cuda:0')\n",
      "training-  y^ 0.9972925782203674 y tensor([2.9321], device='cuda:0')\n",
      "training-  y^ 0.9971291422843933 y tensor([40.6911], device='cuda:0')\n",
      "training-  y^ 0.9980759620666504 y tensor([0.1216], device='cuda:0')\n",
      "training-  y^ 0.9968243837356567 y tensor([53.0057], device='cuda:0')\n",
      "training-  y^ 0.9980850219726562 y tensor([0.0672], device='cuda:0')\n",
      "training-  y^ 0.9969111084938049 y tensor([18.9842], device='cuda:0')\n",
      "training-  y^ 0.9980454444885254 y tensor([0.2980], device='cuda:0')\n",
      "training-  y^ 0.9968733191490173 y tensor([10.6966], device='cuda:0')\n",
      "training-  y^ 0.9969559907913208 y tensor([54.6192], device='cuda:0')\n",
      "training-  y^ 0.9980027079582214 y tensor([0.5009], device='cuda:0')\n",
      "training-  y^ 0.9979967474937439 y tensor([0.5208], device='cuda:0')\n",
      "training-  y^ 0.9978615641593933 y tensor([3.6421], device='cuda:0')\n",
      "Train epoch 46 loss: 2398.959 correct: 0.00\n"
     ]
    },
    {
     "data": {
      "text/html": [
       "\n",
       "        <progress\n",
       "            value='3'\n",
       "            max='3',\n",
       "            style='width: 100%'\n",
       "        >\n",
       "            3\n",
       "        </progress>\n",
       "    "
      ],
      "text/plain": [
       "<IPython.core.display.HTML object>"
      ]
     },
     "metadata": {},
     "output_type": "display_data"
    },
    {
     "name": "stdout",
     "output_type": "stream",
     "text": [
      "Validation tensor([[[0.9971]]], device='cuda:0') tensor([28.6163], device='cuda:0') tensor(762.8154, device='cuda:0')\n",
      "Validation tensor([[[0.9962]]], device='cuda:0') tensor([22.7598], device='cuda:0') tensor(473.6550, device='cuda:0')\n",
      "Validation tensor([[[0.9969]]], device='cuda:0') tensor([20.2541], device='cuda:0') tensor(370.8391, device='cuda:0')\n",
      "Validation tensor([[[0.9973]]], device='cuda:0') tensor([5.3968], device='cuda:0') tensor(19.3555, device='cuda:0')\n",
      "Validation tensor([[[0.9974]]], device='cuda:0') tensor([21.1160], device='cuda:0') tensor(404.7586, device='cuda:0')\n",
      "Validation tensor([[[0.9970]]], device='cuda:0') tensor([51.7093], device='cuda:0') tensor(2571.7385, device='cuda:0')\n",
      "Validation tensor([[[0.9973]]], device='cuda:0') tensor([12.7589], device='cuda:0') tensor(138.3348, device='cuda:0')\n",
      "Validation tensor([[[0.9970]]], device='cuda:0') tensor([21.5135], device='cuda:0') tensor(420.9257, device='cuda:0')\n",
      "Validation tensor([[[0.9973]]], device='cuda:0') tensor([36.8525], device='cuda:0') tensor(1285.5933, device='cuda:0')\n",
      "Validation tensor([[[0.9974]]], device='cuda:0') tensor([17.6826], device='cuda:0') tensor(278.3948, device='cuda:0')\n",
      "Test epoch 46 loss: 3363.205 correct: 0.00\n",
      "training\n"
     ]
    },
    {
     "data": {
      "text/html": [
       "\n",
       "        <progress\n",
       "            value='5'\n",
       "            max='5',\n",
       "            style='width: 100%'\n",
       "        >\n",
       "            5\n",
       "        </progress>\n",
       "    "
      ],
      "text/plain": [
       "<IPython.core.display.HTML object>"
      ]
     },
     "metadata": {},
     "output_type": "display_data"
    },
    {
     "name": "stdout",
     "output_type": "stream",
     "text": [
      "training-  y^ 0.9981279969215393 y tensor([0.0554], device='cuda:0')\n",
      "training-  y^ 0.9980199337005615 y tensor([0.5009], device='cuda:0')\n",
      "training-  y^ 0.9972140192985535 y tensor([40.6911], device='cuda:0')\n",
      "training-  y^ 0.9974656105041504 y tensor([11.8645], device='cuda:0')\n",
      "training-  y^ 0.9969178438186646 y tensor([53.0057], device='cuda:0')\n",
      "training-  y^ 0.9980915188789368 y tensor([0.2980], device='cuda:0')\n",
      "training-  y^ 0.9969484210014343 y tensor([10.6966], device='cuda:0')\n",
      "training-  y^ 0.998038113117218 y tensor([0.5208], device='cuda:0')\n",
      "training-  y^ 0.9981569647789001 y tensor([0.1216], device='cuda:0')\n",
      "training-  y^ 0.9981608986854553 y tensor([0.0672], device='cuda:0')\n",
      "training-  y^ 0.997541069984436 y tensor([40.3548], device='cuda:0')\n",
      "training-  y^ 0.9981822967529297 y tensor([0.0211], device='cuda:0')\n",
      "training-  y^ 0.9978498220443726 y tensor([11.4718], device='cuda:0')\n",
      "training-  y^ 0.9970532655715942 y tensor([18.9842], device='cuda:0')\n",
      "training-  y^ 0.9980783462524414 y tensor([0.5626], device='cuda:0')\n",
      "training-  y^ 0.9974560141563416 y tensor([2.9321], device='cuda:0')\n",
      "training-  y^ 0.9975613355636597 y tensor([16.1647], device='cuda:0')\n",
      "training-  y^ 0.9980935454368591 y tensor([1.3184], device='cuda:0')\n",
      "training-  y^ 0.997098445892334 y tensor([54.6192], device='cuda:0')\n",
      "training-  y^ 0.9979548454284668 y tensor([3.6421], device='cuda:0')\n",
      "Train epoch 47 loss: 2398.943 correct: 0.00\n"
     ]
    },
    {
     "data": {
      "text/html": [
       "\n",
       "        <progress\n",
       "            value='3'\n",
       "            max='3',\n",
       "            style='width: 100%'\n",
       "        >\n",
       "            3\n",
       "        </progress>\n",
       "    "
      ],
      "text/plain": [
       "<IPython.core.display.HTML object>"
      ]
     },
     "metadata": {},
     "output_type": "display_data"
    },
    {
     "name": "stdout",
     "output_type": "stream",
     "text": [
      "Validation tensor([[[0.9973]]], device='cuda:0') tensor([28.6163], device='cuda:0') tensor(762.8088, device='cuda:0')\n",
      "Validation tensor([[[0.9963]]], device='cuda:0') tensor([22.7598], device='cuda:0') tensor(473.6476, device='cuda:0')\n",
      "Validation tensor([[[0.9970]]], device='cuda:0') tensor([20.2541], device='cuda:0') tensor(370.8340, device='cuda:0')\n",
      "Validation tensor([[[0.9974]]], device='cuda:0') tensor([5.3968], device='cuda:0') tensor(19.3545, device='cuda:0')\n",
      "Validation tensor([[[0.9975]]], device='cuda:0') tensor([21.1160], device='cuda:0') tensor(404.7543, device='cuda:0')\n",
      "Validation tensor([[[0.9971]]], device='cuda:0') tensor([51.7093], device='cuda:0') tensor(2571.7256, device='cuda:0')\n",
      "Validation tensor([[[0.9974]]], device='cuda:0') tensor([12.7589], device='cuda:0') tensor(138.3320, device='cuda:0')\n",
      "Validation tensor([[[0.9972]]], device='cuda:0') tensor([21.5135], device='cuda:0') tensor(420.9203, device='cuda:0')\n",
      "Validation tensor([[[0.9974]]], device='cuda:0') tensor([36.8525], device='cuda:0') tensor(1285.5851, device='cuda:0')\n",
      "Validation tensor([[[0.9975]]], device='cuda:0') tensor([17.6826], device='cuda:0') tensor(278.3912, device='cuda:0')\n",
      "Test epoch 47 loss: 3363.177 correct: 0.00\n",
      "training\n"
     ]
    },
    {
     "data": {
      "text/html": [
       "\n",
       "        <progress\n",
       "            value='5'\n",
       "            max='5',\n",
       "            style='width: 100%'\n",
       "        >\n",
       "            5\n",
       "        </progress>\n",
       "    "
      ],
      "text/plain": [
       "<IPython.core.display.HTML object>"
      ]
     },
     "metadata": {},
     "output_type": "display_data"
    },
    {
     "name": "stdout",
     "output_type": "stream",
     "text": [
      "training-  y^ 0.9971156120300293 y tensor([54.6192], device='cuda:0')\n",
      "training-  y^ 0.9981610178947449 y tensor([0.2980], device='cuda:0')\n",
      "training-  y^ 0.9975704550743103 y tensor([11.8645], device='cuda:0')\n",
      "training-  y^ 0.9981133937835693 y tensor([0.5626], device='cuda:0')\n",
      "training-  y^ 0.9982312321662903 y tensor([0.0211], device='cuda:0')\n",
      "training-  y^ 0.9982306361198425 y tensor([0.0554], device='cuda:0')\n",
      "training-  y^ 0.9975190162658691 y tensor([2.9321], device='cuda:0')\n",
      "training-  y^ 0.9979851245880127 y tensor([3.6421], device='cuda:0')\n",
      "training-  y^ 0.9976271986961365 y tensor([40.3548], device='cuda:0')\n",
      "training-  y^ 0.997056245803833 y tensor([53.0057], device='cuda:0')\n",
      "training-  y^ 0.9981410503387451 y tensor([0.5009], device='cuda:0')\n",
      "training-  y^ 0.9973711967468262 y tensor([40.6911], device='cuda:0')\n",
      "training-  y^ 0.9981539845466614 y tensor([1.3184], device='cuda:0')\n",
      "training-  y^ 0.99814772605896 y tensor([0.5208], device='cuda:0')\n",
      "training-  y^ 0.9971259236335754 y tensor([10.6966], device='cuda:0')\n",
      "training-  y^ 0.998264729976654 y tensor([0.1216], device='cuda:0')\n",
      "training-  y^ 0.9972125887870789 y tensor([18.9842], device='cuda:0')\n",
      "training-  y^ 0.997671902179718 y tensor([16.1647], device='cuda:0')\n",
      "training-  y^ 0.9982755184173584 y tensor([0.0672], device='cuda:0')\n",
      "training-  y^ 0.9979678988456726 y tensor([11.4718], device='cuda:0')\n",
      "Train epoch 48 loss: 2398.930 correct: 0.00\n"
     ]
    },
    {
     "data": {
      "text/html": [
       "\n",
       "        <progress\n",
       "            value='3'\n",
       "            max='3',\n",
       "            style='width: 100%'\n",
       "        >\n",
       "            3\n",
       "        </progress>\n",
       "    "
      ],
      "text/plain": [
       "<IPython.core.display.HTML object>"
      ]
     },
     "metadata": {},
     "output_type": "display_data"
    },
    {
     "name": "stdout",
     "output_type": "stream",
     "text": [
      "Validation tensor([[[0.9974]]], device='cuda:0') tensor([28.6163], device='cuda:0') tensor(762.8019, device='cuda:0')\n",
      "Validation tensor([[[0.9965]]], device='cuda:0') tensor([22.7598], device='cuda:0') tensor(473.6401, device='cuda:0')\n",
      "Validation tensor([[[0.9971]]], device='cuda:0') tensor([20.2541], device='cuda:0') tensor(370.8286, device='cuda:0')\n",
      "Validation tensor([[[0.9975]]], device='cuda:0') tensor([5.3968], device='cuda:0') tensor(19.3535, device='cuda:0')\n",
      "Validation tensor([[[0.9976]]], device='cuda:0') tensor([21.1160], device='cuda:0') tensor(404.7496, device='cuda:0')\n",
      "Validation tensor([[[0.9973]]], device='cuda:0') tensor([51.7093], device='cuda:0') tensor(2571.7117, device='cuda:0')\n",
      "Validation tensor([[[0.9975]]], device='cuda:0') tensor([12.7589], device='cuda:0') tensor(138.3292, device='cuda:0')\n",
      "Validation tensor([[[0.9973]]], device='cuda:0') tensor([21.5135], device='cuda:0') tensor(420.9147, device='cuda:0')\n",
      "Validation tensor([[[0.9975]]], device='cuda:0') tensor([36.8525], device='cuda:0') tensor(1285.5767, device='cuda:0')\n",
      "Validation tensor([[[0.9976]]], device='cuda:0') tensor([17.6826], device='cuda:0') tensor(278.3874, device='cuda:0')\n",
      "Test epoch 48 loss: 3363.147 correct: 0.00\n",
      "training\n"
     ]
    },
    {
     "data": {
      "text/html": [
       "\n",
       "        <progress\n",
       "            value='5'\n",
       "            max='5',\n",
       "            style='width: 100%'\n",
       "        >\n",
       "            5\n",
       "        </progress>\n",
       "    "
      ],
      "text/plain": [
       "<IPython.core.display.HTML object>"
      ]
     },
     "metadata": {},
     "output_type": "display_data"
    },
    {
     "name": "stdout",
     "output_type": "stream",
     "text": [
      "training-  y^ 0.998175859451294 y tensor([0.5208], device='cuda:0')\n",
      "training-  y^ 0.997975766658783 y tensor([11.4718], device='cuda:0')\n",
      "training-  y^ 0.9971446394920349 y tensor([53.0057], device='cuda:0')\n",
      "training-  y^ 0.9983046054840088 y tensor([0.0211], device='cuda:0')\n",
      "training-  y^ 0.9982085227966309 y tensor([0.5009], device='cuda:0')\n",
      "training-  y^ 0.9983086585998535 y tensor([0.0554], device='cuda:0')\n",
      "training-  y^ 0.9983043670654297 y tensor([0.1216], device='cuda:0')\n",
      "training-  y^ 0.9982115030288696 y tensor([0.5626], device='cuda:0')\n",
      "training-  y^ 0.998264729976654 y tensor([0.2980], device='cuda:0')\n",
      "training-  y^ 0.9976961016654968 y tensor([11.8645], device='cuda:0')\n",
      "training-  y^ 0.9983142614364624 y tensor([0.0672], device='cuda:0')\n",
      "training-  y^ 0.9972749352455139 y tensor([18.9842], device='cuda:0')\n",
      "training-  y^ 0.9972862005233765 y tensor([54.6192], device='cuda:0')\n",
      "training-  y^ 0.9982274174690247 y tensor([1.3184], device='cuda:0')\n",
      "training-  y^ 0.9972260594367981 y tensor([10.6966], device='cuda:0')\n",
      "training-  y^ 0.9980966448783875 y tensor([3.6421], device='cuda:0')\n",
      "training-  y^ 0.997750461101532 y tensor([40.3548], device='cuda:0')\n",
      "training-  y^ 0.9976686835289001 y tensor([2.9321], device='cuda:0')\n",
      "training-  y^ 0.9975059628486633 y tensor([40.6911], device='cuda:0')\n",
      "training-  y^ 0.9977654218673706 y tensor([16.1647], device='cuda:0')\n",
      "Train epoch 49 loss: 2398.916 correct: 0.00\n"
     ]
    },
    {
     "data": {
      "text/html": [
       "\n",
       "        <progress\n",
       "            value='3'\n",
       "            max='3',\n",
       "            style='width: 100%'\n",
       "        >\n",
       "            3\n",
       "        </progress>\n",
       "    "
      ],
      "text/plain": [
       "<IPython.core.display.HTML object>"
      ]
     },
     "metadata": {},
     "output_type": "display_data"
    },
    {
     "name": "stdout",
     "output_type": "stream",
     "text": [
      "Validation tensor([[[0.9974]]], device='cuda:0') tensor([28.6163], device='cuda:0') tensor(762.8007, device='cuda:0')\n",
      "Validation tensor([[[0.9965]]], device='cuda:0') tensor([22.7598], device='cuda:0') tensor(473.6390, device='cuda:0')\n",
      "Validation tensor([[[0.9972]]], device='cuda:0') tensor([20.2541], device='cuda:0') tensor(370.8278, device='cuda:0')\n",
      "Validation tensor([[[0.9976]]], device='cuda:0') tensor([5.3968], device='cuda:0') tensor(19.3533, device='cuda:0')\n",
      "Validation tensor([[[0.9976]]], device='cuda:0') tensor([21.1160], device='cuda:0') tensor(404.7488, device='cuda:0')\n",
      "Validation tensor([[[0.9973]]], device='cuda:0') tensor([51.7093], device='cuda:0') tensor(2571.7095, device='cuda:0')\n",
      "Validation tensor([[[0.9976]]], device='cuda:0') tensor([12.7589], device='cuda:0') tensor(138.3288, device='cuda:0')\n",
      "Validation tensor([[[0.9973]]], device='cuda:0') tensor([21.5135], device='cuda:0') tensor(420.9134, device='cuda:0')\n",
      "Validation tensor([[[0.9976]]], device='cuda:0') tensor([36.8525], device='cuda:0') tensor(1285.5750, device='cuda:0')\n",
      "Validation tensor([[[0.9977]]], device='cuda:0') tensor([17.6826], device='cuda:0') tensor(278.3868, device='cuda:0')\n",
      "Test epoch 49 loss: 3363.142 correct: 0.00\n",
      "training\n"
     ]
    },
    {
     "data": {
      "text/html": [
       "\n",
       "        <progress\n",
       "            value='5'\n",
       "            max='5',\n",
       "            style='width: 100%'\n",
       "        >\n",
       "            5\n",
       "        </progress>\n",
       "    "
      ],
      "text/plain": [
       "<IPython.core.display.HTML object>"
      ]
     },
     "metadata": {},
     "output_type": "display_data"
    },
    {
     "name": "stdout",
     "output_type": "stream",
     "text": [
      "training-  y^ 0.9977709054946899 y tensor([16.1647], device='cuda:0')\n",
      "training-  y^ 0.9982467889785767 y tensor([0.5208], device='cuda:0')\n",
      "training-  y^ 0.9975304007530212 y tensor([40.6911], device='cuda:0')\n",
      "training-  y^ 0.9981313347816467 y tensor([3.6421], device='cuda:0')\n",
      "training-  y^ 0.9977071285247803 y tensor([2.9321], device='cuda:0')\n",
      "training-  y^ 0.9983657002449036 y tensor([0.1216], device='cuda:0')\n",
      "training-  y^ 0.9982863068580627 y tensor([0.5009], device='cuda:0')\n",
      "training-  y^ 0.9983280301094055 y tensor([0.2980], device='cuda:0')\n",
      "training-  y^ 0.9977770447731018 y tensor([11.8645], device='cuda:0')\n",
      "training-  y^ 0.9973822236061096 y tensor([18.9842], device='cuda:0')\n",
      "training-  y^ 0.9972898960113525 y tensor([53.0057], device='cuda:0')\n",
      "training-  y^ 0.9982931017875671 y tensor([1.3184], device='cuda:0')\n",
      "training-  y^ 0.997825562953949 y tensor([40.3548], device='cuda:0')\n",
      "training-  y^ 0.998404324054718 y tensor([0.0211], device='cuda:0')\n",
      "training-  y^ 0.9983978867530823 y tensor([0.0672], device='cuda:0')\n",
      "training-  y^ 0.9984096884727478 y tensor([0.0554], device='cuda:0')\n",
      "training-  y^ 0.9981162548065186 y tensor([11.4718], device='cuda:0')\n",
      "training-  y^ 0.9973529577255249 y tensor([10.6966], device='cuda:0')\n",
      "training-  y^ 0.9983173608779907 y tensor([0.5626], device='cuda:0')\n",
      "training-  y^ 0.9974293112754822 y tensor([54.6192], device='cuda:0')\n",
      "Train epoch 50 loss: 2398.903 correct: 0.00\n"
     ]
    },
    {
     "data": {
      "text/html": [
       "\n",
       "        <progress\n",
       "            value='3'\n",
       "            max='3',\n",
       "            style='width: 100%'\n",
       "        >\n",
       "            3\n",
       "        </progress>\n",
       "    "
      ],
      "text/plain": [
       "<IPython.core.display.HTML object>"
      ]
     },
     "metadata": {},
     "output_type": "display_data"
    },
    {
     "name": "stdout",
     "output_type": "stream",
     "text": [
      "Validation tensor([[[0.9976]]], device='cuda:0') tensor([28.6163], device='cuda:0') tensor(762.7916, device='cuda:0')\n",
      "Validation tensor([[[0.9967]]], device='cuda:0') tensor([22.7598], device='cuda:0') tensor(473.6297, device='cuda:0')\n",
      "Validation tensor([[[0.9973]]], device='cuda:0') tensor([20.2541], device='cuda:0') tensor(370.8209, device='cuda:0')\n",
      "Validation tensor([[[0.9977]]], device='cuda:0') tensor([5.3968], device='cuda:0') tensor(19.3520, device='cuda:0')\n",
      "Validation tensor([[[0.9978]]], device='cuda:0') tensor([21.1160], device='cuda:0') tensor(404.7432, device='cuda:0')\n",
      "Validation tensor([[[0.9975]]], device='cuda:0') tensor([51.7093], device='cuda:0') tensor(2571.6924, device='cuda:0')\n",
      "Validation tensor([[[0.9977]]], device='cuda:0') tensor([12.7589], device='cuda:0') tensor(138.3250, device='cuda:0')\n",
      "Validation tensor([[[0.9975]]], device='cuda:0') tensor([21.5135], device='cuda:0') tensor(420.9063, device='cuda:0')\n",
      "Validation tensor([[[0.9977]]], device='cuda:0') tensor([36.8525], device='cuda:0') tensor(1285.5641, device='cuda:0')\n",
      "Validation tensor([[[0.9978]]], device='cuda:0') tensor([17.6826], device='cuda:0') tensor(278.3818, device='cuda:0')\n",
      "Test epoch 50 loss: 3363.104 correct: 0.00\n"
     ]
    }
   ],
   "source": [
    "# Main\n",
    "\n",
    "#  Containers for losses and accuracies for every epoch\n",
    "train_accs = []\n",
    "train_losses = []\n",
    "val_accs = []\n",
    "val_losses = []\n",
    "\n",
    "# Best validation accuracy\n",
    "best_acc = 0\n",
    "\n",
    "# Set pseudo-random generator seeds to make multiple runs comparable\n",
    "torch.manual_seed(1)\n",
    "if haveCuda:\n",
    "    torch.cuda.manual_seed(1)\n",
    "\n",
    "# Create net, criterion, optimizer and scheduler\n",
    "# This needs to be done after setting the random seed, \n",
    "# so that the random initialization would be the same\n",
    "net = createNet()\n",
    "criterion = createLoss()\n",
    "optimizer = createOptimizer(net)\n",
    "# scheduler = createScheduler()\n",
    "\n",
    "# For numEpoch epochs\n",
    "for epoch in range(numEpoch):\n",
    "    \n",
    "    # The with the LR scheduler\n",
    "#     scheduler.step()\n",
    "    \n",
    "    # Train\n",
    "    loss,acc = train(epoch)\n",
    "    train_accs.append(acc)\n",
    "    train_losses.append(loss)\n",
    "    \n",
    "    # Validate\n",
    "    loss,acc = val(epoch)\n",
    "    val_accs.append(acc)\n",
    "    val_losses.append(loss)\n",
    "    \n",
    "    # If the current model is better, than the previous best, save it\n",
    "    if acc > best_acc:\n",
    "        print(\"Best Model, Saving\")\n",
    "        best_acc = acc\n",
    "        torch.save(net,\"./data/model.pth\")\n",
    "        "
   ]
  },
  {
   "cell_type": "code",
   "execution_count": null,
   "metadata": {},
   "outputs": [],
   "source": [
    "#  #Validation\n",
    "    \n",
    "# def validation(self):\n",
    "#     \"\"\"\n",
    "#     Runs the validation phase of the training\n",
    "#     :return: The validation loss average\n",
    "#     \"\"\"\n",
    "#     self.eval()\n",
    "#     average_loss = 0\n",
    "#     step = 0\n",
    "#     for step, data in enumerate(self.dataset['validation']):\n",
    "#         with torch.no_grad():\n",
    "#             input_data = data['KUL'].cuda()\n",
    "#             prediction = self(input_data)\n",
    "#             loss = self.loss_fn(prediction, data['EES'].cuda())\n",
    "#             average_loss += loss.item()\n",
    "#     print(\"Validation is complete\")\n",
    "#     return average_loss / (step + 1)"
   ]
  },
  {
   "cell_type": "code",
   "execution_count": null,
   "metadata": {},
   "outputs": [],
   "source": [
    "# # Training\n",
    "\n",
    "# def train(self, epochs=100):\n",
    "#     b_loss = []\n",
    "#     v_loss = []\n",
    "#     for epoch in trange(epochs):\n",
    "#         for step, data in enumerate(self.dataset[\"train\"]):\n",
    "#             input_data = data['KUL'].cuda()\n",
    "#             prediction = self(input_data)\n",
    "#             loss = self.loss_fn(prediction, data['EES'].cuda())\n",
    "#             loss.backward()\n",
    "#             self.optimizer.step()\n",
    "#             self.zero_grad()\n",
    "#             b_loss.append(loss.item())\n",
    "\n",
    "#         if epoch % self.valid_freq and epoch != 0:\n",
    "#             print(f'Validation loss: {self.validation()}', flush=True)\n",
    "#             v_loss.append(self.validation())\n",
    "\n",
    "#     print(\"Train is complete\")\n",
    "\n",
    "#     #self.test()\n",
    "#     #self.save_model()\n",
    "#     plt.plot(v_loss)\n",
    "#     plt.ylabel('Validation loss')\n",
    "#     plt.show()\n",
    "#     plt.plot(b_loss)\n",
    "#     plt.ylabel('Batch loss')\n",
    "#     plt.show()\n",
    "\n",
    "   "
   ]
  },
  {
   "cell_type": "code",
   "execution_count": null,
   "metadata": {},
   "outputs": [],
   "source": [
    "def test(self):\n",
    "        \"\"\"\n",
    "        Runs the evaluation of the network.\n",
    "        :return: average loss for the test\n",
    "        \"\"\"\n",
    "        average_loss = 0\n",
    "        step = 0\n",
    "        for step, data in enumerate(self.dataset['test']):\n",
    "            with torch.no_grad():\n",
    "                input_data = data['KUL'].cuda()\n",
    "                prediction = self(input_data)\n",
    "                loss = self.loss_fn(prediction, data['EES'].cuda())\n",
    "                average_loss += loss.item()\n",
    "        print(\"the test is complete\")\n",
    "        return average_loss / step"
   ]
  },
  {
   "cell_type": "code",
   "execution_count": null,
   "metadata": {},
   "outputs": [],
   "source": [
    "def save_checkpoint(self, save_dir=\"./training\"):\n",
    "        timestamp = datetime.datetime.now().strftime(\"%Y_%m_%d_%H_%M_%S.%d\")\n",
    "        save_path = os.path.join(save_dir, timestamp)\n",
    "        torch.save({\n",
    "            'epoch': epoch,\n",
    "            'model_state_dict': model.state_dict(),\n",
    "            'optimizer_state_dict': optimizer.state_dict(),\n",
    "            'loss': loss,\n",
    "            }, os.path.join(save_path, 'model.pth'))"
   ]
  },
  {
   "cell_type": "code",
   "execution_count": null,
   "metadata": {},
   "outputs": [],
   "source": [
    "def save_model(model):\n",
    "    \"\"\"\n",
    "    Saves weights to the given directory plus the timestamp\n",
    "    :return: none\n",
    "    \"\"\"\n",
    "    save_dir=\"./training\"\n",
    "    timestamp = datetime.datetime.now().strftime(\"%Y_%m_%d_%H_%M_%S.%d\")\n",
    "    save_path = os.path.join(save_dir, timestamp)\n",
    "    if not os.path.exists(save_path):\n",
    "        os.makedirs(save_path)\n",
    "    torch.save(model.state_dict(), os.path.join(save_path, 'model.pth'))\n",
    "    print(\"saving weights is complete\")"
   ]
  },
  {
   "cell_type": "code",
   "execution_count": null,
   "metadata": {
    "scrolled": false
   },
   "outputs": [],
   "source": [
    "# Main\n",
    "\n",
    "# Containers for losses and accuracies for every epoch\n",
    "train_accs = []\n",
    "train_losses = []\n",
    "val_accs = []\n",
    "val_losses = []\n",
    "\n",
    "# Best validation accuracy\n",
    "best_acc = 0\n",
    "\n",
    "# Set pseudo-random generator seeds to make multiple runs comparable\n",
    "torch.manual_seed(1)\n",
    "if haveCuda:\n",
    "    torch.cuda.manual_seed(1)\n",
    "\n",
    "# Create net, criterion, optimizer and scheduler\n",
    "# This needs to be done after setting the random seed, \n",
    "# so that the random initialization would be the same\n",
    "net = createNet()\n",
    "criterion = createLoss()\n",
    "# optimizer = createOptimizer()\n",
    "# scheduler = createScheduler()\n",
    "\n",
    "# # For numEpoch epochs\n",
    "# for epoch in range(numEpoch):\n",
    "    \n",
    "#     # The with the LR scheduler\n",
    "#     scheduler.step()\n",
    "    \n",
    "#     # Train\n",
    "#     loss,acc = train(epoch)\n",
    "#     train_accs.append(acc)\n",
    "#     train_losses.append(loss)\n",
    "    \n",
    "#     # Validate\n",
    "#     loss,acc = val(epoch)\n",
    "#     val_accs.append(acc)\n",
    "#     val_losses.append(loss)\n",
    "    \n",
    "#     # If the current model is better, than the previous best, save it\n",
    "#     if acc > best_acc:\n",
    "#         print(\"Best Model, Saving\")\n",
    "#         best_acc = acc\n",
    "#         torch.save(net,\"./data/model.pth\")\n",
    "        \n",
    "\n",
    "\n",
    "    "
   ]
  },
  {
   "cell_type": "code",
   "execution_count": null,
   "metadata": {},
   "outputs": [],
   "source": [
    "if __name__ == \"__main__\":\n",
    "    learner = CarBadnessGuesser()\n",
    "    torch.backends.cudnn.enabled = False\n",
    "    learner.train()\n",
    "    save_model(learner)"
   ]
  },
  {
   "cell_type": "code",
   "execution_count": null,
   "metadata": {},
   "outputs": [],
   "source": [
    "learner.eval()"
   ]
  },
  {
   "cell_type": "code",
   "execution_count": null,
   "metadata": {},
   "outputs": [],
   "source": [
    "def predict_image(image, model):\n",
    "    image_tensor = test_transforms(image).float()\n",
    "    image_tensor = image_tensor.unsqueeze_(0)\n",
    "    input = Variable(image_tensor)\n",
    "    input = input.to(device)\n",
    "    output = model(input)\n",
    "    index = output.data.cpu()\n",
    "    return index"
   ]
  },
  {
   "cell_type": "code",
   "execution_count": null,
   "metadata": {},
   "outputs": [],
   "source": [
    "base_path='./Data'\n",
    "for file in os.listdir(base_path):\n",
    "        data_dict = {}\n",
    "        num, data_type = file.split('_')\n",
    "        data_type = data_type.split('.')[0]\n",
    "        num = int(num)\n",
    "        if \"EES\" in data_type:\n",
    "            tensor_in = sio.loadmat(os.path.join(base_path, file))['EES_value']\n",
    "            tensor_in = torch.FloatTensor(tensor_in).squeeze(0)\n",
    "        else:\n",
    "            tensor_in = sio.loadmat(os.path.join(base_path, file))['Kulonbseg']\n",
    "            tensor_in = torch.FloatTensor(tensor_in)\n",
    "        try:\n",
    "            data_dict[num][data_type] = tensor_in\n",
    "        except KeyError:\n",
    "            data_dict[num] = {data_type: tensor_in}\n"
   ]
  },
  {
   "cell_type": "code",
   "execution_count": null,
   "metadata": {},
   "outputs": [],
   "source": [
    "    new_data = []\n",
    "    for key in data_dict.keys():\n",
    "        new_data.append(data_dict[key])"
   ]
  },
  {
   "cell_type": "code",
   "execution_count": null,
   "metadata": {},
   "outputs": [],
   "source": [
    "input_data = new_data['KUL']\n",
    "prediction = self(input_data)"
   ]
  }
 ],
 "metadata": {
  "kernelspec": {
   "display_name": "Python 3",
   "language": "python",
   "name": "python3"
  },
  "language_info": {
   "codemirror_mode": {
    "name": "ipython",
    "version": 3
   },
   "file_extension": ".py",
   "mimetype": "text/x-python",
   "name": "python",
   "nbconvert_exporter": "python",
   "pygments_lexer": "ipython3",
   "version": "3.7.4"
  }
 },
 "nbformat": 4,
 "nbformat_minor": 2
}
