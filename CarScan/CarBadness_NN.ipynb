{
 "cells": [
  {
   "cell_type": "code",
   "execution_count": 1,
   "metadata": {},
   "outputs": [],
   "source": [
    "import datetime\n",
    "import os\n",
    "import numpy as np\n",
    "import scipy.io as sio\n",
    "import torch\n",
    "from torch import nn, optim\n",
    "from tqdm import tqdm\n",
    "from tqdm import trange\n",
    "import matplotlib.pyplot as plt"
   ]
  },
  {
   "cell_type": "code",
   "execution_count": 2,
   "metadata": {},
   "outputs": [],
   "source": [
    "device = torch.device(\"cuda:0\")"
   ]
  },
  {
   "cell_type": "code",
   "execution_count": 3,
   "metadata": {
    "pixiedust": {
     "displayParams": {}
    }
   },
   "outputs": [],
   "source": [
    "def read_data(base_path='./Data',split_size=[0.6, 0.2, 0.2]):  #  the split_size gives how much of the data goes to the train/test.\n",
    "    \"\"\"\n",
    "    Reads all of the .mat files in the given base_path, and returns a dict with the data found there.\n",
    "    :param split_size:\n",
    "    :param base_path: The directory that should be read in.\n",
    "    :return: a dict, containing the EES and difference tensors.\n",
    "    \"\"\"\n",
    "    i = 0\n",
    "    for file in os.listdir(base_path):\n",
    "        i = i + 1\n",
    "    pbar = tqdm(total=i)\n",
    "\n",
    "    data_dict = {}\n",
    "    for file in os.listdir(base_path):\n",
    "        num, data_type = file.split('_')\n",
    "        data_type = data_type.split('.')[0]\n",
    "        num = int(num)\n",
    "        if \"EES\" in data_type:\n",
    "            tensor_in = sio.loadmat(os.path.join(base_path, file))['EES_value']\n",
    "            tensor_in = torch.FloatTensor(tensor_in).squeeze(0)\n",
    "        else:\n",
    "            tensor_in = sio.loadmat(os.path.join(base_path, file))['Kulonbseg']\n",
    "            tensor_in = torch.FloatTensor(tensor_in)\n",
    "        try:\n",
    "            data_dict[num][data_type] = tensor_in\n",
    "        except KeyError:\n",
    "            data_dict[num] = {data_type: tensor_in}\n",
    "        pbar.update()\n",
    "    pbar.close()\n",
    "\n",
    "    new_data = []\n",
    "    for key in data_dict.keys():\n",
    "        new_data.append(data_dict[key])\n",
    "    np.random.shuffle(new_data)\n",
    "    if isinstance(split_size, list):\n",
    "        training_samples = int(split_size[0] * len(new_data))\n",
    "        valid_samples = int(split_size[1] * len(new_data))\n",
    "        test_samples = int(split_size[2] * len(new_data))\n",
    "        while sum([training_samples, valid_samples, test_samples]) != len(new_data):\n",
    "            training_samples += 1\n",
    "        #split samples\n",
    "        new_datadict = {'train': new_data[:training_samples],\n",
    "                        'validation': new_data[training_samples + 1:training_samples + valid_samples],\n",
    "                        'test': new_data[-test_samples:]}\n",
    "    else:\n",
    "        new_datadict = {'train': new_data,\n",
    "                        'validation': new_data,\n",
    "                        'test': new_data}\n",
    "    print(\"Adatbetöltés kész\")\n",
    "    return new_datadict"
   ]
  },
  {
   "cell_type": "code",
   "execution_count": 4,
   "metadata": {
    "pixiedust": {
     "displayParams": {}
    }
   },
   "outputs": [],
   "source": [
    "class CarBadnessGuesser(nn.Module):\n",
    "    def __init__(self, lr=0.01):\n",
    "        super(CarBadnessGuesser, self).__init__()\n",
    "\n",
    "        self.dataset = read_data()\n",
    "        self.valid_freq = 10\n",
    "\n",
    "        self.model = nn.Sequential(\n",
    "            nn.Conv3d(in_channels=1, out_channels=3, kernel_size=(10, 5, 5), stride=(10, 5, 5)),\n",
    "            nn.BatchNorm3d(3),\n",
    "            nn.Conv3d(in_channels=3, out_channels=2, kernel_size=5),\n",
    "            nn.BatchNorm3d(2),\n",
    "            nn.Conv3d(in_channels=2, out_channels=1, kernel_size=3),\n",
    "            nn.BatchNorm3d(1),\n",
    "            nn.AdaptiveMaxPool3d((1, 1, 10)),\n",
    "        ) \n",
    "        \n",
    "        self.linear = nn.Sequential(\n",
    "            nn.Linear(in_features=10, out_features=5),\n",
    "            nn.ReLU(),\n",
    "            nn.Linear(in_features=5, out_features=1),\n",
    "            nn.ReLU()\n",
    "        )\n",
    "        if torch.cuda.is_available():\n",
    "            self.linear.cuda()\n",
    "            self.model.cuda()\n",
    "\n",
    "        self.loss_fn = nn.MSELoss()\n",
    "        self.optimizer = optim.Adam(list(self.model.parameters()) + list(self.linear.parameters()), lr=lr)\n",
    "\n",
    "\n",
    "    # 0: no damage, 1: slightly damaged, 2: damaged, 3: very damaged\n",
    "    def getClass(self, x):\n",
    "        if x==0:\n",
    "            return 0      \n",
    "        x = int(x)\n",
    "        if x<=100/3:\n",
    "            return 1\n",
    "        elif  x>100/3 and x<200/3:\n",
    "            return 2\n",
    "        else:\n",
    "            return 3\n",
    "    \n",
    "    # compare prediction and label classes\n",
    "    def isCorrect(self, prediction, label):\n",
    "        return self.getClass(prediction) == self.getClass(label)\n",
    "\n",
    "    def forward(self, x):\n",
    "        conv_out = self.model(x.unsqueeze(0).unsqueeze(0))\n",
    "        return self.linear(conv_out.squeeze(-2).squeeze(-2))\n",
    "\n",
    "    def train(self, epochs=50):\n",
    "        b_loss = []\n",
    "        v_loss = []\n",
    "    \n",
    "        for epoch in trange(epochs):\n",
    "            t_correct = 0\n",
    "            total = 1\n",
    "            for step, data in enumerate(self.dataset[\"train\"]):\n",
    "                input_data = data['KUL'].cuda()\n",
    "                label = data['EES'].cuda()\n",
    "                \n",
    "                prediction = self(input_data)\n",
    "                loss = self.loss_fn(prediction, label)\n",
    "                #print('training- ', 'y^', prediction.item(), 'y', label.item(), loss.item())\n",
    "                #print('t_correct', t_correct, 'total',total)\n",
    "                \n",
    "                loss.backward()     \n",
    "                self.optimizer.step()\n",
    "                b_loss.append(loss.item())\n",
    "                \n",
    "                #check if its prediction matches label class\n",
    "                if( self.isCorrect(prediction.item(), label.item()) ):\n",
    "                    t_correct += 1;\n",
    "                total += 1;\n",
    "                \n",
    "                self.zero_grad()\n",
    "            if epoch % self.valid_freq and epoch != 0:\n",
    "                #calculate the training accuracy\n",
    "                t_acc = t_correct/total * 100\n",
    "                #print(f'Batch loss: {loss.item()}', flush=True)\n",
    "             \n",
    "                vloss, v_acc = self.validation()\n",
    "                v_loss.append(vloss)\n",
    "                print(f'Validation loss:', vloss, flush=True)\n",
    "\n",
    "                \n",
    "        print('Training acc:', t_acc, '%')\n",
    "        print('Validation acc: ', v_acc, '%')  \n",
    "        self.save_weights()\n",
    "        \n",
    "        plt.plot(v_loss)\n",
    "        plt.ylabel('Validation loss')\n",
    "        plt.show()\n",
    "        plt.plot(b_loss)\n",
    "        plt.ylabel('Batch loss')\n",
    "        plt.show()\n",
    "\n",
    "    def validation(self):\n",
    "        \"\"\"\n",
    "        Runs the validation phase of the training\n",
    "        :return: The validation loss average\n",
    "        \"\"\"\n",
    "        v_correct = 0\n",
    "        total = 1\n",
    "        average_loss = 0\n",
    "        step = 0\n",
    "        \n",
    "        for step, data in enumerate(self.dataset['validation']):\n",
    "            with torch.no_grad():\n",
    "                input_data = data['KUL'].cuda()\n",
    "                label = data['EES'].cuda()\n",
    "                \n",
    "                prediction = self(input_data)\n",
    "                loss = self.loss_fn(prediction, label)               \n",
    "                #print('validation- ', 'y^', prediction.item(), 'y', label.item(), loss.item())\n",
    "                #print('v_correct', v_correct, 'total',total)\n",
    "                \n",
    "                average_loss += loss.item()\n",
    "                \n",
    "                #check if its correct\n",
    "                c = self.isCorrect(prediction.item(), label.item())\n",
    "                if(c == True):\n",
    "                    v_correct += 1;\n",
    "                total += 1;\n",
    "        \n",
    "        #calculate the validation accuracy\n",
    "        v_correct = v_correct/total * 100  \n",
    "        return average_loss / (step + 1), v_correct\n",
    "        print(\"Validation is complete\")\n",
    "\n",
    "    def test(self):\n",
    "        \"\"\"\n",
    "        Runs the evaluation of the network.\n",
    "        :return: average loss for the test\n",
    "        \"\"\"\n",
    "        average_loss = 0\n",
    "        step = 0\n",
    "        for step, data in enumerate(self.dataset['test']):\n",
    "            with torch.no_grad():\n",
    "                input_data = data['KUL'].cuda()\n",
    "                prediction = self(input_data)\n",
    "                loss = self.loss_fn(prediction, data['EES'].cuda())\n",
    "                average_loss += loss.item()\n",
    "        return average_loss / step\n",
    "        print(\"the test is complete\")\n",
    "\n",
    "    def save_weights(self, save_dir=\"./training\"):\n",
    "        \"\"\"\n",
    "        Saves weights to the given directory plus the timestamp\n",
    "        :return: none\n",
    "        \"\"\"\n",
    "        timestamp = datetime.datetime.now().strftime(\"%Y_%m_%d_%H_%M_%S.%d\")\n",
    "        save_path = os.path.join(save_dir, timestamp)\n",
    "        if not os.path.exists(save_path):\n",
    "            os.makedirs(save_path)\n",
    "        torch.save(list(self.model.parameters()) +\n",
    "                   list(self.linear.parameters()), os.path.join(save_path, 'model.weights'))\n",
    "        print(\"saving weights is complete\")\n",
    "\n",
    "    def load_weights(self):\n",
    "        self.optimizer = torch.load('model.weights')\n",
    "        print(\"loading is complete\")\n"
   ]
  },
  {
   "cell_type": "code",
   "execution_count": 5,
   "metadata": {
    "scrolled": true
   },
   "outputs": [
    {
     "name": "stderr",
     "output_type": "stream",
     "text": [
      "100%|██████████| 100/100 [00:11<00:00,  8.61it/s]\n"
     ]
    },
    {
     "name": "stdout",
     "output_type": "stream",
     "text": [
      "Adatbetöltés kész\n"
     ]
    },
    {
     "name": "stderr",
     "output_type": "stream",
     "text": [
      "  0%|          | 0/50 [00:00<?, ?it/s]C:\\Users\\igorr\\Anaconda3\\lib\\site-packages\\torch\\nn\\modules\\loss.py:431: UserWarning: Using a target size (torch.Size([1])) that is different to the input size (torch.Size([1, 1, 1])). This will likely lead to incorrect results due to broadcasting. Please ensure they have the same size.\n",
      "  return F.mse_loss(input, target, reduction=self.reduction)\n",
      "  2%|▏         | 1/50 [00:01<01:19,  1.62s/it]"
     ]
    },
    {
     "name": "stdout",
     "output_type": "stream",
     "text": [
      "Validation loss: 166.21587450140052\n"
     ]
    },
    {
     "name": "stderr",
     "output_type": "stream",
     "text": [
      "\r",
      "  4%|▍         | 2/50 [00:03<01:17,  1.61s/it]"
     ]
    },
    {
     "name": "stdout",
     "output_type": "stream",
     "text": [
      "Validation loss: 142.92496264881143\n"
     ]
    },
    {
     "name": "stderr",
     "output_type": "stream",
     "text": [
      "\r",
      "  6%|▌         | 3/50 [00:04<01:14,  1.59s/it]"
     ]
    },
    {
     "name": "stdout",
     "output_type": "stream",
     "text": [
      "Validation loss: 124.14947986064686\n"
     ]
    },
    {
     "name": "stderr",
     "output_type": "stream",
     "text": [
      "\r",
      "  8%|▊         | 4/50 [00:06<01:12,  1.57s/it]"
     ]
    },
    {
     "name": "stdout",
     "output_type": "stream",
     "text": [
      "Validation loss: 118.77391293976042\n"
     ]
    },
    {
     "name": "stderr",
     "output_type": "stream",
     "text": [
      "\r",
      " 10%|█         | 5/50 [00:07<01:10,  1.57s/it]"
     ]
    },
    {
     "name": "stdout",
     "output_type": "stream",
     "text": [
      "Validation loss: 115.74551741282146\n"
     ]
    },
    {
     "name": "stderr",
     "output_type": "stream",
     "text": [
      "\r",
      " 12%|█▏        | 6/50 [00:09<01:08,  1.56s/it]"
     ]
    },
    {
     "name": "stdout",
     "output_type": "stream",
     "text": [
      "Validation loss: 134.9290657573276\n"
     ]
    },
    {
     "name": "stderr",
     "output_type": "stream",
     "text": [
      "\r",
      " 14%|█▍        | 7/50 [00:10<01:06,  1.55s/it]"
     ]
    },
    {
     "name": "stdout",
     "output_type": "stream",
     "text": [
      "Validation loss: 141.3548961215549\n"
     ]
    },
    {
     "name": "stderr",
     "output_type": "stream",
     "text": [
      "\r",
      " 16%|█▌        | 8/50 [00:12<01:05,  1.55s/it]"
     ]
    },
    {
     "name": "stdout",
     "output_type": "stream",
     "text": [
      "Validation loss: 135.07390975952148\n"
     ]
    },
    {
     "name": "stderr",
     "output_type": "stream",
     "text": [
      "\r",
      " 18%|█▊        | 9/50 [00:14<01:03,  1.55s/it]"
     ]
    },
    {
     "name": "stdout",
     "output_type": "stream",
     "text": [
      "Validation loss: 128.4370724360148\n"
     ]
    },
    {
     "name": "stderr",
     "output_type": "stream",
     "text": [
      " 22%|██▏       | 11/50 [00:16<00:58,  1.49s/it]"
     ]
    },
    {
     "name": "stdout",
     "output_type": "stream",
     "text": [
      "Validation loss: 115.28587484359741\n"
     ]
    },
    {
     "name": "stderr",
     "output_type": "stream",
     "text": [
      "\r",
      " 24%|██▍       | 12/50 [00:18<00:57,  1.51s/it]"
     ]
    },
    {
     "name": "stdout",
     "output_type": "stream",
     "text": [
      "Validation loss: 109.48650153477986\n"
     ]
    },
    {
     "name": "stderr",
     "output_type": "stream",
     "text": [
      "\r",
      " 26%|██▌       | 13/50 [00:20<00:56,  1.52s/it]"
     ]
    },
    {
     "name": "stdout",
     "output_type": "stream",
     "text": [
      "Validation loss: 101.22560352749295\n"
     ]
    },
    {
     "name": "stderr",
     "output_type": "stream",
     "text": [
      "\r",
      " 28%|██▊       | 14/50 [00:21<00:54,  1.52s/it]"
     ]
    },
    {
     "name": "stdout",
     "output_type": "stream",
     "text": [
      "Validation loss: 94.8962607913547\n"
     ]
    },
    {
     "name": "stderr",
     "output_type": "stream",
     "text": [
      "\r",
      " 30%|███       | 15/50 [00:23<00:53,  1.54s/it]"
     ]
    },
    {
     "name": "stdout",
     "output_type": "stream",
     "text": [
      "Validation loss: 87.33923261612654\n"
     ]
    },
    {
     "name": "stderr",
     "output_type": "stream",
     "text": [
      "\r",
      " 32%|███▏      | 16/50 [00:24<00:52,  1.55s/it]"
     ]
    },
    {
     "name": "stdout",
     "output_type": "stream",
     "text": [
      "Validation loss: 78.38030428397987\n"
     ]
    },
    {
     "name": "stderr",
     "output_type": "stream",
     "text": [
      "\r",
      " 34%|███▍      | 17/50 [00:26<00:51,  1.56s/it]"
     ]
    },
    {
     "name": "stdout",
     "output_type": "stream",
     "text": [
      "Validation loss: 71.6204390393363\n"
     ]
    },
    {
     "name": "stderr",
     "output_type": "stream",
     "text": [
      "\r",
      " 36%|███▌      | 18/50 [00:27<00:49,  1.56s/it]"
     ]
    },
    {
     "name": "stdout",
     "output_type": "stream",
     "text": [
      "Validation loss: 64.37183231777615\n"
     ]
    },
    {
     "name": "stderr",
     "output_type": "stream",
     "text": [
      "\r",
      " 38%|███▊      | 19/50 [00:29<00:48,  1.56s/it]"
     ]
    },
    {
     "name": "stdout",
     "output_type": "stream",
     "text": [
      "Validation loss: 56.489040012160935\n"
     ]
    },
    {
     "name": "stderr",
     "output_type": "stream",
     "text": [
      " 42%|████▏     | 21/50 [00:32<00:43,  1.49s/it]"
     ]
    },
    {
     "name": "stdout",
     "output_type": "stream",
     "text": [
      "Validation loss: 45.20223827742868\n"
     ]
    },
    {
     "name": "stderr",
     "output_type": "stream",
     "text": [
      "\r",
      " 44%|████▍     | 22/50 [00:33<00:42,  1.51s/it]"
     ]
    },
    {
     "name": "stdout",
     "output_type": "stream",
     "text": [
      "Validation loss: 44.585806899600556\n"
     ]
    },
    {
     "name": "stderr",
     "output_type": "stream",
     "text": [
      "\r",
      " 46%|████▌     | 23/50 [00:35<00:41,  1.52s/it]"
     ]
    },
    {
     "name": "stdout",
     "output_type": "stream",
     "text": [
      "Validation loss: 34.94321547448635\n"
     ]
    },
    {
     "name": "stderr",
     "output_type": "stream",
     "text": [
      "\r",
      " 48%|████▊     | 24/50 [00:36<00:39,  1.53s/it]"
     ]
    },
    {
     "name": "stdout",
     "output_type": "stream",
     "text": [
      "Validation loss: 33.6255843722158\n"
     ]
    },
    {
     "name": "stderr",
     "output_type": "stream",
     "text": [
      "\r",
      " 50%|█████     | 25/50 [00:38<00:38,  1.53s/it]"
     ]
    },
    {
     "name": "stdout",
     "output_type": "stream",
     "text": [
      "Validation loss: 29.581045451263588\n"
     ]
    },
    {
     "name": "stderr",
     "output_type": "stream",
     "text": [
      "\r",
      " 52%|█████▏    | 26/50 [00:40<00:36,  1.54s/it]"
     ]
    },
    {
     "name": "stdout",
     "output_type": "stream",
     "text": [
      "Validation loss: 28.764702704217697\n"
     ]
    },
    {
     "name": "stderr",
     "output_type": "stream",
     "text": [
      "\r",
      " 54%|█████▍    | 27/50 [00:41<00:35,  1.54s/it]"
     ]
    },
    {
     "name": "stdout",
     "output_type": "stream",
     "text": [
      "Validation loss: 21.259778287675644\n"
     ]
    },
    {
     "name": "stderr",
     "output_type": "stream",
     "text": [
      "\r",
      " 56%|█████▌    | 28/50 [00:43<00:34,  1.55s/it]"
     ]
    },
    {
     "name": "stdout",
     "output_type": "stream",
     "text": [
      "Validation loss: 24.506396300262875\n"
     ]
    },
    {
     "name": "stderr",
     "output_type": "stream",
     "text": [
      "\r",
      " 58%|█████▊    | 29/50 [00:44<00:32,  1.56s/it]"
     ]
    },
    {
     "name": "stdout",
     "output_type": "stream",
     "text": [
      "Validation loss: 18.68502794040574\n"
     ]
    },
    {
     "name": "stderr",
     "output_type": "stream",
     "text": [
      " 62%|██████▏   | 31/50 [00:47<00:28,  1.48s/it]"
     ]
    },
    {
     "name": "stdout",
     "output_type": "stream",
     "text": [
      "Validation loss: 12.709591228100988\n"
     ]
    },
    {
     "name": "stderr",
     "output_type": "stream",
     "text": [
      "\r",
      " 64%|██████▍   | 32/50 [00:49<00:27,  1.50s/it]"
     ]
    },
    {
     "name": "stdout",
     "output_type": "stream",
     "text": [
      "Validation loss: 12.375085768600306\n"
     ]
    },
    {
     "name": "stderr",
     "output_type": "stream",
     "text": [
      "\r",
      " 66%|██████▌   | 33/50 [00:50<00:25,  1.52s/it]"
     ]
    },
    {
     "name": "stdout",
     "output_type": "stream",
     "text": [
      "Validation loss: 12.548975699063805\n"
     ]
    },
    {
     "name": "stderr",
     "output_type": "stream",
     "text": [
      "\r",
      " 68%|██████▊   | 34/50 [00:52<00:24,  1.52s/it]"
     ]
    },
    {
     "name": "stdout",
     "output_type": "stream",
     "text": [
      "Validation loss: 11.02503799729877\n"
     ]
    },
    {
     "name": "stderr",
     "output_type": "stream",
     "text": [
      "\r",
      " 70%|███████   | 35/50 [00:53<00:23,  1.54s/it]"
     ]
    },
    {
     "name": "stdout",
     "output_type": "stream",
     "text": [
      "Validation loss: 10.394021098812422\n"
     ]
    },
    {
     "name": "stderr",
     "output_type": "stream",
     "text": [
      "\r",
      " 72%|███████▏  | 36/50 [00:55<00:21,  1.54s/it]"
     ]
    },
    {
     "name": "stdout",
     "output_type": "stream",
     "text": [
      "Validation loss: 9.07040354775058\n"
     ]
    },
    {
     "name": "stderr",
     "output_type": "stream",
     "text": [
      "\r",
      " 74%|███████▍  | 37/50 [00:56<00:20,  1.55s/it]"
     ]
    },
    {
     "name": "stdout",
     "output_type": "stream",
     "text": [
      "Validation loss: 8.918087547024092\n"
     ]
    },
    {
     "name": "stderr",
     "output_type": "stream",
     "text": [
      "\r",
      " 76%|███████▌  | 38/50 [00:58<00:18,  1.54s/it]"
     ]
    },
    {
     "name": "stdout",
     "output_type": "stream",
     "text": [
      "Validation loss: 8.138143000503382\n"
     ]
    },
    {
     "name": "stderr",
     "output_type": "stream",
     "text": [
      "\r",
      " 78%|███████▊  | 39/50 [01:00<00:16,  1.54s/it]"
     ]
    },
    {
     "name": "stdout",
     "output_type": "stream",
     "text": [
      "Validation loss: 7.745661838187112\n"
     ]
    },
    {
     "name": "stderr",
     "output_type": "stream",
     "text": [
      " 82%|████████▏ | 41/50 [01:02<00:13,  1.46s/it]"
     ]
    },
    {
     "name": "stdout",
     "output_type": "stream",
     "text": [
      "Validation loss: 10.861401063493556\n"
     ]
    },
    {
     "name": "stderr",
     "output_type": "stream",
     "text": [
      "\r",
      " 84%|████████▍ | 42/50 [01:04<00:11,  1.48s/it]"
     ]
    },
    {
     "name": "stdout",
     "output_type": "stream",
     "text": [
      "Validation loss: 8.19861369000541\n"
     ]
    },
    {
     "name": "stderr",
     "output_type": "stream",
     "text": [
      "\r",
      " 86%|████████▌ | 43/50 [01:05<00:10,  1.50s/it]"
     ]
    },
    {
     "name": "stdout",
     "output_type": "stream",
     "text": [
      "Validation loss: 9.645916177891195\n"
     ]
    },
    {
     "name": "stderr",
     "output_type": "stream",
     "text": [
      "\r",
      " 88%|████████▊ | 44/50 [01:07<00:09,  1.50s/it]"
     ]
    },
    {
     "name": "stdout",
     "output_type": "stream",
     "text": [
      "Validation loss: 10.41124818018741\n"
     ]
    },
    {
     "name": "stderr",
     "output_type": "stream",
     "text": [
      "\r",
      " 90%|█████████ | 45/50 [01:08<00:07,  1.51s/it]"
     ]
    },
    {
     "name": "stdout",
     "output_type": "stream",
     "text": [
      "Validation loss: 8.356053191754553\n"
     ]
    },
    {
     "name": "stderr",
     "output_type": "stream",
     "text": [
      "\r",
      " 92%|█████████▏| 46/50 [01:10<00:06,  1.52s/it]"
     ]
    },
    {
     "name": "stdout",
     "output_type": "stream",
     "text": [
      "Validation loss: 6.702810724576314\n"
     ]
    },
    {
     "name": "stderr",
     "output_type": "stream",
     "text": [
      "\r",
      " 94%|█████████▍| 47/50 [01:12<00:04,  1.53s/it]"
     ]
    },
    {
     "name": "stdout",
     "output_type": "stream",
     "text": [
      "Validation loss: 5.980886526535162\n"
     ]
    },
    {
     "name": "stderr",
     "output_type": "stream",
     "text": [
      "\r",
      " 96%|█████████▌| 48/50 [01:13<00:03,  1.53s/it]"
     ]
    },
    {
     "name": "stdout",
     "output_type": "stream",
     "text": [
      "Validation loss: 6.567266033962369\n"
     ]
    },
    {
     "name": "stderr",
     "output_type": "stream",
     "text": [
      "\r",
      " 98%|█████████▊| 49/50 [01:15<00:01,  1.52s/it]"
     ]
    },
    {
     "name": "stdout",
     "output_type": "stream",
     "text": [
      "Validation loss: 8.072443046503597\n"
     ]
    },
    {
     "name": "stderr",
     "output_type": "stream",
     "text": [
      "100%|██████████| 50/50 [01:16<00:00,  1.53s/it]\n"
     ]
    },
    {
     "name": "stdout",
     "output_type": "stream",
     "text": [
      "Training acc: 93.54838709677419 %\n",
      "Validation acc:  80.0 %\n",
      "saving weights is complete\n"
     ]
    },
    {
     "data": {
      "image/png": "[encoded data removed]",
      "text/plain": [
       "<Figure size 432x288 with 1 Axes>"
      ]
     },
     "metadata": {
      "needs_background": "light"
     },
     "output_type": "display_data"
    },
    {
     "data": {
      "image/png": "[encoded data removed]",
      "text/plain": [
       "<Figure size 432x288 with 1 Axes>"
      ]
     },
     "metadata": {
      "needs_background": "light"
     },
     "output_type": "display_data"
    }
   ],
   "source": [
    "if __name__ == \"__main__\":\n",
    "    learner = CarBadnessGuesser()\n",
    "    torch.backends.cudnn.enabled = False\n",
    "    learner.train()"
   ]
  },
  {
   "cell_type": "code",
   "execution_count": null,
   "metadata": {},
   "outputs": [],
   "source": []
  }
 ],
 "metadata": {
  "kernelspec": {
   "display_name": "Python 3",
   "language": "python",
   "name": "python3"
  },
  "language_info": {
   "codemirror_mode": {
    "name": "ipython",
    "version": 3
   },
   "file_extension": ".py",
   "mimetype": "text/x-python",
   "name": "python",
   "nbconvert_exporter": "python",
   "pygments_lexer": "ipython3",
   "version": "3.7.4"
  }
 },
 "nbformat": 4,
 "nbformat_minor": 2
}
