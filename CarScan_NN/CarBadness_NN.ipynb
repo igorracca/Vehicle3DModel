{
 "cells": [
  {
   "cell_type": "code",
   "execution_count": 1,
   "metadata": {},
   "outputs": [],
   "source": [
    "import datetime\n",
    "import os\n",
    "import numpy as np\n",
    "import scipy.io as sio\n",
    "import torch\n",
    "from torch import nn, optim\n",
    "from tqdm import tqdm\n",
    "from tqdm import trange\n",
    "import matplotlib.pyplot as plt"
   ]
  },
  {
   "cell_type": "code",
   "execution_count": 2,
   "metadata": {},
   "outputs": [],
   "source": [
    "device = torch.device(\"cuda:0\")"
   ]
  },
  {
   "cell_type": "code",
   "execution_count": 3,
   "metadata": {
    "pixiedust": {
     "displayParams": {}
    }
   },
   "outputs": [],
   "source": [
    "def read_data(base_path='./Data',split_size=[0.6, 0.2, 0.2]):  \n",
    "    \"\"\"\n",
    "    Reads all of the .mat files in the given base_path, and returns a dict with the data found there.\n",
    "    :param BASE_PATH: the path where the INPUT DATA will be read.\n",
    "    :param SPLIT_SIZE: gives how much of the data goes to the train/test.\n",
    "    :return: a dict, containing the EES and difference tensors.\n",
    "    \"\"\"\n",
    "    i = 0\n",
    "    for file in os.listdir(base_path):\n",
    "        i = i + 1\n",
    "    pbar = tqdm(total=i)\n",
    "\n",
    "    data_dict = {}\n",
    "    for file in os.listdir(base_path):\n",
    "        num, data_type = file.split('_')\n",
    "        data_type = data_type.split('.')[0]\n",
    "        num = int(num)\n",
    "        if \"EES\" in data_type:\n",
    "            tensor_in = sio.loadmat(os.path.join(base_path, file))['EES_value']\n",
    "            tensor_in = torch.FloatTensor(tensor_in).squeeze(0)\n",
    "        else:\n",
    "            tensor_in = sio.loadmat(os.path.join(base_path, file))['Kulonbseg']\n",
    "            tensor_in = torch.FloatTensor(tensor_in)\n",
    "        try:\n",
    "            data_dict[num][data_type] = tensor_in\n",
    "        except KeyError:\n",
    "            data_dict[num] = {data_type: tensor_in}\n",
    "        pbar.update()\n",
    "    pbar.close()\n",
    "\n",
    "    new_data = []\n",
    "    for key in data_dict.keys():\n",
    "        new_data.append(data_dict[key])\n",
    "    np.random.shuffle(new_data)\n",
    "    if isinstance(split_size, list):\n",
    "        training_samples = int(split_size[0] * len(new_data))\n",
    "        valid_samples = int(split_size[1] * len(new_data))\n",
    "        test_samples = int(split_size[2] * len(new_data))\n",
    "        while sum([training_samples, valid_samples, test_samples]) != len(new_data):\n",
    "            training_samples += 1\n",
    "        #split samples\n",
    "        new_datadict = {'train': new_data[ : training_samples],\n",
    "                        'validation': new_data[training_samples : training_samples + valid_samples],\n",
    "                        'test': new_data[-test_samples : ]}\n",
    "        \n",
    "    else:\n",
    "        new_datadict = {'train': new_data,\n",
    "                        'validation': new_data,\n",
    "                        'test': new_data}\n",
    "    print(\"Adatbetöltés kész\")\n",
    "    return new_datadict"
   ]
  },
  {
   "cell_type": "code",
   "execution_count": 4,
   "metadata": {
    "scrolled": false
   },
   "outputs": [
    {
     "name": "stderr",
     "output_type": "stream",
     "text": [
      "100%|██████████| 100/100 [00:12<00:00,  8.30it/s]\n"
     ]
    },
    {
     "name": "stdout",
     "output_type": "stream",
     "text": [
      "Adatbetöltés kész\n"
     ]
    }
   ],
   "source": [
    "# Load the data and get the splitted dataset\n",
    "dataset = read_data()"
   ]
  },
  {
   "cell_type": "code",
   "execution_count": 5,
   "metadata": {},
   "outputs": [],
   "source": [
    "class Classificator:\n",
    "\n",
    "    #-------------------------\n",
    "    # Label   Class\n",
    "    #-------------------------\n",
    "    # 0:      Not damaged\n",
    "    # 1:      Slightly damaged\n",
    "    # 2:      Damaged\n",
    "    # 3:      Very damaged\n",
    "    #-------------------------\n",
    "    \n",
    "    def getClassName(self, c):\n",
    "        if c==0:\n",
    "            n = \"Not Damaged\"\n",
    "        elif c==1:\n",
    "            n = \"Slightly damaged\"\n",
    "        elif c==2:\n",
    "            n = \"Damaged\"\n",
    "        elif c==3:\n",
    "            n = \"Very damaged\"\n",
    "        return n;\n",
    "    \n",
    "    def getClass(self, x):\n",
    "        x = int(x)\n",
    "        \n",
    "        if x==0:\n",
    "            return 0      \n",
    "        if x<=100/3:\n",
    "            return 1\n",
    "        elif  x>100/3 and x<200/3:\n",
    "            return 2\n",
    "        else:\n",
    "            return 3\n",
    "    \n",
    "    # Compare Prediction and Label classes\n",
    "    def isCorrect(self, prediction, label):\n",
    "        return self.getClass(prediction) == self.getClass(label)"
   ]
  },
  {
   "cell_type": "code",
   "execution_count": 6,
   "metadata": {
    "pixiedust": {
     "displayParams": {}
    }
   },
   "outputs": [],
   "source": [
    "class CarBadnessGuesser(nn.Module):\n",
    "    def __init__(self, lr=0.01):\n",
    "        super(CarBadnessGuesser, self).__init__()\n",
    "\n",
    "        self.valid_freq = 10\n",
    "\n",
    "        self.model = nn.Sequential(\n",
    "            nn.Conv3d(in_channels=1, out_channels=3, kernel_size=(10, 5, 5), stride=(10, 5, 5)),\n",
    "            nn.BatchNorm3d(3),\n",
    "            nn.Conv3d(in_channels=3, out_channels=2, kernel_size=5),\n",
    "            nn.BatchNorm3d(2),\n",
    "            nn.Conv3d(in_channels=2, out_channels=1, kernel_size=3),\n",
    "            nn.BatchNorm3d(1),\n",
    "            nn.AdaptiveMaxPool3d((1, 1, 10)),\n",
    "        ) \n",
    "        \n",
    "        self.linear = nn.Sequential(\n",
    "            nn.Linear(in_features=10, out_features=5),\n",
    "            nn.ReLU(),\n",
    "            nn.Linear(in_features=5, out_features=1),\n",
    "            nn.ReLU()\n",
    "        )\n",
    "        if torch.cuda.is_available():\n",
    "            self.linear.cuda()\n",
    "            self.model.cuda()\n",
    "\n",
    "        self.loss_fn = nn.MSELoss()\n",
    "        self.optimizer = optim.Adam(list(self.model.parameters()) + list(self.linear.parameters()), lr=lr)\n",
    "        \n",
    "        self.classificator = Classificator()\n",
    "\n",
    "    def forward(self, x):\n",
    "        conv_out = self.model(x.unsqueeze(0).unsqueeze(0))\n",
    "        return self.linear(conv_out.squeeze(-2).squeeze(-2))\n",
    "\n",
    "    def train(self, epochs=50):\n",
    "        b_loss = []\n",
    "        v_loss = []\n",
    "    \n",
    "        for epoch in trange(epochs):\n",
    "            t_correct = 0\n",
    "            total = 0\n",
    "            for step, data in enumerate(dataset[\"train\"]):\n",
    "                input_data = data['KUL'].cuda()\n",
    "                label = data['EES'].cuda()\n",
    "                \n",
    "                prediction = self(input_data)\n",
    "                loss = self.loss_fn(prediction, label)\n",
    "                #print('training- ', 'y^', prediction.item(), 'y', label.item(), loss.item())\n",
    "                \n",
    "                loss.backward()     \n",
    "                self.optimizer.step()\n",
    "                b_loss.append(loss.item())\n",
    "                \n",
    "                #check if its prediction matches label class\n",
    "                if( self.classificator.isCorrect(prediction.item(), label.item()) ):\n",
    "                    t_correct += 1;\n",
    "                total += 1;\n",
    "                \n",
    "                self.zero_grad()\n",
    "            if epoch % self.valid_freq and epoch != 0:\n",
    "                #calculate the training accuracy\n",
    "                t_acc = t_correct/total * 100\n",
    "                #print(f'Batch loss: {loss.item()}', flush=True)\n",
    "             \n",
    "                vloss, v_acc = self.validation()\n",
    "                v_loss.append(vloss)\n",
    "                print(f'Validation loss:', vloss, flush=True)\n",
    "\n",
    "                \n",
    "        print('Training acc:', t_acc, '%')\n",
    "        print('Validation acc: ', v_acc, '%')  \n",
    "        plt.plot(v_loss)\n",
    "        plt.ylabel('Validation loss')\n",
    "        plt.show()\n",
    "        plt.plot(b_loss)\n",
    "        plt.ylabel('Batch loss')\n",
    "        plt.show()\n",
    "\n",
    "    def validation(self):\n",
    "        \"\"\"\n",
    "        Runs the validation phase of the training\n",
    "        :return: The validation loss average\n",
    "        \"\"\"\n",
    "        v_correct = 0\n",
    "        total = 0\n",
    "        average_loss = 0\n",
    "        step = 0\n",
    "        \n",
    "        for step, data in enumerate(dataset['validation']):\n",
    "            with torch.no_grad():\n",
    "                input_data = data['KUL'].cuda()\n",
    "                label = data['EES'].cuda()\n",
    "                \n",
    "                prediction = self(input_data)\n",
    "                loss = self.loss_fn(prediction, label)               \n",
    "                #print('validation- ', 'y^', prediction.item(), 'y', label.item(), loss.item())\n",
    "                #print('v_correct', v_correct, 'total',total)\n",
    "                \n",
    "                average_loss += loss.item()\n",
    "                \n",
    "                #check if its correct\n",
    "                c = self.classificator.isCorrect(prediction.item(), label.item())\n",
    "                if(c == True):\n",
    "                    v_correct += 1;\n",
    "                total += 1;\n",
    "        \n",
    "        #calculate the validation accuracy\n",
    "        v_acc = v_correct/total * 100\n",
    "        return average_loss / (step + 1), v_acc\n",
    "        print(\"Validation is complete\")\n",
    "        \n",
    "\n",
    "    def test(self):\n",
    "        \"\"\"\n",
    "        Runs the evaluation of the network.\n",
    "        :return: average loss for the test\n",
    "        \"\"\"\n",
    "        t_correct = 0\n",
    "        total = 0\n",
    "        average_loss = 0\n",
    "        step = 0\n",
    "        \n",
    "        for step, data in enumerate(dataset['test']):\n",
    "            with torch.no_grad():\n",
    "                input_data = data['KUL'].cuda()\n",
    "                prediction = self(input_data)\n",
    "                \n",
    "                loss = self.loss_fn(prediction, data['EES'].cuda())\n",
    "                \n",
    "                print('---------------------------------')\n",
    "                print()\n",
    "                print('Prediction: ', prediction.item())\n",
    "                print('Excpected:  ', data['EES'].cuda().item())   \n",
    "                print()\n",
    "                prediction_label = self.classificator.getClass(prediction.item())\n",
    "                print('Class:          ', self.classificator.getClassName(prediction_label))\n",
    "                expected_label = self.classificator.getClass(data['EES'].cuda())\n",
    "                print('Expected Class: ', self.classificator.getClassName(expected_label))\n",
    "                print()\n",
    "                print('loss: ', loss.item())\n",
    "                print()\n",
    "                \n",
    "                #check if its correct\n",
    "                c = self.classificator.isCorrect(prediction.item(), data['EES'].cuda().item())\n",
    "                if(c == True):\n",
    "                    t_correct += 1;\n",
    "                total += 1;\n",
    "                \n",
    "                average_loss += loss.item()\n",
    "\n",
    "        #calculate the test accuracy\n",
    "        t_acc = t_correct/total * 100          \n",
    "        average_loss = average_loss / step   \n",
    "        print()\n",
    "        print('---------------------------------')\n",
    "        print('Test Accuracy: ', t_acc, ' %')\n",
    "        print('Average Loss:  ', average_loss)\n",
    "        print('---------------------------------')\n",
    "        print()\n",
    "        print(\"Test is completed\")       \n",
    "        return average_loss\n",
    "\n",
    "\n",
    "    def save_weights(self, save_dir=\"./training\"):\n",
    "        \"\"\"\n",
    "        Saves weights to the given directory plus the timestamp\n",
    "        :return: none\n",
    "        \"\"\"\n",
    "        timestamp = datetime.datetime.now().strftime(\"%Y_%m_%d_%H_%M_%S.%d\")\n",
    "        save_path = os.path.join(save_dir, timestamp)\n",
    "        if not os.path.exists(save_path):\n",
    "            os.makedirs(save_path)\n",
    "        # save model within Training folder with timestamp together with preivous models\n",
    "        torch.save(self.state_dict(), os.path.join(save_path, 'model.weights'))\n",
    "        # save last model within Weights folder (overwrite)\n",
    "        torch.save(self.state_dict(), './weights/model.weights')\n",
    "\n",
    "    def load_weights(self):\n",
    "        self.load_state_dict = torch.load('./weights/model.weights')\n",
    "        print(\"loading weights is complete\")\n"
   ]
  },
  {
   "cell_type": "code",
   "execution_count": 7,
   "metadata": {
    "scrolled": false
   },
   "outputs": [
    {
     "name": "stderr",
     "output_type": "stream",
     "text": [
      "  0%|          | 0/50 [00:00<?, ?it/s]C:\\Users\\igorr\\Anaconda3\\lib\\site-packages\\torch\\nn\\modules\\loss.py:431: UserWarning: Using a target size (torch.Size([1])) that is different to the input size (torch.Size([1, 1, 1])). This will likely lead to incorrect results due to broadcasting. Please ensure they have the same size.\n",
      "  return F.mse_loss(input, target, reduction=self.reduction)\n",
      "  2%|▏         | 1/50 [00:01<01:37,  2.00s/it]"
     ]
    },
    {
     "name": "stdout",
     "output_type": "stream",
     "text": [
      "Validation loss: 113.15922403335571\n"
     ]
    },
    {
     "name": "stderr",
     "output_type": "stream",
     "text": [
      "\r",
      "  4%|▍         | 2/50 [00:03<01:29,  1.87s/it]"
     ]
    },
    {
     "name": "stdout",
     "output_type": "stream",
     "text": [
      "Validation loss: 122.09900026246905\n"
     ]
    },
    {
     "name": "stderr",
     "output_type": "stream",
     "text": [
      "\r",
      "  6%|▌         | 3/50 [00:05<01:24,  1.79s/it]"
     ]
    },
    {
     "name": "stdout",
     "output_type": "stream",
     "text": [
      "Validation loss: 168.73037185668946\n"
     ]
    },
    {
     "name": "stderr",
     "output_type": "stream",
     "text": [
      "\r",
      "  8%|▊         | 4/50 [00:06<01:20,  1.74s/it]"
     ]
    },
    {
     "name": "stdout",
     "output_type": "stream",
     "text": [
      "Validation loss: 118.98170700073243\n"
     ]
    },
    {
     "name": "stderr",
     "output_type": "stream",
     "text": [
      "\r",
      " 10%|█         | 5/50 [00:08<01:16,  1.70s/it]"
     ]
    },
    {
     "name": "stdout",
     "output_type": "stream",
     "text": [
      "Validation loss: 85.27647659778594\n"
     ]
    },
    {
     "name": "stderr",
     "output_type": "stream",
     "text": [
      "\r",
      " 12%|█▏        | 6/50 [00:10<01:14,  1.69s/it]"
     ]
    },
    {
     "name": "stdout",
     "output_type": "stream",
     "text": [
      "Validation loss: 66.9152284860611\n"
     ]
    },
    {
     "name": "stderr",
     "output_type": "stream",
     "text": [
      "\r",
      " 14%|█▍        | 7/50 [00:11<01:11,  1.65s/it]"
     ]
    },
    {
     "name": "stdout",
     "output_type": "stream",
     "text": [
      "Validation loss: 42.98451057747006\n"
     ]
    },
    {
     "name": "stderr",
     "output_type": "stream",
     "text": [
      "\r",
      " 16%|█▌        | 8/50 [00:13<01:09,  1.65s/it]"
     ]
    },
    {
     "name": "stdout",
     "output_type": "stream",
     "text": [
      "Validation loss: 27.748868384957312\n"
     ]
    },
    {
     "name": "stderr",
     "output_type": "stream",
     "text": [
      "\r",
      " 18%|█▊        | 9/50 [00:14<01:07,  1.63s/it]"
     ]
    },
    {
     "name": "stdout",
     "output_type": "stream",
     "text": [
      "Validation loss: 15.651922988891602\n"
     ]
    },
    {
     "name": "stderr",
     "output_type": "stream",
     "text": [
      " 22%|██▏       | 11/50 [00:17<01:00,  1.55s/it]"
     ]
    },
    {
     "name": "stdout",
     "output_type": "stream",
     "text": [
      "Validation loss: 4.652549976110459\n"
     ]
    },
    {
     "name": "stderr",
     "output_type": "stream",
     "text": [
      "\r",
      " 24%|██▍       | 12/50 [00:19<01:00,  1.60s/it]"
     ]
    },
    {
     "name": "stdout",
     "output_type": "stream",
     "text": [
      "Validation loss: 5.126523279584944\n"
     ]
    },
    {
     "name": "stderr",
     "output_type": "stream",
     "text": [
      "\r",
      " 26%|██▌       | 13/50 [00:21<00:59,  1.60s/it]"
     ]
    },
    {
     "name": "stdout",
     "output_type": "stream",
     "text": [
      "Validation loss: 3.1966773867490703\n"
     ]
    },
    {
     "name": "stderr",
     "output_type": "stream",
     "text": [
      "\r",
      " 28%|██▊       | 14/50 [00:22<00:57,  1.60s/it]"
     ]
    },
    {
     "name": "stdout",
     "output_type": "stream",
     "text": [
      "Validation loss: 12.531212290748954\n"
     ]
    },
    {
     "name": "stderr",
     "output_type": "stream",
     "text": [
      "\r",
      " 30%|███       | 15/50 [00:24<00:56,  1.62s/it]"
     ]
    },
    {
     "name": "stdout",
     "output_type": "stream",
     "text": [
      "Validation loss: 2.6754921792075037\n"
     ]
    },
    {
     "name": "stderr",
     "output_type": "stream",
     "text": [
      "\r",
      " 32%|███▏      | 16/50 [00:26<00:54,  1.61s/it]"
     ]
    },
    {
     "name": "stdout",
     "output_type": "stream",
     "text": [
      "Validation loss: 8.934701378643513\n"
     ]
    },
    {
     "name": "stderr",
     "output_type": "stream",
     "text": [
      "\r",
      " 34%|███▍      | 17/50 [00:27<00:53,  1.62s/it]"
     ]
    },
    {
     "name": "stdout",
     "output_type": "stream",
     "text": [
      "Validation loss: 7.063330078870058\n"
     ]
    },
    {
     "name": "stderr",
     "output_type": "stream",
     "text": [
      "\r",
      " 36%|███▌      | 18/50 [00:29<00:51,  1.61s/it]"
     ]
    },
    {
     "name": "stdout",
     "output_type": "stream",
     "text": [
      "Validation loss: 2.109711303934455\n"
     ]
    },
    {
     "name": "stderr",
     "output_type": "stream",
     "text": [
      "\r",
      " 38%|███▊      | 19/50 [00:30<00:49,  1.60s/it]"
     ]
    },
    {
     "name": "stdout",
     "output_type": "stream",
     "text": [
      "Validation loss: 11.09040451347828\n"
     ]
    },
    {
     "name": "stderr",
     "output_type": "stream",
     "text": [
      " 42%|████▏     | 21/50 [00:33<00:44,  1.52s/it]"
     ]
    },
    {
     "name": "stdout",
     "output_type": "stream",
     "text": [
      "Validation loss: 2.877452010475099\n"
     ]
    },
    {
     "name": "stderr",
     "output_type": "stream",
     "text": [
      "\r",
      " 44%|████▍     | 22/50 [00:35<00:43,  1.56s/it]"
     ]
    },
    {
     "name": "stdout",
     "output_type": "stream",
     "text": [
      "Validation loss: 9.00829260777682\n"
     ]
    },
    {
     "name": "stderr",
     "output_type": "stream",
     "text": [
      "\r",
      " 46%|████▌     | 23/50 [00:37<00:42,  1.57s/it]"
     ]
    },
    {
     "name": "stdout",
     "output_type": "stream",
     "text": [
      "Validation loss: 4.380811662971974\n"
     ]
    },
    {
     "name": "stderr",
     "output_type": "stream",
     "text": [
      "\r",
      " 48%|████▊     | 24/50 [00:38<00:41,  1.59s/it]"
     ]
    },
    {
     "name": "stdout",
     "output_type": "stream",
     "text": [
      "Validation loss: 10.486065045930445\n"
     ]
    },
    {
     "name": "stderr",
     "output_type": "stream",
     "text": [
      "\r",
      " 50%|█████     | 25/50 [00:40<00:39,  1.59s/it]"
     ]
    },
    {
     "name": "stdout",
     "output_type": "stream",
     "text": [
      "Validation loss: 6.524911260604858\n"
     ]
    },
    {
     "name": "stderr",
     "output_type": "stream",
     "text": [
      "\r",
      " 52%|█████▏    | 26/50 [00:41<00:38,  1.61s/it]"
     ]
    },
    {
     "name": "stdout",
     "output_type": "stream",
     "text": [
      "Validation loss: 2.0583175828793174\n"
     ]
    },
    {
     "name": "stderr",
     "output_type": "stream",
     "text": [
      "\r",
      " 54%|█████▍    | 27/50 [00:43<00:36,  1.61s/it]"
     ]
    },
    {
     "name": "stdout",
     "output_type": "stream",
     "text": [
      "Validation loss: 4.5359663929790255\n"
     ]
    },
    {
     "name": "stderr",
     "output_type": "stream",
     "text": [
      "\r",
      " 56%|█████▌    | 28/50 [00:45<00:35,  1.60s/it]"
     ]
    },
    {
     "name": "stdout",
     "output_type": "stream",
     "text": [
      "Validation loss: 11.70703355781734\n"
     ]
    },
    {
     "name": "stderr",
     "output_type": "stream",
     "text": [
      "\r",
      " 58%|█████▊    | 29/50 [00:46<00:33,  1.61s/it]"
     ]
    },
    {
     "name": "stdout",
     "output_type": "stream",
     "text": [
      "Validation loss: 4.793762173503637\n"
     ]
    },
    {
     "name": "stderr",
     "output_type": "stream",
     "text": [
      " 62%|██████▏   | 31/50 [00:49<00:29,  1.54s/it]"
     ]
    },
    {
     "name": "stdout",
     "output_type": "stream",
     "text": [
      "Validation loss: 3.796131482720375\n"
     ]
    },
    {
     "name": "stderr",
     "output_type": "stream",
     "text": [
      "\r",
      " 64%|██████▍   | 32/50 [00:51<00:27,  1.55s/it]"
     ]
    },
    {
     "name": "stdout",
     "output_type": "stream",
     "text": [
      "Validation loss: 4.971681919693947\n"
     ]
    },
    {
     "name": "stderr",
     "output_type": "stream",
     "text": [
      "\r",
      " 66%|██████▌   | 33/50 [00:52<00:26,  1.57s/it]"
     ]
    },
    {
     "name": "stdout",
     "output_type": "stream",
     "text": [
      "Validation loss: 12.935127495205961\n"
     ]
    },
    {
     "name": "stderr",
     "output_type": "stream",
     "text": [
      "\r",
      " 68%|██████▊   | 34/50 [00:54<00:25,  1.58s/it]"
     ]
    },
    {
     "name": "stdout",
     "output_type": "stream",
     "text": [
      "Validation loss: 9.57746287882328\n"
     ]
    },
    {
     "name": "stderr",
     "output_type": "stream",
     "text": [
      "\r",
      " 70%|███████   | 35/50 [00:56<00:23,  1.59s/it]"
     ]
    },
    {
     "name": "stdout",
     "output_type": "stream",
     "text": [
      "Validation loss: 1.9559749638661743\n"
     ]
    },
    {
     "name": "stderr",
     "output_type": "stream",
     "text": [
      "\r",
      " 72%|███████▏  | 36/50 [00:57<00:22,  1.58s/it]"
     ]
    },
    {
     "name": "stdout",
     "output_type": "stream",
     "text": [
      "Validation loss: 3.1590401380788533\n"
     ]
    },
    {
     "name": "stderr",
     "output_type": "stream",
     "text": [
      "\r",
      " 74%|███████▍  | 37/50 [00:59<00:20,  1.59s/it]"
     ]
    },
    {
     "name": "stdout",
     "output_type": "stream",
     "text": [
      "Validation loss: 2.485017842994421\n"
     ]
    },
    {
     "name": "stderr",
     "output_type": "stream",
     "text": [
      "\r",
      " 76%|███████▌  | 38/50 [01:00<00:19,  1.60s/it]"
     ]
    },
    {
     "name": "stdout",
     "output_type": "stream",
     "text": [
      "Validation loss: 7.777603026945144\n"
     ]
    },
    {
     "name": "stderr",
     "output_type": "stream",
     "text": [
      "\r",
      " 78%|███████▊  | 39/50 [01:02<00:17,  1.60s/it]"
     ]
    },
    {
     "name": "stdout",
     "output_type": "stream",
     "text": [
      "Validation loss: 2.959725693613291\n"
     ]
    },
    {
     "name": "stderr",
     "output_type": "stream",
     "text": [
      " 82%|████████▏ | 41/50 [01:05<00:13,  1.53s/it]"
     ]
    },
    {
     "name": "stdout",
     "output_type": "stream",
     "text": [
      "Validation loss: 7.158006471162662\n"
     ]
    },
    {
     "name": "stderr",
     "output_type": "stream",
     "text": [
      "\r",
      " 84%|████████▍ | 42/50 [01:07<00:12,  1.57s/it]"
     ]
    },
    {
     "name": "stdout",
     "output_type": "stream",
     "text": [
      "Validation loss: 10.674431660688423\n"
     ]
    },
    {
     "name": "stderr",
     "output_type": "stream",
     "text": [
      "\r",
      " 86%|████████▌ | 43/50 [01:08<00:11,  1.58s/it]"
     ]
    },
    {
     "name": "stdout",
     "output_type": "stream",
     "text": [
      "Validation loss: 8.019755917973816\n"
     ]
    },
    {
     "name": "stderr",
     "output_type": "stream",
     "text": [
      "\r",
      " 88%|████████▊ | 44/50 [01:10<00:09,  1.59s/it]"
     ]
    },
    {
     "name": "stdout",
     "output_type": "stream",
     "text": [
      "Validation loss: 10.33954727742821\n"
     ]
    },
    {
     "name": "stderr",
     "output_type": "stream",
     "text": [
      "\r",
      " 90%|█████████ | 45/50 [01:11<00:07,  1.59s/it]"
     ]
    },
    {
     "name": "stdout",
     "output_type": "stream",
     "text": [
      "Validation loss: 5.962130428710952\n"
     ]
    },
    {
     "name": "stderr",
     "output_type": "stream",
     "text": [
      "\r",
      " 92%|█████████▏| 46/50 [01:13<00:06,  1.60s/it]"
     ]
    },
    {
     "name": "stdout",
     "output_type": "stream",
     "text": [
      "Validation loss: 6.934577837772667\n"
     ]
    },
    {
     "name": "stderr",
     "output_type": "stream",
     "text": [
      "\r",
      " 94%|█████████▍| 47/50 [01:15<00:04,  1.61s/it]"
     ]
    },
    {
     "name": "stdout",
     "output_type": "stream",
     "text": [
      "Validation loss: 7.509366810880602\n"
     ]
    },
    {
     "name": "stderr",
     "output_type": "stream",
     "text": [
      "\r",
      " 96%|█████████▌| 48/50 [01:16<00:03,  1.61s/it]"
     ]
    },
    {
     "name": "stdout",
     "output_type": "stream",
     "text": [
      "Validation loss: 5.151559401187114\n"
     ]
    },
    {
     "name": "stderr",
     "output_type": "stream",
     "text": [
      "\r",
      " 98%|█████████▊| 49/50 [01:18<00:01,  1.63s/it]"
     ]
    },
    {
     "name": "stdout",
     "output_type": "stream",
     "text": [
      "Validation loss: 3.9090518768178297\n"
     ]
    },
    {
     "name": "stderr",
     "output_type": "stream",
     "text": [
      "100%|██████████| 50/50 [01:20<00:00,  1.60s/it]\n"
     ]
    },
    {
     "name": "stdout",
     "output_type": "stream",
     "text": [
      "Training acc: 100.0 %\n",
      "Validation acc:  90.0 %\n"
     ]
    },
    {
     "data": {
      "image/png": "[encoded data removed]",
      "text/plain": [
       "<Figure size 432x288 with 1 Axes>"
      ]
     },
     "metadata": {
      "needs_background": "light"
     },
     "output_type": "display_data"
    },
    {
     "data": {
      "image/png": "[encoded data removed]",
      "text/plain": [
       "<Figure size 432x288 with 1 Axes>"
      ]
     },
     "metadata": {
      "needs_background": "light"
     },
     "output_type": "display_data"
    },
    {
     "name": "stdout",
     "output_type": "stream",
     "text": [
      "loading weights is complete\n",
      "---------------------------------\n",
      "\n",
      "Prediction:  5.4377264976501465\n",
      "Excpected:   5.396796226501465\n",
      "\n",
      "Class:           Slightly damaged\n",
      "Expected Class:  Slightly damaged\n",
      "\n",
      "loss:  0.001675287145189941\n",
      "\n",
      "---------------------------------\n",
      "\n",
      "Prediction:  34.62641906738281\n",
      "Excpected:   41.422237396240234\n",
      "\n",
      "Class:           Damaged\n",
      "Expected Class:  Damaged\n",
      "\n",
      "loss:  46.18314743041992\n",
      "\n",
      "---------------------------------\n",
      "\n",
      "Prediction:  0.24766641855239868\n",
      "Excpected:   0.5625600218772888\n",
      "\n",
      "Class:           Not Damaged\n",
      "Expected Class:  Not Damaged\n",
      "\n",
      "loss:  0.09915798157453537\n",
      "\n",
      "---------------------------------\n",
      "\n",
      "Prediction:  0.044789738953113556\n",
      "Excpected:   0.0\n",
      "\n",
      "Class:           Not Damaged\n",
      "Expected Class:  Not Damaged\n",
      "\n",
      "loss:  0.0020061207469552755\n",
      "\n",
      "---------------------------------\n",
      "\n",
      "Prediction:  25.922250747680664\n",
      "Excpected:   40.691123962402344\n",
      "\n",
      "Class:           Slightly damaged\n",
      "Expected Class:  Damaged\n",
      "\n",
      "loss:  218.11961364746094\n",
      "\n",
      "---------------------------------\n",
      "\n",
      "Prediction:  38.55631637573242\n",
      "Excpected:   41.22066879272461\n",
      "\n",
      "Class:           Damaged\n",
      "Expected Class:  Damaged\n",
      "\n",
      "loss:  7.098773956298828\n",
      "\n",
      "---------------------------------\n",
      "\n",
      "Prediction:  18.294918060302734\n",
      "Excpected:   20.254056930541992\n",
      "\n",
      "Class:           Slightly damaged\n",
      "Expected Class:  Slightly damaged\n",
      "\n",
      "loss:  3.8382251262664795\n",
      "\n",
      "---------------------------------\n",
      "\n",
      "Prediction:  1.1521445512771606\n",
      "Excpected:   2.9321401119232178\n",
      "\n",
      "Class:           Slightly damaged\n",
      "Expected Class:  Slightly damaged\n",
      "\n",
      "loss:  3.168384313583374\n",
      "\n",
      "---------------------------------\n",
      "\n",
      "Prediction:  35.56421661376953\n",
      "Excpected:   41.423095703125\n",
      "\n",
      "Class:           Damaged\n",
      "Expected Class:  Damaged\n",
      "\n",
      "loss:  34.32646560668945\n",
      "\n",
      "---------------------------------\n",
      "\n",
      "Prediction:  0.0697123110294342\n",
      "Excpected:   0.16387200355529785\n",
      "\n",
      "Class:           Not Damaged\n",
      "Expected Class:  Not Damaged\n",
      "\n",
      "loss:  0.008866047486662865\n",
      "\n",
      "\n",
      "---------------------------------\n",
      "Test Accuracy:  90.0  %\n",
      "Average Loss:   34.760701724185814\n",
      "---------------------------------\n",
      "\n",
      "Test is completed\n"
     ]
    }
   ],
   "source": [
    "if __name__ == \"__main__\":\n",
    "    \n",
    "    # set mode\n",
    "    TRAIN = True\n",
    "    TEST = True\n",
    "    \n",
    "    # instanciate the NN\n",
    "    net = CarBadnessGuesser()\n",
    "    torch.backends.cudnn.enabled = False\n",
    "\n",
    "    # Train, Validate and Save the model\n",
    "    if(TRAIN):\n",
    "        net.train()\n",
    "        net.save_weights()\n",
    "    \n",
    "    # Load the model and Test\n",
    "    if(TEST):\n",
    "        net.load_weights()\n",
    "        net.test()\n",
    "    "
   ]
  },
  {
   "cell_type": "code",
   "execution_count": null,
   "metadata": {},
   "outputs": [],
   "source": []
  }
 ],
 "metadata": {
  "kernelspec": {
   "display_name": "Python 3",
   "language": "python",
   "name": "python3"
  },
  "language_info": {
   "codemirror_mode": {
    "name": "ipython",
    "version": 3
   },
   "file_extension": ".py",
   "mimetype": "text/x-python",
   "name": "python",
   "nbconvert_exporter": "python",
   "pygments_lexer": "ipython3",
   "version": "3.7.4"
  }
 },
 "nbformat": 4,
 "nbformat_minor": 2
}
