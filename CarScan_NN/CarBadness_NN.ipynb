{
 "cells": [
  {
   "cell_type": "code",
   "execution_count": 1,
   "metadata": {},
   "outputs": [],
   "source": [
    "import datetime\n",
    "import os\n",
    "import numpy as np\n",
    "import scipy.io as sio\n",
    "import torch\n",
    "from torch import nn, optim\n",
    "from tqdm import tqdm\n",
    "from tqdm import trange\n",
    "import matplotlib.pyplot as plt"
   ]
  },
  {
   "cell_type": "code",
   "execution_count": 2,
   "metadata": {},
   "outputs": [],
   "source": [
    "device = torch.device(\"cuda:0\")"
   ]
  },
  {
   "cell_type": "code",
   "execution_count": 3,
   "metadata": {
    "pixiedust": {
     "displayParams": {}
    }
   },
   "outputs": [],
   "source": [
    "def read_data(base_path='./Data',split_size=[0.6, 0.2, 0.2]):  \n",
    "    \"\"\"\n",
    "    Reads all of the .mat files in the given base_path, and returns a dict with the data found there.\n",
    "    :param BASE_PATH: the path where the INPUT DATA will be read.\n",
    "    :param SPLIT_SIZE: gives how much of the data goes to the train/test.\n",
    "    :return: a dict, containing the EES and difference tensors.\n",
    "    \"\"\"\n",
    "    i = 0\n",
    "    for file in os.listdir(base_path):\n",
    "        i = i + 1\n",
    "    pbar = tqdm(total=i)\n",
    "\n",
    "    data_dict = {}\n",
    "    for file in os.listdir(base_path):\n",
    "        num, data_type = file.split('_')\n",
    "        data_type = data_type.split('.')[0]\n",
    "        num = int(num)\n",
    "        if \"EES\" in data_type:\n",
    "            tensor_in = sio.loadmat(os.path.join(base_path, file))['EES_value']\n",
    "            tensor_in = torch.FloatTensor(tensor_in).squeeze(0)\n",
    "        else:\n",
    "            tensor_in = sio.loadmat(os.path.join(base_path, file))['Kulonbseg']\n",
    "            tensor_in = torch.FloatTensor(tensor_in)\n",
    "        try:\n",
    "            data_dict[num][data_type] = tensor_in\n",
    "        except KeyError:\n",
    "            data_dict[num] = {data_type: tensor_in}\n",
    "        pbar.update()\n",
    "    pbar.close()\n",
    "\n",
    "    new_data = []\n",
    "    for key in data_dict.keys():\n",
    "        new_data.append(data_dict[key])\n",
    "    np.random.shuffle(new_data)\n",
    "    if isinstance(split_size, list):\n",
    "        training_samples = int(split_size[0] * len(new_data))\n",
    "        valid_samples = int(split_size[1] * len(new_data))\n",
    "        test_samples = int(split_size[2] * len(new_data))\n",
    "        while sum([training_samples, valid_samples, test_samples]) != len(new_data):\n",
    "            training_samples += 1\n",
    "        #split samples\n",
    "        new_datadict = {'train': new_data[ : training_samples],\n",
    "                        'validation': new_data[training_samples : training_samples + valid_samples],\n",
    "                        'test': new_data[-test_samples : ]}\n",
    "        \n",
    "    else:\n",
    "        new_datadict = {'train': new_data,\n",
    "                        'validation': new_data,\n",
    "                        'test': new_data}\n",
    "    print(\"Adatbetöltés kész\")\n",
    "    return new_datadict"
   ]
  },
  {
   "cell_type": "code",
   "execution_count": 4,
   "metadata": {
    "scrolled": false
   },
   "outputs": [
    {
     "name": "stderr",
     "output_type": "stream",
     "text": [
      "100%|██████████| 100/100 [00:12<00:00,  8.05it/s]\n"
     ]
    },
    {
     "name": "stdout",
     "output_type": "stream",
     "text": [
      "Adatbetöltés kész\n"
     ]
    }
   ],
   "source": [
    "# Load the data and get the splitted dataset\n",
    "dataset = read_data()"
   ]
  },
  {
   "cell_type": "code",
   "execution_count": 5,
   "metadata": {},
   "outputs": [],
   "source": [
    "class Classificator:\n",
    "\n",
    "    #-------------------------\n",
    "    # Label   Class\n",
    "    #-------------------------\n",
    "    # 0:      Not damaged\n",
    "    # 1:      Slightly damaged\n",
    "    # 2:      Damaged\n",
    "    # 3:      Very damaged\n",
    "    #-------------------------\n",
    "    \n",
    "    def getClassName(self, c):\n",
    "        if c==0:\n",
    "            n = \"Not Damaged\"\n",
    "        elif c==1:\n",
    "            n = \"Slightly damaged\"\n",
    "        elif c==2:\n",
    "            n = \"Damaged\"\n",
    "        elif c==3:\n",
    "            n = \"Very damaged\"\n",
    "        return n;\n",
    "    \n",
    "    def getClass(self, x):\n",
    "        x = int(x)\n",
    "        \n",
    "        if x==0:\n",
    "            return 0      \n",
    "        if x<=100/3:\n",
    "            return 1\n",
    "        elif  x>100/3 and x<200/3:\n",
    "            return 2\n",
    "        else:\n",
    "            return 3\n",
    "    \n",
    "    # Compare Prediction and Label classes\n",
    "    def isCorrect(self, prediction, label):\n",
    "        return self.getClass(prediction) == self.getClass(label)"
   ]
  },
  {
   "cell_type": "code",
   "execution_count": 6,
   "metadata": {
    "pixiedust": {
     "displayParams": {}
    }
   },
   "outputs": [],
   "source": [
    "class CarBadnessGuesser(nn.Module):\n",
    "    def __init__(self, lr=0.01):\n",
    "        super(CarBadnessGuesser, self).__init__()\n",
    "\n",
    "        self.valid_freq = 10\n",
    "\n",
    "        self.model = nn.Sequential(\n",
    "            nn.Conv3d(in_channels=1, out_channels=3, kernel_size=(10, 5, 5), stride=(10, 5, 5)),\n",
    "            nn.BatchNorm3d(3),\n",
    "            nn.Conv3d(in_channels=3, out_channels=2, kernel_size=5),\n",
    "            nn.BatchNorm3d(2),\n",
    "            nn.Conv3d(in_channels=2, out_channels=1, kernel_size=3),\n",
    "            nn.BatchNorm3d(1),\n",
    "            nn.AdaptiveMaxPool3d((1, 1, 10)),\n",
    "        ) \n",
    "        \n",
    "        self.linear = nn.Sequential(\n",
    "            nn.Linear(in_features=10, out_features=5),\n",
    "            nn.ReLU(),\n",
    "            nn.Linear(in_features=5, out_features=1),\n",
    "            nn.ReLU()\n",
    "        )\n",
    "        if torch.cuda.is_available():\n",
    "            self.linear.cuda()\n",
    "            self.model.cuda()\n",
    "\n",
    "        self.loss_fn = nn.MSELoss()\n",
    "        self.optimizer = optim.Adam(list(self.model.parameters()) + list(self.linear.parameters()), lr=lr)\n",
    "        \n",
    "        self.classificator = Classificator()\n",
    "\n",
    "    def forward(self, x):\n",
    "        conv_out = self.model(x.unsqueeze(0).unsqueeze(0))\n",
    "        return self.linear(conv_out.squeeze(-2).squeeze(-2))\n",
    "\n",
    "    def train(self, epochs=50):\n",
    "        b_loss = []\n",
    "        v_loss = []\n",
    "    \n",
    "        for epoch in trange(epochs):\n",
    "            t_correct = 0\n",
    "            total = 0\n",
    "            for step, data in enumerate(dataset[\"train\"]):\n",
    "                input_data = data['KUL'].cuda()\n",
    "                label = data['EES'].cuda()\n",
    "                \n",
    "                prediction = self(input_data)\n",
    "                loss = self.loss_fn(prediction, label)\n",
    "                #print('training- ', 'y^', prediction.item(), 'y', label.item(), loss.item())\n",
    "                \n",
    "                loss.backward()     \n",
    "                self.optimizer.step()\n",
    "                b_loss.append(loss.item())\n",
    "                \n",
    "                #check if its prediction matches label class\n",
    "                if( self.classificator.isCorrect(prediction.item(), label.item()) ):\n",
    "                    t_correct += 1;\n",
    "                total += 1;\n",
    "                \n",
    "                self.zero_grad()\n",
    "            if epoch % self.valid_freq and epoch != 0:\n",
    "                #calculate the training accuracy\n",
    "                t_acc = t_correct/total * 100\n",
    "                #print(f'Batch loss: {loss.item()}', flush=True)\n",
    "             \n",
    "                vloss, v_acc = self.validation()\n",
    "                v_loss.append(vloss)\n",
    "                print(f'Validation loss:', vloss, flush=True)\n",
    "\n",
    "                \n",
    "        print('Training acc:', t_acc, '%')\n",
    "        print('Validation acc: ', v_acc, '%')  \n",
    "        plt.plot(v_loss)\n",
    "        plt.ylabel('Validation loss')\n",
    "        plt.show()\n",
    "        plt.plot(b_loss)\n",
    "        plt.ylabel('Batch loss')\n",
    "        plt.show()\n",
    "\n",
    "    def validation(self):\n",
    "        \"\"\"\n",
    "        Runs the validation phase of the training\n",
    "        :return: The validation loss average\n",
    "        \"\"\"\n",
    "        v_correct = 0\n",
    "        total = 0\n",
    "        average_loss = 0\n",
    "        step = 0\n",
    "        \n",
    "        for step, data in enumerate(dataset['validation']):\n",
    "            with torch.no_grad():\n",
    "                input_data = data['KUL'].cuda()\n",
    "                label = data['EES'].cuda()\n",
    "                \n",
    "                prediction = self(input_data)\n",
    "                loss = self.loss_fn(prediction, label)               \n",
    "                #print('validation- ', 'y^', prediction.item(), 'y', label.item(), loss.item())\n",
    "                #print('v_correct', v_correct, 'total',total)\n",
    "                \n",
    "                average_loss += loss.item()\n",
    "                \n",
    "                #check if its correct\n",
    "                c = self.classificator.isCorrect(prediction.item(), label.item())\n",
    "                if(c == True):\n",
    "                    v_correct += 1;\n",
    "                total += 1;\n",
    "        \n",
    "        #calculate the validation accuracy\n",
    "        v_acc = v_correct/total * 100\n",
    "        return average_loss / (step + 1), v_acc\n",
    "        print(\"Validation is complete\")\n",
    "        \n",
    "\n",
    "    def test(self):\n",
    "        \"\"\"\n",
    "        Runs the evaluation of the network.\n",
    "        :return: average loss for the test\n",
    "        \"\"\"\n",
    "        t_correct = 0\n",
    "        total = 0\n",
    "        average_loss = 0\n",
    "        step = 0\n",
    "        \n",
    "        for step, data in enumerate(dataset['test']):\n",
    "            with torch.no_grad():\n",
    "                input_data = data['KUL'].cuda()\n",
    "                prediction = self(input_data)\n",
    "                \n",
    "                loss = self.loss_fn(prediction, data['EES'].cuda())\n",
    "                \n",
    "                print('---------------------------------')\n",
    "                print()\n",
    "                print('Prediction: ', prediction.item())\n",
    "                print('Excpected:  ', data['EES'].cuda().item())   \n",
    "                print()\n",
    "                prediction_label = self.classificator.getClass(prediction.item())\n",
    "                print('Class:          ', self.classificator.getClassName(prediction_label))\n",
    "                expected_label = self.classificator.getClass(data['EES'].cuda())\n",
    "                print('Expected Class: ', self.classificator.getClassName(expected_label))\n",
    "                print()\n",
    "                print('loss: ', loss.item())\n",
    "                print()\n",
    "                \n",
    "                #check if its correct\n",
    "                c = self.classificator.isCorrect(prediction.item(), data['EES'].cuda().item())\n",
    "                if(c == True):\n",
    "                    t_correct += 1;\n",
    "                total += 1;\n",
    "                \n",
    "                average_loss += loss.item()\n",
    "\n",
    "        #calculate the test accuracy\n",
    "        t_acc = t_correct/total * 100          \n",
    "        average_loss = average_loss / step   \n",
    "        print()\n",
    "        print('---------------------------------')\n",
    "        print('Test Accuracy: ', t_acc, ' %')\n",
    "        print('Average Loss:  ', average_loss)\n",
    "        print('---------------------------------')\n",
    "        print()\n",
    "        print(\"Test is completed\")       \n",
    "        return average_loss\n",
    "\n",
    "\n",
    "    def save_weights(self, save_dir=\"./training\"):\n",
    "        \"\"\"\n",
    "        Saves weights to the given directory plus the timestamp\n",
    "        :return: none\n",
    "        \"\"\"\n",
    "        timestamp = datetime.datetime.now().strftime(\"%Y_%m_%d_%H_%M_%S.%d\")\n",
    "        save_path = os.path.join(save_dir, timestamp)\n",
    "        if not os.path.exists(save_path):\n",
    "            os.makedirs(save_path)\n",
    "        # save model within Training folder with timestamp together with preivous models\n",
    "        torch.save(self.state_dict(), os.path.join(save_path, 'model.weights'))\n",
    "        # save last model within Weights folder (overwrite)\n",
    "        torch.save(self.state_dict(), './weights/model.weights')\n",
    "\n",
    "    def load_weights(self):\n",
    "        self.load_state_dict = torch.load('./weights/model.weights')\n",
    "        print(\"loading weights is complete\")\n"
   ]
  },
  {
   "cell_type": "code",
   "execution_count": 7,
   "metadata": {
    "scrolled": false
   },
   "outputs": [
    {
     "name": "stderr",
     "output_type": "stream",
     "text": [
      "  0%|          | 0/50 [00:00<?, ?it/s]C:\\Users\\igorr\\Anaconda3\\lib\\site-packages\\torch\\nn\\modules\\loss.py:431: UserWarning: Using a target size (torch.Size([1])) that is different to the input size (torch.Size([1, 1, 1])). This will likely lead to incorrect results due to broadcasting. Please ensure they have the same size.\n",
      "  return F.mse_loss(input, target, reduction=self.reduction)\n",
      "  2%|▏         | 1/50 [00:03<02:32,  3.10s/it]"
     ]
    },
    {
     "name": "stdout",
     "output_type": "stream",
     "text": [
      "Validation loss: 392.040283203125\n"
     ]
    },
    {
     "name": "stderr",
     "output_type": "stream",
     "text": [
      "\r",
      "  4%|▍         | 2/50 [00:04<02:07,  2.66s/it]"
     ]
    },
    {
     "name": "stdout",
     "output_type": "stream",
     "text": [
      "Validation loss: 176.81336517333983\n"
     ]
    },
    {
     "name": "stderr",
     "output_type": "stream",
     "text": [
      "\r",
      "  6%|▌         | 3/50 [00:06<01:50,  2.34s/it]"
     ]
    },
    {
     "name": "stdout",
     "output_type": "stream",
     "text": [
      "Validation loss: 539.4522216796875\n"
     ]
    },
    {
     "name": "stderr",
     "output_type": "stream",
     "text": [
      "\r",
      "  8%|▊         | 4/50 [00:07<01:38,  2.13s/it]"
     ]
    },
    {
     "name": "stdout",
     "output_type": "stream",
     "text": [
      "Validation loss: 72.58234369941056\n"
     ]
    },
    {
     "name": "stderr",
     "output_type": "stream",
     "text": [
      "\r",
      " 10%|█         | 5/50 [00:09<01:28,  1.97s/it]"
     ]
    },
    {
     "name": "stdout",
     "output_type": "stream",
     "text": [
      "Validation loss: 403.6458908081055\n"
     ]
    },
    {
     "name": "stderr",
     "output_type": "stream",
     "text": [
      "\r",
      " 12%|█▏        | 6/50 [00:11<01:22,  1.87s/it]"
     ]
    },
    {
     "name": "stdout",
     "output_type": "stream",
     "text": [
      "Validation loss: 120.99157648086548\n"
     ]
    },
    {
     "name": "stderr",
     "output_type": "stream",
     "text": [
      "\r",
      " 14%|█▍        | 7/50 [00:12<01:17,  1.80s/it]"
     ]
    },
    {
     "name": "stdout",
     "output_type": "stream",
     "text": [
      "Validation loss: 239.06736907958984\n"
     ]
    },
    {
     "name": "stderr",
     "output_type": "stream",
     "text": [
      "\r",
      " 16%|█▌        | 8/50 [00:14<01:13,  1.74s/it]"
     ]
    },
    {
     "name": "stdout",
     "output_type": "stream",
     "text": [
      "Validation loss: 189.0157554626465\n"
     ]
    },
    {
     "name": "stderr",
     "output_type": "stream",
     "text": [
      "\r",
      " 18%|█▊        | 9/50 [00:16<01:09,  1.70s/it]"
     ]
    },
    {
     "name": "stdout",
     "output_type": "stream",
     "text": [
      "Validation loss: 148.3483093261719\n"
     ]
    },
    {
     "name": "stderr",
     "output_type": "stream",
     "text": [
      " 22%|██▏       | 11/50 [00:19<01:01,  1.58s/it]"
     ]
    },
    {
     "name": "stdout",
     "output_type": "stream",
     "text": [
      "Validation loss: 148.8328125\n"
     ]
    },
    {
     "name": "stderr",
     "output_type": "stream",
     "text": [
      "\r",
      " 24%|██▍       | 12/50 [00:20<01:00,  1.59s/it]"
     ]
    },
    {
     "name": "stdout",
     "output_type": "stream",
     "text": [
      "Validation loss: 161.7393768310547\n"
     ]
    },
    {
     "name": "stderr",
     "output_type": "stream",
     "text": [
      "\r",
      " 26%|██▌       | 13/50 [00:22<00:59,  1.61s/it]"
     ]
    },
    {
     "name": "stdout",
     "output_type": "stream",
     "text": [
      "Validation loss: 194.35913848876953\n"
     ]
    },
    {
     "name": "stderr",
     "output_type": "stream",
     "text": [
      "\r",
      " 28%|██▊       | 14/50 [00:23<00:57,  1.60s/it]"
     ]
    },
    {
     "name": "stdout",
     "output_type": "stream",
     "text": [
      "Validation loss: 216.89400329589844\n"
     ]
    },
    {
     "name": "stderr",
     "output_type": "stream",
     "text": [
      "\r",
      " 30%|███       | 15/50 [00:25<00:56,  1.62s/it]"
     ]
    },
    {
     "name": "stdout",
     "output_type": "stream",
     "text": [
      "Validation loss: 180.130912399292\n"
     ]
    },
    {
     "name": "stderr",
     "output_type": "stream",
     "text": [
      "\r",
      " 32%|███▏      | 16/50 [00:27<00:55,  1.62s/it]"
     ]
    },
    {
     "name": "stdout",
     "output_type": "stream",
     "text": [
      "Validation loss: 183.4118282318115\n"
     ]
    },
    {
     "name": "stderr",
     "output_type": "stream",
     "text": [
      "\r",
      " 34%|███▍      | 17/50 [00:28<00:53,  1.63s/it]"
     ]
    },
    {
     "name": "stdout",
     "output_type": "stream",
     "text": [
      "Validation loss: 171.92673435211182\n"
     ]
    },
    {
     "name": "stderr",
     "output_type": "stream",
     "text": [
      "\r",
      " 36%|███▌      | 18/50 [00:30<00:51,  1.62s/it]"
     ]
    },
    {
     "name": "stdout",
     "output_type": "stream",
     "text": [
      "Validation loss: 152.66454458236694\n"
     ]
    },
    {
     "name": "stderr",
     "output_type": "stream",
     "text": [
      "\r",
      " 38%|███▊      | 19/50 [00:32<00:50,  1.63s/it]"
     ]
    },
    {
     "name": "stdout",
     "output_type": "stream",
     "text": [
      "Validation loss: 145.87978053092957\n"
     ]
    },
    {
     "name": "stderr",
     "output_type": "stream",
     "text": [
      " 42%|████▏     | 21/50 [00:35<00:45,  1.56s/it]"
     ]
    },
    {
     "name": "stdout",
     "output_type": "stream",
     "text": [
      "Validation loss: 95.80326261520386\n"
     ]
    },
    {
     "name": "stderr",
     "output_type": "stream",
     "text": [
      "\r",
      " 44%|████▍     | 22/50 [00:36<00:44,  1.59s/it]"
     ]
    },
    {
     "name": "stdout",
     "output_type": "stream",
     "text": [
      "Validation loss: 97.41121081709862\n"
     ]
    },
    {
     "name": "stderr",
     "output_type": "stream",
     "text": [
      "\r",
      " 46%|████▌     | 23/50 [00:38<00:43,  1.60s/it]"
     ]
    },
    {
     "name": "stdout",
     "output_type": "stream",
     "text": [
      "Validation loss: 97.0985320687294\n"
     ]
    },
    {
     "name": "stderr",
     "output_type": "stream",
     "text": [
      "\r",
      " 48%|████▊     | 24/50 [00:39<00:41,  1.60s/it]"
     ]
    },
    {
     "name": "stdout",
     "output_type": "stream",
     "text": [
      "Validation loss: 104.0643140077591\n"
     ]
    },
    {
     "name": "stderr",
     "output_type": "stream",
     "text": [
      "\r",
      " 50%|█████     | 25/50 [00:41<00:40,  1.60s/it]"
     ]
    },
    {
     "name": "stdout",
     "output_type": "stream",
     "text": [
      "Validation loss: 107.49956645965577\n"
     ]
    },
    {
     "name": "stderr",
     "output_type": "stream",
     "text": [
      "\r",
      " 52%|█████▏    | 26/50 [00:43<00:38,  1.62s/it]"
     ]
    },
    {
     "name": "stdout",
     "output_type": "stream",
     "text": [
      "Validation loss: 82.67639440894126\n"
     ]
    },
    {
     "name": "stderr",
     "output_type": "stream",
     "text": [
      "\r",
      " 54%|█████▍    | 27/50 [00:44<00:37,  1.65s/it]"
     ]
    },
    {
     "name": "stdout",
     "output_type": "stream",
     "text": [
      "Validation loss: 91.80191515386105\n"
     ]
    },
    {
     "name": "stderr",
     "output_type": "stream",
     "text": [
      "\r",
      " 56%|█████▌    | 28/50 [00:46<00:37,  1.70s/it]"
     ]
    },
    {
     "name": "stdout",
     "output_type": "stream",
     "text": [
      "Validation loss: 103.56955305337905\n"
     ]
    },
    {
     "name": "stderr",
     "output_type": "stream",
     "text": [
      "\r",
      " 58%|█████▊    | 29/50 [00:48<00:36,  1.73s/it]"
     ]
    },
    {
     "name": "stdout",
     "output_type": "stream",
     "text": [
      "Validation loss: 107.55109955668449\n"
     ]
    },
    {
     "name": "stderr",
     "output_type": "stream",
     "text": [
      " 62%|██████▏   | 31/50 [00:51<00:30,  1.61s/it]"
     ]
    },
    {
     "name": "stdout",
     "output_type": "stream",
     "text": [
      "Validation loss: 84.37759860940278\n"
     ]
    },
    {
     "name": "stderr",
     "output_type": "stream",
     "text": [
      "\r",
      " 64%|██████▍   | 32/50 [00:53<00:28,  1.60s/it]"
     ]
    },
    {
     "name": "stdout",
     "output_type": "stream",
     "text": [
      "Validation loss: 67.18999955691397\n"
     ]
    },
    {
     "name": "stderr",
     "output_type": "stream",
     "text": [
      "\r",
      " 66%|██████▌   | 33/50 [00:54<00:27,  1.62s/it]"
     ]
    },
    {
     "name": "stdout",
     "output_type": "stream",
     "text": [
      "Validation loss: 43.92383677512407\n"
     ]
    },
    {
     "name": "stderr",
     "output_type": "stream",
     "text": [
      "\r",
      " 68%|██████▊   | 34/50 [00:56<00:25,  1.62s/it]"
     ]
    },
    {
     "name": "stdout",
     "output_type": "stream",
     "text": [
      "Validation loss: 38.412485076859596\n"
     ]
    },
    {
     "name": "stderr",
     "output_type": "stream",
     "text": [
      "\r",
      " 70%|███████   | 35/50 [00:58<00:24,  1.62s/it]"
     ]
    },
    {
     "name": "stdout",
     "output_type": "stream",
     "text": [
      "Validation loss: 31.735175914689897\n"
     ]
    },
    {
     "name": "stderr",
     "output_type": "stream",
     "text": [
      "\r",
      " 72%|███████▏  | 36/50 [00:59<00:22,  1.62s/it]"
     ]
    },
    {
     "name": "stdout",
     "output_type": "stream",
     "text": [
      "Validation loss: 27.395668113604188\n"
     ]
    },
    {
     "name": "stderr",
     "output_type": "stream",
     "text": [
      "\r",
      " 74%|███████▍  | 37/50 [01:01<00:20,  1.61s/it]"
     ]
    },
    {
     "name": "stdout",
     "output_type": "stream",
     "text": [
      "Validation loss: 28.974106900393963\n"
     ]
    },
    {
     "name": "stderr",
     "output_type": "stream",
     "text": [
      "\r",
      " 76%|███████▌  | 38/50 [01:02<00:19,  1.62s/it]"
     ]
    },
    {
     "name": "stdout",
     "output_type": "stream",
     "text": [
      "Validation loss: 28.644451935589313\n"
     ]
    },
    {
     "name": "stderr",
     "output_type": "stream",
     "text": [
      "\r",
      " 78%|███████▊  | 39/50 [01:04<00:17,  1.62s/it]"
     ]
    },
    {
     "name": "stdout",
     "output_type": "stream",
     "text": [
      "Validation loss: 30.938490287587047\n"
     ]
    },
    {
     "name": "stderr",
     "output_type": "stream",
     "text": [
      " 82%|████████▏ | 41/50 [01:07<00:14,  1.56s/it]"
     ]
    },
    {
     "name": "stdout",
     "output_type": "stream",
     "text": [
      "Validation loss: 33.049077744036914\n"
     ]
    },
    {
     "name": "stderr",
     "output_type": "stream",
     "text": [
      "\r",
      " 84%|████████▍ | 42/50 [01:09<00:12,  1.61s/it]"
     ]
    },
    {
     "name": "stdout",
     "output_type": "stream",
     "text": [
      "Validation loss: 33.725314766913655\n"
     ]
    },
    {
     "name": "stderr",
     "output_type": "stream",
     "text": [
      "\r",
      " 86%|████████▌ | 43/50 [01:11<00:11,  1.63s/it]"
     ]
    },
    {
     "name": "stdout",
     "output_type": "stream",
     "text": [
      "Validation loss: 34.3414049513638\n"
     ]
    },
    {
     "name": "stderr",
     "output_type": "stream",
     "text": [
      "\r",
      " 88%|████████▊ | 44/50 [01:12<00:09,  1.65s/it]"
     ]
    },
    {
     "name": "stdout",
     "output_type": "stream",
     "text": [
      "Validation loss: 34.636261738464235\n"
     ]
    },
    {
     "name": "stderr",
     "output_type": "stream",
     "text": [
      "\r",
      " 90%|█████████ | 45/50 [01:14<00:08,  1.67s/it]"
     ]
    },
    {
     "name": "stdout",
     "output_type": "stream",
     "text": [
      "Validation loss: 35.65077078081667\n"
     ]
    },
    {
     "name": "stderr",
     "output_type": "stream",
     "text": [
      "\r",
      " 92%|█████████▏| 46/50 [01:16<00:06,  1.70s/it]"
     ]
    },
    {
     "name": "stdout",
     "output_type": "stream",
     "text": [
      "Validation loss: 35.197235624864696\n"
     ]
    },
    {
     "name": "stderr",
     "output_type": "stream",
     "text": [
      "\r",
      " 94%|█████████▍| 47/50 [01:17<00:05,  1.69s/it]"
     ]
    },
    {
     "name": "stdout",
     "output_type": "stream",
     "text": [
      "Validation loss: 35.57630108594894\n"
     ]
    },
    {
     "name": "stderr",
     "output_type": "stream",
     "text": [
      "\r",
      " 96%|█████████▌| 48/50 [01:19<00:03,  1.71s/it]"
     ]
    },
    {
     "name": "stdout",
     "output_type": "stream",
     "text": [
      "Validation loss: 36.302091306447984\n"
     ]
    },
    {
     "name": "stderr",
     "output_type": "stream",
     "text": [
      "\r",
      " 98%|█████████▊| 49/50 [01:21<00:01,  1.70s/it]"
     ]
    },
    {
     "name": "stdout",
     "output_type": "stream",
     "text": [
      "Validation loss: 36.49488668143749\n"
     ]
    },
    {
     "name": "stderr",
     "output_type": "stream",
     "text": [
      "100%|██████████| 50/50 [01:23<00:00,  1.66s/it]\n"
     ]
    },
    {
     "name": "stdout",
     "output_type": "stream",
     "text": [
      "Training acc: 93.33333333333333 %\n",
      "Validation acc:  100.0 %\n"
     ]
    },
    {
     "data": {
      "image/png": "[encoded data removed]",
      "text/plain": [
       "<Figure size 432x288 with 1 Axes>"
      ]
     },
     "metadata": {
      "needs_background": "light"
     },
     "output_type": "display_data"
    },
    {
     "data": {
      "image/png": "[encoded data removed]",
      "text/plain": [
       "<Figure size 432x288 with 1 Axes>"
      ]
     },
     "metadata": {
      "needs_background": "light"
     },
     "output_type": "display_data"
    },
    {
     "name": "stdout",
     "output_type": "stream",
     "text": [
      "loading weights is complete\n",
      "---------------------------------\n",
      "\n",
      "Prediction:  15.87420654296875\n",
      "Excpected:   7.726019859313965\n",
      "\n",
      "Class:           Slightly damaged\n",
      "Expected Class:  Slightly damaged\n",
      "\n",
      "loss:  66.3929443359375\n",
      "\n",
      "---------------------------------\n",
      "\n",
      "Prediction:  25.991798400878906\n",
      "Excpected:   20.254056930541992\n",
      "\n",
      "Class:           Slightly damaged\n",
      "Expected Class:  Slightly damaged\n",
      "\n",
      "loss:  32.92167663574219\n",
      "\n",
      "---------------------------------\n",
      "\n",
      "Prediction:  0.5163233280181885\n",
      "Excpected:   0.02112000063061714\n",
      "\n",
      "Class:           Not Damaged\n",
      "Expected Class:  Not Damaged\n",
      "\n",
      "loss:  0.24522632360458374\n",
      "\n",
      "---------------------------------\n",
      "\n",
      "Prediction:  30.475635528564453\n",
      "Excpected:   36.852481842041016\n",
      "\n",
      "Class:           Slightly damaged\n",
      "Expected Class:  Damaged\n",
      "\n",
      "loss:  40.66416931152344\n",
      "\n",
      "---------------------------------\n",
      "\n",
      "Prediction:  0.5163233280181885\n",
      "Excpected:   0.5008800029754639\n",
      "\n",
      "Class:           Not Damaged\n",
      "Expected Class:  Not Damaged\n",
      "\n",
      "loss:  0.00023849628632888198\n",
      "\n",
      "---------------------------------\n",
      "\n",
      "Prediction:  43.49581527709961\n",
      "Excpected:   53.0057258605957\n",
      "\n",
      "Class:           Damaged\n",
      "Expected Class:  Damaged\n",
      "\n",
      "loss:  90.43840026855469\n",
      "\n",
      "---------------------------------\n",
      "\n",
      "Prediction:  0.5163233280181885\n",
      "Excpected:   0.16387200355529785\n",
      "\n",
      "Class:           Not Damaged\n",
      "Expected Class:  Not Damaged\n",
      "\n",
      "loss:  0.12422193586826324\n",
      "\n",
      "---------------------------------\n",
      "\n",
      "Prediction:  12.929862976074219\n",
      "Excpected:   4.775603771209717\n",
      "\n",
      "Class:           Slightly damaged\n",
      "Expected Class:  Slightly damaged\n",
      "\n",
      "loss:  66.49193572998047\n",
      "\n",
      "---------------------------------\n",
      "\n",
      "Prediction:  16.249448776245117\n",
      "Excpected:   6.818376064300537\n",
      "\n",
      "Class:           Slightly damaged\n",
      "Expected Class:  Slightly damaged\n",
      "\n",
      "loss:  88.94512176513672\n",
      "\n",
      "---------------------------------\n",
      "\n",
      "Prediction:  0.5163233280181885\n",
      "Excpected:   0.030047999694943428\n",
      "\n",
      "Class:           Not Damaged\n",
      "Expected Class:  Not Damaged\n",
      "\n",
      "loss:  0.23646368086338043\n",
      "\n",
      "\n",
      "---------------------------------\n",
      "Test Accuracy:  90.0  %\n",
      "Average Loss:   42.940044275944175\n",
      "---------------------------------\n",
      "\n",
      "Test is completed\n"
     ]
    }
   ],
   "source": [
    "if __name__ == \"__main__\":\n",
    "    \n",
    "    # set mode\n",
    "    TRAIN = True\n",
    "    TEST = True\n",
    "    \n",
    "    # instanciate the NN\n",
    "    net = CarBadnessGuesser()\n",
    "    torch.backends.cudnn.enabled = False\n",
    "\n",
    "    # Train, Validate and Save the model\n",
    "    if(TRAIN):\n",
    "        net.train()\n",
    "        net.save_weights()\n",
    "    \n",
    "    # Load the model and Test\n",
    "    if(TEST):\n",
    "        net.load_weights()\n",
    "        net.test()\n",
    "    "
   ]
  }
 ],
 "metadata": {
  "kernelspec": {
   "display_name": "Python 3",
   "language": "python",
   "name": "python3"
  },
  "language_info": {
   "codemirror_mode": {
    "name": "ipython",
    "version": 3
   },
   "file_extension": ".py",
   "mimetype": "text/x-python",
   "name": "python",
   "nbconvert_exporter": "python",
   "pygments_lexer": "ipython3",
   "version": "3.7.4"
  }
 },
 "nbformat": 4,
 "nbformat_minor": 2
}
